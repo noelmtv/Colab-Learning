{
  "nbformat": 4,
  "nbformat_minor": 0,
  "metadata": {
    "colab": {
      "provenance": [],
      "authorship_tag": "ABX9TyNMl6HS+6Q9VKmmfCDw0hch",
      "include_colab_link": true
    },
    "kernelspec": {
      "name": "python3",
      "display_name": "Python 3"
    },
    "language_info": {
      "name": "python"
    }
  },
  "cells": [
    {
      "cell_type": "markdown",
      "metadata": {
        "id": "view-in-github",
        "colab_type": "text"
      },
      "source": [
        "<a href=\"https://colab.research.google.com/github/noelmtv/Colab-Learning/blob/Pyhon-for-Data-Analytics/%5B11%5D_Tuples.ipynb\" target=\"_parent\"><img src=\"https://colab.research.google.com/assets/colab-badge.svg\" alt=\"Open In Colab\"/></a>"
      ]
    },
    {
      "cell_type": "markdown",
      "source": [
        "# **Overview of Tuples in Python (General and in Google Colab)**  \n",
        "\n",
        "Tuples in Python are **immutable** (unchangeable) ordered collections of elements. They are similar to lists but with a few key differences. Since tuples **cannot be modified** after creation, they are useful when you want to store a fixed collection of values.\n",
        "\n",
        "#### **Key Features of Tuples**  \n",
        "- **Immutable** – Once created, elements cannot be changed, added, or removed.  \n",
        "- **Ordered** – Elements maintain their order.  \n",
        "- **Allow Duplicates** – Can contain duplicate values.  \n",
        "- **Heterogeneous** – Can store different data types (integers, strings, floats, etc.).  \n",
        "- **Faster than Lists** – Because of immutability, Python optimizes tuple performance.  \n",
        "\n",
        "---\n",
        "### **Tuples in Google Colab**  \n",
        "Google Colab runs Python in a Jupyter Notebook environment, meaning you can work with tuples the same way you do in regular Python. The **only** difference is the interface—you execute code in cells instead of a script file.\n",
        "\n",
        "---\n",
        "\n",
        "### **Examples**\n",
        "#### **1. Creating a Tuple**\n",
        "```python\n",
        "# A tuple can contain multiple data types\n",
        "my_tuple = (1, \"apple\", 3.14, True)\n",
        "print(my_tuple)\n",
        "```\n",
        "**Output:**\n",
        "```\n",
        "(1, 'apple', 3.14, True)\n",
        "```\n",
        "\n",
        "---\n",
        "\n",
        "#### **2. Accessing Tuple Elements**\n",
        "```python\n",
        "# Accessing elements using index (starting from 0)\n",
        "print(my_tuple[0])  # First element\n",
        "print(my_tuple[1])  # Second element\n",
        "```\n",
        "**Output:**\n",
        "```\n",
        "1\n",
        "apple\n",
        "```\n",
        "\n",
        "---\n",
        "\n",
        "#### **3. Negative Indexing**\n",
        "```python\n",
        "print(my_tuple[-1])  # Last element\n",
        "print(my_tuple[-2])  # Second last element\n",
        "```\n",
        "**Output:**\n",
        "```\n",
        "True\n",
        "3.14\n",
        "```\n",
        "\n",
        "---\n",
        "\n",
        "#### **4. Slicing Tuples**\n",
        "```python\n",
        "new_tuple = (10, 20, 30, 40, 50, 60)\n",
        "print(new_tuple[1:4])  # Elements from index 1 to 3 (4 is excluded)\n",
        "```\n",
        "**Output:**\n",
        "```\n",
        "(20, 30, 40)\n",
        "```\n",
        "\n",
        "---\n",
        "\n",
        "#### **5. Tuple Length**\n",
        "```python\n",
        "print(len(my_tuple))  # Number of elements in the tuple\n",
        "```\n",
        "**Output:**\n",
        "```\n",
        "4\n",
        "```\n",
        "\n",
        "---\n",
        "\n",
        "#### **6. Iterating Through a Tuple**\n",
        "```python\n",
        "for item in my_tuple:\n",
        "    print(item)\n",
        "```\n",
        "**Output:**\n",
        "```\n",
        "1\n",
        "apple\n",
        "3.14\n",
        "True\n",
        "```\n",
        "\n",
        "---\n",
        "\n",
        "#### **7. Checking If an Item Exists**\n",
        "```python\n",
        "print(\"apple\" in my_tuple)  # Returns True\n",
        "print(100 in my_tuple)      # Returns False\n",
        "```\n",
        "\n",
        "---\n",
        "\n",
        "#### **8. Tuples Are Immutable**\n",
        "```python\n",
        "my_tuple[0] = 100  # This will cause an error\n",
        "```\n",
        "**Error:**\n",
        "```\n",
        "TypeError: 'tuple' object does not support item assignment\n",
        "```\n",
        "\n",
        "---\n",
        "\n",
        "#### **9. Tuple Unpacking**\n",
        "```python\n",
        "a, b, c, d = my_tuple  # Assigns each value to a variable\n",
        "print(a, b, c, d)\n",
        "```\n",
        "**Output:**\n",
        "```\n",
        "1 apple 3.14 True\n",
        "```\n",
        "\n",
        "---\n",
        "\n",
        "#### **10. Tuples with One Element (Single-Element Tuple)**\n",
        "```python\n",
        "single_element_tuple = (42,)  # Comma is necessary\n",
        "print(type(single_element_tuple))  # <class 'tuple'>\n",
        "```\n",
        "\n",
        "---\n",
        "\n",
        "### **When to Use Tuples in Google Colab?**\n",
        "- If you need a **fixed collection** of values.\n",
        "- When you want **faster performance** than lists.\n",
        "- To store **data that shouldn't be modified** (e.g., database records, coordinates, etc.).\n",
        "- When using tuples as **dictionary keys** (lists cannot be dictionary keys).\n",
        "\n",
        "Would you like any more clarifications or exercises to practice? 🚀"
      ],
      "metadata": {
        "id": "ySF2SNXf6wyY"
      }
    },
    {
      "cell_type": "markdown",
      "source": [
        "## Lecture workings"
      ],
      "metadata": {
        "id": "R3cgalX37eZ6"
      }
    },
    {
      "cell_type": "code",
      "source": [
        "#  tuples are for fixed data, data that cannot be changed (added, removeed or changed)"
      ],
      "metadata": {
        "id": "zViTv-8u7j1C"
      },
      "execution_count": null,
      "outputs": []
    },
    {
      "cell_type": "code",
      "source": [
        "noels_skills = (\"Capital IQ\", \"Tableau\", \"Excel\")"
      ],
      "metadata": {
        "id": "9KDhPmG576xM"
      },
      "execution_count": null,
      "outputs": []
    },
    {
      "cell_type": "code",
      "source": [
        "noels_skills"
      ],
      "metadata": {
        "colab": {
          "base_uri": "https://localhost:8080/"
        },
        "id": "4q6WRWIH8O8j",
        "outputId": "0e836852-5094-405d-ebe2-7a6b0ee86bfe"
      },
      "execution_count": null,
      "outputs": [
        {
          "output_type": "execute_result",
          "data": {
            "text/plain": [
              "('Capital IQ', 'Tableau', 'Excel')"
            ]
          },
          "metadata": {},
          "execution_count": 3
        }
      ]
    },
    {
      "cell_type": "code",
      "source": [
        "# tuples are indexable\n",
        "noels_skills[2]"
      ],
      "metadata": {
        "colab": {
          "base_uri": "https://localhost:8080/",
          "height": 35
        },
        "id": "ilcu2pUQ8P49",
        "outputId": "026f0671-8ae3-44c0-8279-bcaff78a82f0"
      },
      "execution_count": null,
      "outputs": [
        {
          "output_type": "execute_result",
          "data": {
            "text/plain": [
              "'Excel'"
            ],
            "application/vnd.google.colaboratory.intrinsic+json": {
              "type": "string"
            }
          },
          "metadata": {},
          "execution_count": 4
        }
      ]
    },
    {
      "cell_type": "code",
      "source": [
        "noels_skills.append(\"Python\")\n",
        "# tuples are immutable so cant be appended"
      ],
      "metadata": {
        "colab": {
          "base_uri": "https://localhost:8080/",
          "height": 141
        },
        "id": "CcJDvfg08e-I",
        "outputId": "bae72f9e-822b-4ff8-a6af-0c4752e9dce7"
      },
      "execution_count": null,
      "outputs": [
        {
          "output_type": "error",
          "ename": "AttributeError",
          "evalue": "'tuple' object has no attribute 'append'",
          "traceback": [
            "\u001b[0;31m---------------------------------------------------------------------------\u001b[0m",
            "\u001b[0;31mAttributeError\u001b[0m                            Traceback (most recent call last)",
            "\u001b[0;32m<ipython-input-5-48d205777124>\u001b[0m in \u001b[0;36m<cell line: 0>\u001b[0;34m()\u001b[0m\n\u001b[0;32m----> 1\u001b[0;31m \u001b[0mnoels_skills\u001b[0m\u001b[0;34m.\u001b[0m\u001b[0mappend\u001b[0m\u001b[0;34m(\u001b[0m\u001b[0;34m\"Python\"\u001b[0m\u001b[0;34m)\u001b[0m\u001b[0;34m\u001b[0m\u001b[0;34m\u001b[0m\u001b[0m\n\u001b[0m",
            "\u001b[0;31mAttributeError\u001b[0m: 'tuple' object has no attribute 'append'"
          ]
        }
      ]
    },
    {
      "cell_type": "code",
      "source": [
        "help(tuple)"
      ],
      "metadata": {
        "colab": {
          "base_uri": "https://localhost:8080/"
        },
        "id": "0Qgi_s108lTQ",
        "outputId": "3d915002-bd6d-40ca-e45a-997c8717fe59"
      },
      "execution_count": null,
      "outputs": [
        {
          "output_type": "stream",
          "name": "stdout",
          "text": [
            "Help on class tuple in module builtins:\n",
            "\n",
            "class tuple(object)\n",
            " |  tuple(iterable=(), /)\n",
            " |  \n",
            " |  Built-in immutable sequence.\n",
            " |  \n",
            " |  If no argument is given, the constructor returns an empty tuple.\n",
            " |  If iterable is specified the tuple is initialized from iterable's items.\n",
            " |  \n",
            " |  If the argument is a tuple, the return value is the same object.\n",
            " |  \n",
            " |  Built-in subclasses:\n",
            " |      asyncgen_hooks\n",
            " |      UnraisableHookArgs\n",
            " |  \n",
            " |  Methods defined here:\n",
            " |  \n",
            " |  __add__(self, value, /)\n",
            " |      Return self+value.\n",
            " |  \n",
            " |  __contains__(self, key, /)\n",
            " |      Return key in self.\n",
            " |  \n",
            " |  __eq__(self, value, /)\n",
            " |      Return self==value.\n",
            " |  \n",
            " |  __ge__(self, value, /)\n",
            " |      Return self>=value.\n",
            " |  \n",
            " |  __getattribute__(self, name, /)\n",
            " |      Return getattr(self, name).\n",
            " |  \n",
            " |  __getitem__(self, key, /)\n",
            " |      Return self[key].\n",
            " |  \n",
            " |  __getnewargs__(self, /)\n",
            " |  \n",
            " |  __gt__(self, value, /)\n",
            " |      Return self>value.\n",
            " |  \n",
            " |  __hash__(self, /)\n",
            " |      Return hash(self).\n",
            " |  \n",
            " |  __iter__(self, /)\n",
            " |      Implement iter(self).\n",
            " |  \n",
            " |  __le__(self, value, /)\n",
            " |      Return self<=value.\n",
            " |  \n",
            " |  __len__(self, /)\n",
            " |      Return len(self).\n",
            " |  \n",
            " |  __lt__(self, value, /)\n",
            " |      Return self<value.\n",
            " |  \n",
            " |  __mul__(self, value, /)\n",
            " |      Return self*value.\n",
            " |  \n",
            " |  __ne__(self, value, /)\n",
            " |      Return self!=value.\n",
            " |  \n",
            " |  __repr__(self, /)\n",
            " |      Return repr(self).\n",
            " |  \n",
            " |  __rmul__(self, value, /)\n",
            " |      Return value*self.\n",
            " |  \n",
            " |  count(self, value, /)\n",
            " |      Return number of occurrences of value.\n",
            " |  \n",
            " |  index(self, value, start=0, stop=9223372036854775807, /)\n",
            " |      Return first index of value.\n",
            " |      \n",
            " |      Raises ValueError if the value is not present.\n",
            " |  \n",
            " |  ----------------------------------------------------------------------\n",
            " |  Class methods defined here:\n",
            " |  \n",
            " |  __class_getitem__(...)\n",
            " |      See PEP 585\n",
            " |  \n",
            " |  ----------------------------------------------------------------------\n",
            " |  Static methods defined here:\n",
            " |  \n",
            " |  __new__(*args, **kwargs)\n",
            " |      Create and return a new object.  See help(type) for accurate signature.\n",
            "\n"
          ]
        }
      ]
    },
    {
      "cell_type": "code",
      "source": [
        "# adding to a tupple is creating a new tuple altogher\n",
        "\n",
        "new_skills = (\"Python\",\"R\")\n",
        "\n",
        "noels_skills + new_skills"
      ],
      "metadata": {
        "colab": {
          "base_uri": "https://localhost:8080/"
        },
        "id": "rE7zGlcO8o4R",
        "outputId": "832d56c7-1b5e-44dd-8195-a66e75b68028"
      },
      "execution_count": null,
      "outputs": [
        {
          "output_type": "execute_result",
          "data": {
            "text/plain": [
              "('Capital IQ', 'Tableau', 'Excel', 'Python', 'R')"
            ]
          },
          "metadata": {},
          "execution_count": 7
        }
      ]
    },
    {
      "cell_type": "code",
      "source": [
        "noels_skills += new_skills\n",
        "# essentially the __add__ function\n",
        "noels_skills"
      ],
      "metadata": {
        "colab": {
          "base_uri": "https://localhost:8080/"
        },
        "id": "SulYNGrZ9Pk4",
        "outputId": "1d7d64fa-6d23-4604-c899-849e77744016"
      },
      "execution_count": null,
      "outputs": [
        {
          "output_type": "execute_result",
          "data": {
            "text/plain": [
              "('Capital IQ', 'Tableau', 'Excel', 'Python', 'R')"
            ]
          },
          "metadata": {},
          "execution_count": 8
        }
      ]
    }
  ]
}