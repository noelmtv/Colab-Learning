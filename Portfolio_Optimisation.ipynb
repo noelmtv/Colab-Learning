{
  "nbformat": 4,
  "nbformat_minor": 0,
  "metadata": {
    "colab": {
      "provenance": [],
      "authorship_tag": "ABX9TyOLq/bS4+6KgORozrxLYVFL",
      "include_colab_link": true
    },
    "kernelspec": {
      "name": "python3",
      "display_name": "Python 3"
    },
    "language_info": {
      "name": "python"
    }
  },
  "cells": [
    {
      "cell_type": "markdown",
      "metadata": {
        "id": "view-in-github",
        "colab_type": "text"
      },
      "source": [
        "<a href=\"https://colab.research.google.com/github/noelmtv/Colab-Learning/blob/main/Portfolio_Optimisation.ipynb\" target=\"_parent\"><img src=\"https://colab.research.google.com/assets/colab-badge.svg\" alt=\"Open In Colab\"/></a>"
      ]
    },
    {
      "cell_type": "code",
      "execution_count": 1,
      "metadata": {
        "colab": {
          "base_uri": "https://localhost:8080/"
        },
        "id": "d9eaifKFyqhP",
        "outputId": "c16d7d8a-e16f-4d59-b741-8471ce8d5b59"
      },
      "outputs": [
        {
          "output_type": "stream",
          "name": "stdout",
          "text": [
            "Collecting fredapi\n",
            "  Downloading fredapi-0.5.2-py3-none-any.whl.metadata (5.0 kB)\n",
            "Requirement already satisfied: pandas in /usr/local/lib/python3.11/dist-packages (from fredapi) (2.2.2)\n",
            "Requirement already satisfied: numpy>=1.23.2 in /usr/local/lib/python3.11/dist-packages (from pandas->fredapi) (2.0.2)\n",
            "Requirement already satisfied: python-dateutil>=2.8.2 in /usr/local/lib/python3.11/dist-packages (from pandas->fredapi) (2.9.0.post0)\n",
            "Requirement already satisfied: pytz>=2020.1 in /usr/local/lib/python3.11/dist-packages (from pandas->fredapi) (2025.2)\n",
            "Requirement already satisfied: tzdata>=2022.7 in /usr/local/lib/python3.11/dist-packages (from pandas->fredapi) (2025.2)\n",
            "Requirement already satisfied: six>=1.5 in /usr/local/lib/python3.11/dist-packages (from python-dateutil>=2.8.2->pandas->fredapi) (1.17.0)\n",
            "Downloading fredapi-0.5.2-py3-none-any.whl (11 kB)\n",
            "Installing collected packages: fredapi\n",
            "Successfully installed fredapi-0.5.2\n"
          ]
        }
      ],
      "source": [
        "# Import libraries#\n",
        "import yfinance as yf\n",
        "import pandas as pd\n",
        "from datetime import datetime, timedelta\n",
        "import numpy as np\n",
        "from scipy.optimize import minimize\n",
        "!pip install fredapi\n",
        "\n"
      ]
    },
    {
      "cell_type": "code",
      "source": [
        "#define the list of tickers#\n",
        "tickers = [\n",
        "    \"ACRE\", \"NYMT\", \"HST\",\"RHP\",\"ARE\",\"SPG\",\"MITT\",\"IIPR\",\"DX\",\"CIM\", \"TWO\", \"NLY\", \"AGNC\", \"RC\", \"ARR\"\n",
        "]\n"
      ],
      "metadata": {
        "id": "XuGvz901z6cP"
      },
      "execution_count": 2,
      "outputs": []
    },
    {
      "cell_type": "code",
      "source": [
        "#SET THE END DATE TO TODAY#\n",
        "end_date = datetime.today()"
      ],
      "metadata": {
        "id": "2Zo4QD1I0Z6u"
      },
      "execution_count": 3,
      "outputs": []
    },
    {
      "cell_type": "code",
      "source": [
        "#Set start date#\n",
        "start_date = end_date - timedelta(days=5*365)\n",
        "print(start_date)"
      ],
      "metadata": {
        "colab": {
          "base_uri": "https://localhost:8080/"
        },
        "id": "X3FJ-BXQ0oMh",
        "outputId": "3970d04a-5642-4a71-890e-7606ef2ee969"
      },
      "execution_count": 4,
      "outputs": [
        {
          "output_type": "stream",
          "name": "stdout",
          "text": [
            "2020-07-03 05:26:03.936623\n"
          ]
        }
      ]
    },
    {
      "cell_type": "code",
      "source": [
        "#download adjusted close prices#\n",
        "#This is done because you dont want to underweight a stock that pays out dividends#\n",
        "adj_close_df = pd.DataFrame()\n",
        "print(adj_close_df.columns)"
      ],
      "metadata": {
        "id": "lrQH6KDQ1EB2",
        "colab": {
          "base_uri": "https://localhost:8080/"
        },
        "outputId": "034981bc-14d8-4b99-b4b5-be3f0542132a"
      },
      "execution_count": 5,
      "outputs": [
        {
          "output_type": "stream",
          "name": "stdout",
          "text": [
            "RangeIndex(start=0, stop=0, step=1)\n"
          ]
        }
      ]
    },
    {
      "cell_type": "code",
      "source": [
        "# Download the prices for each ticker#\n",
        "#yFinance has by default adjusted Open/High/Low/Close, hence no need to specify 'Adj Close'\n",
        "for ticker in tickers:\n",
        "    data = yf.download(ticker, start=start_date, end=end_date)\n",
        "    adj_close_df[ticker] = data[\"Close\"]"
      ],
      "metadata": {
        "colab": {
          "base_uri": "https://localhost:8080/"
        },
        "collapsed": true,
        "id": "quN0_LlK2BT8",
        "outputId": "83d3c3e6-fee3-4917-b88d-32e05db310a7"
      },
      "execution_count": 6,
      "outputs": [
        {
          "output_type": "stream",
          "name": "stderr",
          "text": [
            "/tmp/ipython-input-6-1957566553.py:4: FutureWarning: YF.download() has changed argument auto_adjust default to True\n",
            "  data = yf.download(ticker, start=start_date, end=end_date)\n",
            "[*********************100%***********************]  1 of 1 completed\n",
            "/tmp/ipython-input-6-1957566553.py:4: FutureWarning: YF.download() has changed argument auto_adjust default to True\n",
            "  data = yf.download(ticker, start=start_date, end=end_date)\n",
            "[*********************100%***********************]  1 of 1 completed\n",
            "/tmp/ipython-input-6-1957566553.py:4: FutureWarning: YF.download() has changed argument auto_adjust default to True\n",
            "  data = yf.download(ticker, start=start_date, end=end_date)\n",
            "[*********************100%***********************]  1 of 1 completed\n",
            "/tmp/ipython-input-6-1957566553.py:4: FutureWarning: YF.download() has changed argument auto_adjust default to True\n",
            "  data = yf.download(ticker, start=start_date, end=end_date)\n",
            "[*********************100%***********************]  1 of 1 completed\n",
            "/tmp/ipython-input-6-1957566553.py:4: FutureWarning: YF.download() has changed argument auto_adjust default to True\n",
            "  data = yf.download(ticker, start=start_date, end=end_date)\n",
            "[*********************100%***********************]  1 of 1 completed\n",
            "/tmp/ipython-input-6-1957566553.py:4: FutureWarning: YF.download() has changed argument auto_adjust default to True\n",
            "  data = yf.download(ticker, start=start_date, end=end_date)\n",
            "[*********************100%***********************]  1 of 1 completed\n",
            "/tmp/ipython-input-6-1957566553.py:4: FutureWarning: YF.download() has changed argument auto_adjust default to True\n",
            "  data = yf.download(ticker, start=start_date, end=end_date)\n",
            "[*********************100%***********************]  1 of 1 completed\n",
            "/tmp/ipython-input-6-1957566553.py:4: FutureWarning: YF.download() has changed argument auto_adjust default to True\n",
            "  data = yf.download(ticker, start=start_date, end=end_date)\n",
            "[*********************100%***********************]  1 of 1 completed\n",
            "/tmp/ipython-input-6-1957566553.py:4: FutureWarning: YF.download() has changed argument auto_adjust default to True\n",
            "  data = yf.download(ticker, start=start_date, end=end_date)\n",
            "[*********************100%***********************]  1 of 1 completed\n",
            "/tmp/ipython-input-6-1957566553.py:4: FutureWarning: YF.download() has changed argument auto_adjust default to True\n",
            "  data = yf.download(ticker, start=start_date, end=end_date)\n",
            "[*********************100%***********************]  1 of 1 completed\n",
            "/tmp/ipython-input-6-1957566553.py:4: FutureWarning: YF.download() has changed argument auto_adjust default to True\n",
            "  data = yf.download(ticker, start=start_date, end=end_date)\n",
            "[*********************100%***********************]  1 of 1 completed\n",
            "/tmp/ipython-input-6-1957566553.py:4: FutureWarning: YF.download() has changed argument auto_adjust default to True\n",
            "  data = yf.download(ticker, start=start_date, end=end_date)\n",
            "[*********************100%***********************]  1 of 1 completed\n",
            "/tmp/ipython-input-6-1957566553.py:4: FutureWarning: YF.download() has changed argument auto_adjust default to True\n",
            "  data = yf.download(ticker, start=start_date, end=end_date)\n",
            "[*********************100%***********************]  1 of 1 completed\n",
            "/tmp/ipython-input-6-1957566553.py:4: FutureWarning: YF.download() has changed argument auto_adjust default to True\n",
            "  data = yf.download(ticker, start=start_date, end=end_date)\n",
            "[*********************100%***********************]  1 of 1 completed\n",
            "/tmp/ipython-input-6-1957566553.py:4: FutureWarning: YF.download() has changed argument auto_adjust default to True\n",
            "  data = yf.download(ticker, start=start_date, end=end_date)\n",
            "[*********************100%***********************]  1 of 1 completed\n"
          ]
        }
      ]
    },
    {
      "cell_type": "code",
      "source": [
        "print(adj_close_df)"
      ],
      "metadata": {
        "colab": {
          "base_uri": "https://localhost:8080/"
        },
        "collapsed": true,
        "id": "pakGXYrk2kyP",
        "outputId": "cd45e5a2-5740-4228-c73a-40557d1ed43a"
      },
      "execution_count": 7,
      "outputs": [
        {
          "output_type": "stream",
          "name": "stdout",
          "text": [
            "                ACRE      NYMT        HST         RHP         ARE         SPG  \\\n",
            "Date                                                                            \n",
            "2020-07-06  4.586032  5.525373   9.556283   29.985645  136.468445   51.276340   \n",
            "2020-07-07  4.462809  5.197782   9.240864   28.082504  132.981979   49.044674   \n",
            "2020-07-08  4.452094  5.394335   9.147093   28.100374  133.205582   48.881023   \n",
            "2020-07-09  4.296726  5.110423   8.959550   27.564280  134.364944   46.308327   \n",
            "2020-07-10  4.473525  5.306979   9.240864   28.100374  133.172455   48.554684   \n",
            "...              ...       ...        ...         ...         ...         ...   \n",
            "2025-06-25  4.789696  6.460000  15.303299   97.689781   72.354424  157.399994   \n",
            "2025-06-26  4.847870  6.630000  15.510634   98.965034   72.874886  160.600006   \n",
            "2025-06-27  4.780000  6.650000  15.560000   99.400002   72.050003  160.500000   \n",
            "2025-06-30  4.770000  6.700000  15.360000   98.669998   72.629997  160.759995   \n",
            "2025-07-01  4.800000  6.760000  15.870000  101.449997   74.489998  164.270004   \n",
            "\n",
            "                MITT       IIPR         DX        CIM        TWO        NLY  \\\n",
            "Date                                                                          \n",
            "2020-07-06  6.162580  68.936676   7.810433  15.649555  10.676448  13.419789   \n",
            "2020-07-07  5.780828  65.590996   7.742858  15.010106  10.184348  13.482403   \n",
            "2020-07-08  5.799006  65.733963   7.844220  15.296173  10.569469  13.753720   \n",
            "2020-07-09  5.726291  64.161224   7.641497  14.959626  10.141557  13.482403   \n",
            "2020-07-10  5.762649  64.897545   7.731595  15.060592  10.505281  13.858071   \n",
            "...              ...        ...        ...        ...        ...        ...   \n",
            "2025-06-25  7.477132  54.871971  12.020000  13.543947  10.430000  18.546129   \n",
            "2025-06-26  7.613434  56.003056  12.200000  13.719211  10.700000  18.758196   \n",
            "2025-06-27  7.740000  55.219997  12.120000  13.690001  10.620000  18.709999   \n",
            "2025-06-30  7.550000  55.220001  12.220000  13.870000  10.770000  18.820000   \n",
            "2025-07-01  7.670000  56.689999  12.250000  13.990000  10.890000  19.040001   \n",
            "\n",
            "                AGNC        RC        ARR  \n",
            "Date                                       \n",
            "2020-07-06  6.901863  4.527632  21.414829  \n",
            "2020-07-07  6.843148  4.262857  20.817410  \n",
            "2020-07-08  6.933894  4.257563  21.093143  \n",
            "2020-07-09  6.763080  4.077516  20.426800  \n",
            "2020-07-10  6.784433  4.246972  21.162071  \n",
            "...              ...       ...        ...  \n",
            "2025-06-25  9.110646  4.345833  16.480000  \n",
            "2025-06-26  9.199482  4.443056  16.690001  \n",
            "2025-06-27  9.160000  4.375000  16.580000  \n",
            "2025-06-30  9.190000  4.370000  16.809999  \n",
            "2025-07-01  9.340000  4.570000  16.750000  \n",
            "\n",
            "[1254 rows x 15 columns]\n"
          ]
        }
      ]
    },
    {
      "cell_type": "markdown",
      "source": [
        "**Step 3: Calculate the Lognormal Returns**"
      ],
      "metadata": {
        "id": "88A7eey53rN8"
      }
    },
    {
      "cell_type": "code",
      "source": [
        "#Calculate the Lognormal returns for each ticker#\n",
        "#Use lognormal because the returns are additive#\n",
        "log_returns = np.log(adj_close_df / adj_close_df.shift(1))"
      ],
      "metadata": {
        "id": "ApkkiX9b2wYh"
      },
      "execution_count": 8,
      "outputs": []
    },
    {
      "cell_type": "code",
      "source": [
        "#drop missing values#\n",
        "log_returns = log_returns.dropna()"
      ],
      "metadata": {
        "id": "1ZPYIg8D4W4E"
      },
      "execution_count": 9,
      "outputs": []
    },
    {
      "cell_type": "markdown",
      "source": [
        "**Step 4: Calculate the Covariance Matrix**"
      ],
      "metadata": {
        "id": "t14EE58Q4pbT"
      }
    },
    {
      "cell_type": "code",
      "source": [
        "#helps us calculate standard deviation/risk in the most optimal way possible#\n",
        "# MULTIPLY BY 252 TO ANNUALISE THE DAILY RETURNS#\n",
        "\n",
        "cov_matrix = log_returns.cov() * 252\n",
        "print(cov_matrix)"
      ],
      "metadata": {
        "colab": {
          "base_uri": "https://localhost:8080/"
        },
        "collapsed": true,
        "id": "czSFTE8N45R5",
        "outputId": "98a9e118-0071-4ed1-e792-76ff60f8bd1b"
      },
      "execution_count": 10,
      "outputs": [
        {
          "output_type": "stream",
          "name": "stdout",
          "text": [
            "          ACRE      NYMT       HST       RHP       ARE       SPG      MITT  \\\n",
            "ACRE  0.125667  0.083137  0.065252  0.065619  0.047547  0.062104  0.078645   \n",
            "NYMT  0.083137  0.125002  0.066323  0.068051  0.049119  0.063022  0.087716   \n",
            "HST   0.065252  0.066323  0.125772  0.111529  0.039526  0.082299  0.058114   \n",
            "RHP   0.065619  0.068051  0.111529  0.144857  0.040760  0.086012  0.061224   \n",
            "ARE   0.047547  0.049119  0.039526  0.040760  0.079261  0.045311  0.039102   \n",
            "SPG   0.062104  0.063022  0.082299  0.086012  0.045311  0.108866  0.061768   \n",
            "MITT  0.078645  0.087716  0.058114  0.061224  0.039102  0.061768  0.180757   \n",
            "IIPR  0.055613  0.057015  0.045526  0.053902  0.055401  0.048817  0.055034   \n",
            "DX    0.053827  0.059421  0.036941  0.036372  0.033139  0.036113  0.058554   \n",
            "CIM   0.085134  0.096050  0.060420  0.062257  0.049868  0.062873  0.092473   \n",
            "TWO   0.072834  0.080303  0.059413  0.059662  0.040885  0.057443  0.075114   \n",
            "NLY   0.058072  0.065129  0.041979  0.042191  0.039644  0.042847  0.064414   \n",
            "AGNC  0.053198  0.061119  0.037614  0.037632  0.037812  0.039160  0.059414   \n",
            "RC    0.084043  0.084083  0.063507  0.064509  0.046592  0.059499  0.074860   \n",
            "ARR   0.063518  0.073553  0.043852  0.045313  0.039459  0.044780  0.071603   \n",
            "\n",
            "          IIPR        DX       CIM       TWO       NLY      AGNC        RC  \\\n",
            "ACRE  0.055613  0.053827  0.085134  0.072834  0.058072  0.053198  0.084043   \n",
            "NYMT  0.057015  0.059421  0.096050  0.080303  0.065129  0.061119  0.084083   \n",
            "HST   0.045526  0.036941  0.060420  0.059413  0.041979  0.037614  0.063507   \n",
            "RHP   0.053902  0.036372  0.062257  0.059662  0.042191  0.037632  0.064509   \n",
            "ARE   0.055401  0.033139  0.049868  0.040885  0.039644  0.037812  0.046592   \n",
            "SPG   0.048817  0.036113  0.062873  0.057443  0.042847  0.039160  0.059499   \n",
            "MITT  0.055034  0.058554  0.092473  0.075114  0.064414  0.059414  0.074860   \n",
            "IIPR  0.184389  0.038129  0.058546  0.046864  0.043266  0.040365  0.052515   \n",
            "DX    0.038129  0.060235  0.063568  0.058425  0.050102  0.050282  0.051702   \n",
            "CIM   0.058546  0.063568  0.129155  0.084554  0.069857  0.065153  0.081209   \n",
            "TWO   0.046864  0.058425  0.084554  0.104818  0.064140  0.062250  0.071981   \n",
            "NLY   0.043266  0.050102  0.069857  0.064140  0.066851  0.059842  0.058860   \n",
            "AGNC  0.040365  0.050282  0.065153  0.062250  0.059842  0.065239  0.053157   \n",
            "RC    0.052515  0.051702  0.081209  0.071981  0.058860  0.053157  0.139593   \n",
            "ARR   0.043937  0.057452  0.076716  0.071370  0.062059  0.059701  0.063343   \n",
            "\n",
            "           ARR  \n",
            "ACRE  0.063518  \n",
            "NYMT  0.073553  \n",
            "HST   0.043852  \n",
            "RHP   0.045313  \n",
            "ARE   0.039459  \n",
            "SPG   0.044780  \n",
            "MITT  0.071603  \n",
            "IIPR  0.043937  \n",
            "DX    0.057452  \n",
            "CIM   0.076716  \n",
            "TWO   0.071370  \n",
            "NLY   0.062059  \n",
            "AGNC  0.059701  \n",
            "RC    0.063343  \n",
            "ARR   0.084083  \n"
          ]
        }
      ]
    },
    {
      "cell_type": "markdown",
      "source": [
        "**Section 5: Define portfolio Performance Metrics**"
      ],
      "metadata": {
        "id": "h1kWCG_r55-Q"
      }
    },
    {
      "cell_type": "code",
      "source": [
        "#calculate the portfolio standard deviation#\n",
        "def standard_deviation(weights,cov_matrix):\n",
        "    variance = weights.T @ cov_matrix @ weights\n",
        "    return np.sqrt(variance)\n"
      ],
      "metadata": {
        "id": "66cDAQj86DSh"
      },
      "execution_count": 11,
      "outputs": []
    },
    {
      "cell_type": "code",
      "source": [
        "#Calculate Expected Returns using historical returns#\n",
        "def expected_return(weights, log_returns):\n",
        "    return np.sum(log_returns.mean() * weights)*252"
      ],
      "metadata": {
        "id": "0bSLq8BQ7dbb"
      },
      "execution_count": 12,
      "outputs": []
    },
    {
      "cell_type": "code",
      "source": [
        "# calculate the Sharpe Ratio\n",
        "\n",
        "def sharpe_ratio(weights, log_returns, cov_matrix, risk_free_rate):\n",
        "    return (expected_return(weights, log_returns) - risk_free_rate) / standard_deviation(weights, cov_matrix)\n"
      ],
      "metadata": {
        "id": "hsiE4L1F72n4"
      },
      "execution_count": 13,
      "outputs": []
    },
    {
      "cell_type": "code",
      "source": [
        "# Get and define your FRED API key from secrets tab in Colab\n",
        "from google.colab import userdata\n",
        "fred_api_key = userdata.get('fred_api_key')\n",
        "\n",
        "# Get the risk free rate\n",
        "from fredapi import Fred\n",
        "fred = Fred(api_key = fred_api_key)\n",
        "ten_year_treasury_rate = fred.get_series('GS10')/100\n",
        "\n",
        "#Set the risk free rate\n",
        "risk_free_rate = ten_year_treasury_rate.iloc[-1]\n",
        "print(risk_free_rate)\n"
      ],
      "metadata": {
        "colab": {
          "base_uri": "https://localhost:8080/"
        },
        "id": "FnbLOkR087h4",
        "outputId": "a40f59cf-c013-4cb3-daa7-0a6abf8af7d1"
      },
      "execution_count": 14,
      "outputs": [
        {
          "output_type": "stream",
          "name": "stdout",
          "text": [
            "0.0438\n"
          ]
        }
      ]
    },
    {
      "cell_type": "code",
      "source": [
        "#Define the function to minimize (Negative Sharpe Ratio)\n",
        "# In the case of scipy, there is no direct method to find the maximum value of a function so you gotta flip it.\n",
        "\n",
        "def neg_sharpe_ratio(weights, log_returns, cov_matrix, risk_free_rate):\n",
        "    return -sharpe_ratio(weights, log_returns, cov_matrix, risk_free_rate)\n",
        "\n",
        "    print(neg_sharpe_ratio)"
      ],
      "metadata": {
        "id": "guQT73jmAV1l"
      },
      "execution_count": 15,
      "outputs": []
    },
    {
      "cell_type": "code",
      "source": [
        "#Set the constraints and bounds\n",
        "constraints = ({'type': 'eq', 'fun': lambda weights: np.sum(weights) - 1})\n",
        "bounds = [(0,0.5) for _ in range(len(tickers))]"
      ],
      "metadata": {
        "id": "vy0dwW6CA805"
      },
      "execution_count": 16,
      "outputs": []
    },
    {
      "cell_type": "code",
      "source": [
        "#Set the initial weights\n",
        "initial_weights = np.array([1/len(tickers)] * len(tickers))\n",
        "print(initial_weights)"
      ],
      "metadata": {
        "colab": {
          "base_uri": "https://localhost:8080/"
        },
        "id": "9z658EExBlCD",
        "outputId": "84e38351-0477-4f50-fd6f-37c7d32854ef"
      },
      "execution_count": 17,
      "outputs": [
        {
          "output_type": "stream",
          "name": "stdout",
          "text": [
            "[0.06666667 0.06666667 0.06666667 0.06666667 0.06666667 0.06666667\n",
            " 0.06666667 0.06666667 0.06666667 0.06666667 0.06666667 0.06666667\n",
            " 0.06666667 0.06666667 0.06666667]\n"
          ]
        }
      ]
    },
    {
      "cell_type": "code",
      "source": [
        "#optimize the weights to maximise the sharpe ratio\n",
        "\n",
        "optimized_results = minimize(neg_sharpe_ratio, initial_weights, args=(log_returns, cov_matrix, risk_free_rate),\n",
        "                             method='SLSQP', bounds=bounds, constraints=constraints)\n",
        "optimized_weights = optimized_results.x\n",
        "\n",
        "# Print the optimized weights\n",
        "print(\"Optimized Weights:\")\n",
        "print(optimized_weights)"
      ],
      "metadata": {
        "colab": {
          "base_uri": "https://localhost:8080/"
        },
        "id": "NAlLYOKfCHgk",
        "outputId": "9286286b-82cb-46d0-e988-5ba214d2b672"
      },
      "execution_count": 18,
      "outputs": [
        {
          "output_type": "stream",
          "name": "stdout",
          "text": [
            "Optimized Weights:\n",
            "[2.91433544e-16 6.93889390e-17 0.00000000e+00 5.00000000e-01\n",
            " 0.00000000e+00 5.00000000e-01 2.77555756e-17 0.00000000e+00\n",
            " 1.94289029e-16 2.77555756e-17 0.00000000e+00 1.66533454e-16\n",
            " 2.08166817e-16 0.00000000e+00 4.16333634e-17]\n"
          ]
        }
      ]
    },
    {
      "cell_type": "markdown",
      "source": [
        "**Analyse the optimal portfolio**"
      ],
      "metadata": {
        "id": "eevwdnzECvs8"
      }
    },
    {
      "cell_type": "code",
      "source": [
        "# Display the analytics of the optimal portfolio\n",
        "\n",
        "for ticker, weight in zip(tickers, optimized_weights):\n",
        "    print(f\"{ticker}: {weight:.4f}\")\n",
        "\n",
        "print()\n",
        "\n",
        "optimal_portfolio_return = expected_return(optimized_weights, log_returns)\n",
        "optimal_portfolio_volatility = standard_deviation(optimized_weights, cov_matrix)\n",
        "optimal_sharpe_ratio = sharpe_ratio(optimized_weights, log_returns, cov_matrix, risk_free_rate)\n",
        "\n",
        "print(f\"Optimal Portfolio Return: {optimal_portfolio_return:.4f}\")\n",
        "print(f\"Optimal Portfolio Volatility: {optimal_portfolio_volatility:.4f}\")\n",
        "print(f\"Optimal Sharpe Ratio: {optimal_sharpe_ratio:.4f}\")"
      ],
      "metadata": {
        "colab": {
          "base_uri": "https://localhost:8080/"
        },
        "id": "YfV8d71-C4gq",
        "outputId": "d16d75c0-9691-49c9-b688-da409aceb431"
      },
      "execution_count": 19,
      "outputs": [
        {
          "output_type": "stream",
          "name": "stdout",
          "text": [
            "ACRE: 0.0000\n",
            "NYMT: 0.0000\n",
            "HST: 0.0000\n",
            "RHP: 0.5000\n",
            "ARE: 0.0000\n",
            "SPG: 0.5000\n",
            "MITT: 0.0000\n",
            "IIPR: 0.0000\n",
            "DX: 0.0000\n",
            "CIM: 0.0000\n",
            "TWO: 0.0000\n",
            "NLY: 0.0000\n",
            "AGNC: 0.0000\n",
            "RC: 0.0000\n",
            "ARR: 0.0000\n",
            "\n",
            "Optimal Portfolio Return: 0.2396\n",
            "Optimal Portfolio Volatility: 0.3262\n",
            "Optimal Sharpe Ratio: 0.6003\n"
          ]
        }
      ]
    },
    {
      "cell_type": "code",
      "source": [
        "#display the final portfolio in a plot\n",
        "\n",
        "import matplotlib.pyplot as plt\n",
        "\n",
        "plt.figure(figsize=(10, 6))\n",
        "plt.bar(tickers, optimized_weights)\n",
        "plt.xlabel('Tickers')\n",
        "plt.ylabel('Weights')\n",
        "plt.title('Optimal Portfolio Weights')\n",
        "plt.show()"
      ],
      "metadata": {
        "colab": {
          "base_uri": "https://localhost:8080/",
          "height": 472
        },
        "id": "N-IIdBoSDzEm",
        "outputId": "9788ac9a-807c-4b47-ddc2-32cd19328d49"
      },
      "execution_count": 20,
      "outputs": [
        {
          "output_type": "display_data",
          "data": {
            "text/plain": [
              "<Figure size 1000x600 with 1 Axes>"
            ],
            "image/png": "[encoded data removed]"
          },
          "metadata": {}
        }
      ]
    }
  ]
}