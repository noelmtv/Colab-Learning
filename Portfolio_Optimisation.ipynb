{
  "nbformat": 4,
  "nbformat_minor": 0,
  "metadata": {
    "colab": {
      "provenance": [],
      "history_visible": true,
      "authorship_tag": "ABX9TyPpGPSlLTyrXV4RTDO8k1i7",
      "include_colab_link": true
    },
    "kernelspec": {
      "name": "python3",
      "display_name": "Python 3"
    },
    "language_info": {
      "name": "python"
    }
  },
  "cells": [
    {
      "cell_type": "markdown",
      "metadata": {
        "id": "view-in-github",
        "colab_type": "text"
      },
      "source": [
        "<a href=\"https://colab.research.google.com/github/noelmtv/Colab-Learning/blob/main/Portfolio_Optimisation.ipynb\" target=\"_parent\"><img src=\"https://colab.research.google.com/assets/colab-badge.svg\" alt=\"Open In Colab\"/></a>"
      ]
    },
    {
      "cell_type": "code",
      "execution_count": 1,
      "metadata": {
        "colab": {
          "base_uri": "https://localhost:8080/"
        },
        "id": "d9eaifKFyqhP",
        "outputId": "2685ac99-9c0f-4079-a466-860e9fa9d572"
      },
      "outputs": [
        {
          "output_type": "stream",
          "name": "stdout",
          "text": [
            "Collecting fredapi\n",
            "  Downloading fredapi-0.5.2-py3-none-any.whl.metadata (5.0 kB)\n",
            "Requirement already satisfied: pandas in /usr/local/lib/python3.11/dist-packages (from fredapi) (2.2.2)\n",
            "Requirement already satisfied: numpy>=1.23.2 in /usr/local/lib/python3.11/dist-packages (from pandas->fredapi) (1.26.4)\n",
            "Requirement already satisfied: python-dateutil>=2.8.2 in /usr/local/lib/python3.11/dist-packages (from pandas->fredapi) (2.8.2)\n",
            "Requirement already satisfied: pytz>=2020.1 in /usr/local/lib/python3.11/dist-packages (from pandas->fredapi) (2025.1)\n",
            "Requirement already satisfied: tzdata>=2022.7 in /usr/local/lib/python3.11/dist-packages (from pandas->fredapi) (2025.1)\n",
            "Requirement already satisfied: six>=1.5 in /usr/local/lib/python3.11/dist-packages (from python-dateutil>=2.8.2->pandas->fredapi) (1.17.0)\n",
            "Downloading fredapi-0.5.2-py3-none-any.whl (11 kB)\n",
            "Installing collected packages: fredapi\n",
            "Successfully installed fredapi-0.5.2\n"
          ]
        }
      ],
      "source": [
        "# Import libraries#\n",
        "import yfinance as yf\n",
        "import pandas as pd\n",
        "from datetime import datetime, timedelta\n",
        "import numpy as np\n",
        "from scipy.optimize import minimize\n",
        "!pip install fredapi\n",
        "\n"
      ]
    },
    {
      "cell_type": "code",
      "source": [
        "#define the list of tickers#\n",
        "tickers = [\n",
        "    \"BUD\", \"TAP\",\"SAM\",\"STZ\"\n",
        "]\n"
      ],
      "metadata": {
        "id": "XuGvz901z6cP"
      },
      "execution_count": 2,
      "outputs": []
    },
    {
      "cell_type": "code",
      "source": [
        "#SET THE END DATE TO TODAY#\n",
        "end_date = datetime.today()"
      ],
      "metadata": {
        "id": "2Zo4QD1I0Z6u"
      },
      "execution_count": 3,
      "outputs": []
    },
    {
      "cell_type": "code",
      "source": [
        "#Set start date#\n",
        "start_date = end_date - timedelta(days=10*365)\n",
        "print(start_date)"
      ],
      "metadata": {
        "colab": {
          "base_uri": "https://localhost:8080/"
        },
        "id": "X3FJ-BXQ0oMh",
        "outputId": "250cda10-9250-44f5-ce5a-286d49b68a04"
      },
      "execution_count": 4,
      "outputs": [
        {
          "output_type": "stream",
          "name": "stdout",
          "text": [
            "2015-02-27 07:01:07.677635\n"
          ]
        }
      ]
    },
    {
      "cell_type": "code",
      "source": [
        "#download adjusted close prices#\n",
        "#This is done because you dont want to underweight a stock that pays out dividends#\n",
        "adj_close_df = pd.DataFrame()\n",
        "print(adj_close_df.columns)"
      ],
      "metadata": {
        "id": "lrQH6KDQ1EB2",
        "colab": {
          "base_uri": "https://localhost:8080/"
        },
        "outputId": "7cdae0c7-147b-41a2-fcfd-8980478570c0"
      },
      "execution_count": 5,
      "outputs": [
        {
          "output_type": "stream",
          "name": "stdout",
          "text": [
            "RangeIndex(start=0, stop=0, step=1)\n"
          ]
        }
      ]
    },
    {
      "cell_type": "code",
      "source": [
        "# Download the prices for each ticker#\n",
        "for ticker in tickers:\n",
        "    data = yf.download(ticker, start=start_date, end=end_date)\n",
        "    adj_close_df[ticker] = data[\"Close\"]"
      ],
      "metadata": {
        "colab": {
          "base_uri": "https://localhost:8080/"
        },
        "collapsed": true,
        "id": "quN0_LlK2BT8",
        "outputId": "ebc0f669-4bed-4774-b22e-17ef7e0018ac"
      },
      "execution_count": 6,
      "outputs": [
        {
          "output_type": "stream",
          "name": "stdout",
          "text": [
            "YF.download() has changed argument auto_adjust default to True\n"
          ]
        },
        {
          "output_type": "stream",
          "name": "stderr",
          "text": [
            "[*********************100%***********************]  1 of 1 completed\n",
            "[*********************100%***********************]  1 of 1 completed\n",
            "[*********************100%***********************]  1 of 1 completed\n",
            "[*********************100%***********************]  1 of 1 completed\n"
          ]
        }
      ]
    },
    {
      "cell_type": "code",
      "source": [
        "print(adj_close_df)"
      ],
      "metadata": {
        "colab": {
          "base_uri": "https://localhost:8080/"
        },
        "collapsed": true,
        "id": "pakGXYrk2kyP",
        "outputId": "37a92786-61fb-4611-a2ad-adaa807a397d"
      },
      "execution_count": 7,
      "outputs": [
        {
          "output_type": "stream",
          "name": "stdout",
          "text": [
            "                   BUD        TAP         SAM         STZ\n",
            "Date                                                     \n",
            "2015-02-27  101.896736  60.540970  267.600006  100.107346\n",
            "2015-03-02  101.985229  60.556934  265.670013  101.206841\n",
            "2015-03-03  101.582985  59.615585  258.869995  100.482574\n",
            "2015-03-04  101.623222  59.272575  261.619995   99.854248\n",
            "2015-03-05  102.725349  59.384247  260.519989   99.321960\n",
            "...                ...        ...         ...         ...\n",
            "2025-02-14   53.119999  60.360001  232.110001  162.940002\n",
            "2025-02-18   53.000000  60.630001  226.869995  169.380005\n",
            "2025-02-19   52.820000  60.139999  226.029999  172.419998\n",
            "2025-02-20   53.150002  60.400002  225.149994  172.330002\n",
            "2025-02-21   54.009998  60.330002  227.320007  175.970001\n",
            "\n",
            "[2512 rows x 4 columns]\n"
          ]
        }
      ]
    },
    {
      "cell_type": "markdown",
      "source": [
        "**Step 3: Calculate the Lognormal Returns**"
      ],
      "metadata": {
        "id": "88A7eey53rN8"
      }
    },
    {
      "cell_type": "code",
      "source": [
        "#Calculate the Lognormal returns for each ticker#\n",
        "#Use lognormal because the returns are additive#\n",
        "log_returns = np.log(adj_close_df / adj_close_df.shift(1))"
      ],
      "metadata": {
        "id": "ApkkiX9b2wYh"
      },
      "execution_count": 8,
      "outputs": []
    },
    {
      "cell_type": "code",
      "source": [
        "#drop missing values#\n",
        "log_returns = log_returns.dropna()"
      ],
      "metadata": {
        "id": "1ZPYIg8D4W4E"
      },
      "execution_count": 9,
      "outputs": []
    },
    {
      "cell_type": "markdown",
      "source": [
        "**Step 4: Calculate the Covariance Matrix**"
      ],
      "metadata": {
        "id": "t14EE58Q4pbT"
      }
    },
    {
      "cell_type": "code",
      "source": [
        "#helps us calculate standard deviation/risk in the most optimal way possible#\n",
        "# MULTIPLY BY 252 TO ANNUALISE THE DAILY RETURNS#\n",
        "\n",
        "cov_matrix = log_returns.cov() * 252\n",
        "print(cov_matrix)"
      ],
      "metadata": {
        "colab": {
          "base_uri": "https://localhost:8080/"
        },
        "collapsed": true,
        "id": "czSFTE8N45R5",
        "outputId": "f3e2cb7e-2cfc-430a-eca3-98f8c1864e95"
      },
      "execution_count": 10,
      "outputs": [
        {
          "output_type": "stream",
          "name": "stdout",
          "text": [
            "          BUD       TAP       SAM       STZ\n",
            "BUD  0.075116  0.036998  0.025069  0.028230\n",
            "TAP  0.036998  0.081637  0.027623  0.033487\n",
            "SAM  0.025069  0.027623  0.163645  0.028059\n",
            "STZ  0.028230  0.033487  0.028059  0.068624\n"
          ]
        }
      ]
    },
    {
      "cell_type": "markdown",
      "source": [
        "**Section 5: Define portfolio Performance Metrics**"
      ],
      "metadata": {
        "id": "h1kWCG_r55-Q"
      }
    },
    {
      "cell_type": "code",
      "source": [
        "#calculate the portfolio standard deviation#\n",
        "def standard_deviation(weights,cov_matrix):\n",
        "    variance = weights.T @ cov_matrix @ weights\n",
        "    return np.sqrt(variance)\n"
      ],
      "metadata": {
        "id": "66cDAQj86DSh"
      },
      "execution_count": 11,
      "outputs": []
    },
    {
      "cell_type": "code",
      "source": [
        "#Calculate Expected Returns using historical returns#\n",
        "def expected_return(weights, log_returns):\n",
        "    return np.sum(log_returns.mean() * weights)*252"
      ],
      "metadata": {
        "id": "0bSLq8BQ7dbb"
      },
      "execution_count": 12,
      "outputs": []
    },
    {
      "cell_type": "code",
      "source": [
        "# calculate the Sharpe Ratio\n",
        "\n",
        "def sharpe_ratio(weights, log_returns, cov_matrix, risk_free_rate):\n",
        "    return (expected_return(weights, log_returns) - risk_free_rate) / standard_deviation(weights, cov_matrix)\n"
      ],
      "metadata": {
        "id": "hsiE4L1F72n4"
      },
      "execution_count": 13,
      "outputs": []
    },
    {
      "cell_type": "code",
      "source": [
        "# Define your FRED API key\n",
        "from google.colab import userdata\n",
        "fred_api_key = userdata.get('fred_api_key')\n",
        "\n",
        "# Get the risk free rate\n",
        "from fredapi import Fred\n",
        "fred = Fred(api_key = fred_api_key)\n",
        "ten_year_treasury_rate = fred.get_series('GS10')/100\n",
        "\n",
        "#Set the risk free rate\n",
        "risk_free_rate = ten_year_treasury_rate.iloc[-1]\n",
        "print(risk_free_rate)\n"
      ],
      "metadata": {
        "colab": {
          "base_uri": "https://localhost:8080/"
        },
        "id": "FnbLOkR087h4",
        "outputId": "b22f590b-70a4-4b67-bdf5-1ed9054b5908"
      },
      "execution_count": 14,
      "outputs": [
        {
          "output_type": "stream",
          "name": "stdout",
          "text": [
            "0.0463\n"
          ]
        }
      ]
    },
    {
      "cell_type": "code",
      "source": [
        "#Define the function to minimize (Negative Sharpe Ratio)\n",
        "# In the case of scipy, there is no direct method to find the maximum value of a function so you gotta flip it.\n",
        "\n",
        "def neg_sharpe_ratio(weights, log_returns, cov_matrix, risk_free_rate):\n",
        "    return -sharpe_ratio(weights, log_returns, cov_matrix, risk_free_rate)\n",
        "\n",
        "    print(neg_sharpe_ratio)"
      ],
      "metadata": {
        "id": "guQT73jmAV1l"
      },
      "execution_count": 15,
      "outputs": []
    },
    {
      "cell_type": "code",
      "source": [
        "#Set the constraints and bounds\n",
        "constraints = ({'type': 'eq', 'fun': lambda weights: np.sum(weights) - 1})\n",
        "bounds = [(0,0.5) for _ in range(len(tickers))]"
      ],
      "metadata": {
        "id": "vy0dwW6CA805"
      },
      "execution_count": 16,
      "outputs": []
    },
    {
      "cell_type": "code",
      "source": [
        "#Set the initial weights\n",
        "initial_weights = np.array([1/len(tickers)] * len(tickers))\n",
        "print(initial_weights)"
      ],
      "metadata": {
        "colab": {
          "base_uri": "https://localhost:8080/"
        },
        "id": "9z658EExBlCD",
        "outputId": "ee3908f1-868e-4c65-b87b-618207b1b281"
      },
      "execution_count": 17,
      "outputs": [
        {
          "output_type": "stream",
          "name": "stdout",
          "text": [
            "[0.25 0.25 0.25 0.25]\n"
          ]
        }
      ]
    },
    {
      "cell_type": "code",
      "source": [
        "#optimize the weights to maximise the sharpe ratio\n",
        "\n",
        "optimized_results = minimize(neg_sharpe_ratio, initial_weights, args=(log_returns, cov_matrix, risk_free_rate),\n",
        "                                 method='SLSQP', bounds=bounds, constraints=constraints)\n",
        "optimized_weights = optimized_results.x\n",
        "\n",
        "# Print the optimized weights\n",
        "print(\"Optimized Weights:\")\n",
        "print(optimized_weights)"
      ],
      "metadata": {
        "colab": {
          "base_uri": "https://localhost:8080/"
        },
        "id": "NAlLYOKfCHgk",
        "outputId": "78897c3b-26c5-4461-8747-40af60fa9ce4"
      },
      "execution_count": 18,
      "outputs": [
        {
          "output_type": "stream",
          "name": "stdout",
          "text": [
            "Optimized Weights:\n",
            "[0.  0.5 0.  0.5]\n"
          ]
        }
      ]
    },
    {
      "cell_type": "markdown",
      "source": [
        "**Analyse the optimal portfolio**"
      ],
      "metadata": {
        "id": "eevwdnzECvs8"
      }
    },
    {
      "cell_type": "code",
      "source": [
        "# Display the analytics of the optimal portfolio\n",
        "\n",
        "for ticker, weight in zip(tickers, optimized_weights):\n",
        "    print(f\"{ticker}: {weight:.4f}\")\n",
        "\n",
        "print()\n",
        "\n",
        "optimal_portfolio_return = expected_return(optimized_weights, log_returns)\n",
        "optimal_portfolio_volatility = standard_deviation(optimized_weights, cov_matrix)\n",
        "optimal_sharpe_ratio = sharpe_ratio(optimized_weights, log_returns, cov_matrix, risk_free_rate)\n",
        "\n",
        "print(f\"Optimal Portfolio Return: {optimal_portfolio_return:.4f}\")\n",
        "print(f\"Optimal Portfolio Volatility: {optimal_portfolio_volatility:.4f}\")\n",
        "print(f\"Optimal Sharpe Ratio: {optimal_sharpe_ratio:.4f}\")"
      ],
      "metadata": {
        "colab": {
          "base_uri": "https://localhost:8080/"
        },
        "id": "YfV8d71-C4gq",
        "outputId": "73fbdcb9-95f2-438e-a01f-9f066f8b3b3d"
      },
      "execution_count": 19,
      "outputs": [
        {
          "output_type": "stream",
          "name": "stdout",
          "text": [
            "BUD: 0.0000\n",
            "TAP: 0.5000\n",
            "SAM: 0.0000\n",
            "STZ: 0.5000\n",
            "\n",
            "Optimal Portfolio Return: 0.0281\n",
            "Optimal Portfolio Volatility: 0.2330\n",
            "Optimal Sharpe Ratio: -0.0780\n"
          ]
        }
      ]
    },
    {
      "cell_type": "code",
      "source": [
        "#display the final portfolio in a plot\n",
        "\n",
        "import matplotlib.pyplot as plt\n",
        "\n",
        "plt.figure(figsize=(10, 6))\n",
        "plt.bar(tickers, optimized_weights)\n",
        "plt.xlabel('Tickers')\n",
        "plt.ylabel('Weights')\n",
        "plt.title('Optimal Portfolio Weights')\n",
        "plt.show()"
      ],
      "metadata": {
        "colab": {
          "base_uri": "https://localhost:8080/",
          "height": 564
        },
        "id": "N-IIdBoSDzEm",
        "outputId": "21f2379b-f8c1-4988-c4e5-85147a0c1aa6"
      },
      "execution_count": 20,
      "outputs": [
        {
          "output_type": "display_data",
          "data": {
            "text/plain": [
              "<Figure size 1000x600 with 1 Axes>"
            ],
            "image/png": "[encoded data removed]"
          },
          "metadata": {}
        }
      ]
    }
  ]
}