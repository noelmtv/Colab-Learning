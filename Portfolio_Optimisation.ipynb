{
  "nbformat": 4,
  "nbformat_minor": 0,
  "metadata": {
    "colab": {
      "provenance": [],
      "authorship_tag": "ABX9TyOHJ+a+Of2QsdAV2oT6m0kl",
      "include_colab_link": true
    },
    "kernelspec": {
      "name": "python3",
      "display_name": "Python 3"
    },
    "language_info": {
      "name": "python"
    }
  },
  "cells": [
    {
      "cell_type": "markdown",
      "metadata": {
        "id": "view-in-github",
        "colab_type": "text"
      },
      "source": [
        "<a href=\"https://colab.research.google.com/github/noelmtv/Colab-Learning/blob/main/Portfolio_Optimisation.ipynb\" target=\"_parent\"><img src=\"https://colab.research.google.com/assets/colab-badge.svg\" alt=\"Open In Colab\"/></a>"
      ]
    },
    {
      "cell_type": "code",
      "execution_count": 28,
      "metadata": {
        "colab": {
          "base_uri": "https://localhost:8080/"
        },
        "id": "d9eaifKFyqhP",
        "outputId": "b82ee24c-1e86-4fec-983a-e649795ab544"
      },
      "outputs": [
        {
          "output_type": "stream",
          "name": "stdout",
          "text": [
            "Requirement already satisfied: fredapi in /usr/local/lib/python3.10/dist-packages (0.5.2)\n",
            "Requirement already satisfied: pandas in /usr/local/lib/python3.10/dist-packages (from fredapi) (2.1.4)\n",
            "Requirement already satisfied: numpy<2,>=1.22.4 in /usr/local/lib/python3.10/dist-packages (from pandas->fredapi) (1.26.4)\n",
            "Requirement already satisfied: python-dateutil>=2.8.2 in /usr/local/lib/python3.10/dist-packages (from pandas->fredapi) (2.8.2)\n",
            "Requirement already satisfied: pytz>=2020.1 in /usr/local/lib/python3.10/dist-packages (from pandas->fredapi) (2024.1)\n",
            "Requirement already satisfied: tzdata>=2022.1 in /usr/local/lib/python3.10/dist-packages (from pandas->fredapi) (2024.1)\n",
            "Requirement already satisfied: six>=1.5 in /usr/local/lib/python3.10/dist-packages (from python-dateutil>=2.8.2->pandas->fredapi) (1.16.0)\n"
          ]
        }
      ],
      "source": [
        "# Import libraries#\n",
        "import yfinance as yf\n",
        "import pandas as pd\n",
        "from datetime import datetime, timedelta\n",
        "import numpy as np\n",
        "from scipy.optimize import minimize\n",
        "!pip install fredapi\n",
        "\n"
      ]
    },
    {
      "cell_type": "code",
      "source": [
        "#define the list of tickers#\n",
        "tickers = ['SPY', 'BND', 'GLD', 'QQQ', 'VTI']"
      ],
      "metadata": {
        "id": "XuGvz901z6cP"
      },
      "execution_count": 29,
      "outputs": []
    },
    {
      "cell_type": "code",
      "source": [
        "#SET THE END DATE TO TODAY#\n",
        "end_date = datetime.today()"
      ],
      "metadata": {
        "id": "2Zo4QD1I0Z6u"
      },
      "execution_count": 30,
      "outputs": []
    },
    {
      "cell_type": "code",
      "source": [
        "#Set start date#\n",
        "start_date = end_date - timedelta(days=10*365)\n",
        "print(start_date)"
      ],
      "metadata": {
        "colab": {
          "base_uri": "https://localhost:8080/"
        },
        "id": "X3FJ-BXQ0oMh",
        "outputId": "12a41987-ff08-4a30-bd04-be092d439115"
      },
      "execution_count": 31,
      "outputs": [
        {
          "output_type": "stream",
          "name": "stdout",
          "text": [
            "2014-09-10 06:01:13.430622\n"
          ]
        }
      ]
    },
    {
      "cell_type": "code",
      "source": [
        "#download adjusted close prices#\n",
        "#This is done because you dont want to underweight a stock that pays out dividends#\n",
        "adj_close_df = pd.DataFrame()"
      ],
      "metadata": {
        "id": "lrQH6KDQ1EB2"
      },
      "execution_count": 32,
      "outputs": []
    },
    {
      "cell_type": "code",
      "source": [
        "# Download the prices for each ticker#\n",
        "for ticker in tickers:\n",
        "    data = yf.download(ticker, start=start_date, end=end_date)\n",
        "    adj_close_df[ticker] = data['Adj Close']"
      ],
      "metadata": {
        "colab": {
          "base_uri": "https://localhost:8080/"
        },
        "collapsed": true,
        "id": "quN0_LlK2BT8",
        "outputId": "6020e07b-0b95-4067-83af-bdfe4e0f3285"
      },
      "execution_count": 33,
      "outputs": [
        {
          "output_type": "stream",
          "name": "stderr",
          "text": [
            "[*********************100%***********************]  1 of 1 completed\n",
            "[*********************100%***********************]  1 of 1 completed\n",
            "[*********************100%***********************]  1 of 1 completed\n",
            "[*********************100%***********************]  1 of 1 completed\n",
            "[*********************100%***********************]  1 of 1 completed\n"
          ]
        }
      ]
    },
    {
      "cell_type": "code",
      "source": [
        "print(adj_close_df)"
      ],
      "metadata": {
        "colab": {
          "base_uri": "https://localhost:8080/"
        },
        "collapsed": true,
        "id": "pakGXYrk2kyP",
        "outputId": "8f2880e2-eaf1-43ce-e734-bd1fe21299df"
      },
      "execution_count": 34,
      "outputs": [
        {
          "output_type": "stream",
          "name": "stdout",
          "text": [
            "                   SPY        BND         GLD         QQQ         VTI\n",
            "Date                                                                 \n",
            "2014-09-10  167.461380  62.188995  120.260002   92.324318   86.874710\n",
            "2014-09-11  167.653793  62.143353  119.470001   92.250549   87.034111\n",
            "2014-09-12  166.674530  62.044434  118.379997   91.779984   86.472046\n",
            "2014-09-15  166.548996  62.074883  118.639999   90.894302   86.245567\n",
            "2014-09-16  167.804443  62.052048  118.830002   91.687721   86.857933\n",
            "...                ...        ...         ...         ...         ...\n",
            "2024-08-30  563.679993  74.134003  231.289993  476.269989  278.380005\n",
            "2024-09-03  552.080017  74.449997  230.289993  461.809998  272.390015\n",
            "2024-09-04  550.950012  74.779999  230.429993  460.609985  271.779999\n",
            "2024-09-05  549.609985  74.959999  232.350006  461.040009  270.940002\n",
            "2024-09-06  540.359985  75.050003  230.630005  448.690002  266.440002\n",
            "\n",
            "[2515 rows x 5 columns]\n"
          ]
        }
      ]
    },
    {
      "cell_type": "markdown",
      "source": [
        "**Step 3: Calculate the Lognormal Returns**"
      ],
      "metadata": {
        "id": "88A7eey53rN8"
      }
    },
    {
      "cell_type": "code",
      "source": [
        "#Calculate the Lognormal returns for each ticker#\n",
        "#Use lognormal because the returns are additive#\n",
        "log_returns = np.log(adj_close_df / adj_close_df.shift(1))"
      ],
      "metadata": {
        "id": "ApkkiX9b2wYh"
      },
      "execution_count": 35,
      "outputs": []
    },
    {
      "cell_type": "code",
      "source": [
        "#drop missing values#\n",
        "log_returns = log_returns.dropna()"
      ],
      "metadata": {
        "id": "1ZPYIg8D4W4E"
      },
      "execution_count": 36,
      "outputs": []
    },
    {
      "cell_type": "markdown",
      "source": [
        "**Step 4: Calculate the Covariance Matrix**"
      ],
      "metadata": {
        "id": "t14EE58Q4pbT"
      }
    },
    {
      "cell_type": "code",
      "source": [
        "#helps us calculate standard deviation/risk in the most optimal way possible#\n",
        "# MULTIPLY BY 252 TO ANNUALISE THE DAILY RETURNS#\n",
        "\n",
        "cov_matrix = log_returns.cov() * 252\n",
        "print(cov_matrix)"
      ],
      "metadata": {
        "colab": {
          "base_uri": "https://localhost:8080/"
        },
        "collapsed": true,
        "id": "czSFTE8N45R5",
        "outputId": "fac994ed-1de1-4c65-860e-6f0f66dfc8f6"
      },
      "execution_count": 37,
      "outputs": [
        {
          "output_type": "stream",
          "name": "stdout",
          "text": [
            "          SPY       BND       GLD       QQQ       VTI\n",
            "SPY  0.031368  0.000990  0.000973  0.035967  0.031887\n",
            "BND  0.000990  0.002924  0.002779  0.001312  0.001077\n",
            "GLD  0.000973  0.002779  0.020220  0.001493  0.001099\n",
            "QQQ  0.035967  0.001312  0.001493  0.047724  0.036509\n",
            "VTI  0.031887  0.001077  0.001099  0.036509  0.032682\n"
          ]
        }
      ]
    },
    {
      "cell_type": "markdown",
      "source": [
        "**Section 5: Define portfolio Performance Metrics**"
      ],
      "metadata": {
        "id": "h1kWCG_r55-Q"
      }
    },
    {
      "cell_type": "code",
      "source": [
        "#calculate the portfolio standard deviation#\n",
        "def standard_deviation(weights,cov_matrix):\n",
        "    variance = weights.T @ cov_matrix @ weights\n",
        "    return np.sqrt(variance)\n"
      ],
      "metadata": {
        "id": "66cDAQj86DSh"
      },
      "execution_count": 38,
      "outputs": []
    },
    {
      "cell_type": "code",
      "source": [
        "#Calculate Expected Returns using historical returns#\n",
        "def expected_return(weights, log_returns):\n",
        "    return np.sum(log_returns.mean() * weights)*252"
      ],
      "metadata": {
        "id": "0bSLq8BQ7dbb"
      },
      "execution_count": 39,
      "outputs": []
    },
    {
      "cell_type": "code",
      "source": [
        "# calculate the Sharpe Ratio\n",
        "\n",
        "def sharpe_ratio(weights, log_returns, cov_matrix, risk_free_rate):\n",
        "    return (expected_return(weights, log_returns) - risk_free_rate) / standard_deviation(weights, cov_matrix)\n"
      ],
      "metadata": {
        "id": "hsiE4L1F72n4"
      },
      "execution_count": 40,
      "outputs": []
    },
    {
      "cell_type": "code",
      "source": [
        "# Get the risk free rate\n",
        "\n",
        "from fredapi import Fred\n",
        "fred = Fred(api_key = '2b69fb669c856bbd11766d69b3894d6e')\n",
        "ten_year_treasury_rate = fred.get_series('GS10')/100\n",
        "\n",
        "#Set the risk free rate\n",
        "risk_free_rate = ten_year_treasury_rate.iloc[-1]\n",
        "print(risk_free_rate)\n"
      ],
      "metadata": {
        "colab": {
          "base_uri": "https://localhost:8080/"
        },
        "id": "FnbLOkR087h4",
        "outputId": "33d9e7ea-5770-4203-e89a-b3c9678c09a9"
      },
      "execution_count": 41,
      "outputs": [
        {
          "output_type": "stream",
          "name": "stdout",
          "text": [
            "0.0387\n"
          ]
        }
      ]
    },
    {
      "cell_type": "code",
      "source": [
        "#Define the function to minimize (Negative Sharpe Ratio)\n",
        "# In the case of scipy, there is no direct method to find the maximum value of a function so you gotta flip it.\n",
        "\n",
        "def neg_sharpe_ratio(weights, log_returns, cov_matrix, risk_free_rate):\n",
        "    return -sharpe_ratio(weights, log_returns, cov_matrix, risk_free_rate)"
      ],
      "metadata": {
        "id": "guQT73jmAV1l"
      },
      "execution_count": 42,
      "outputs": []
    },
    {
      "cell_type": "code",
      "source": [
        "#Set the constraints and bounds\n",
        "constraints = ({'type': 'eq', 'fun': lambda weights: np.sum(weights) - 1})\n",
        "bounds = [(0,0.5) for _ in range(len(tickers))]"
      ],
      "metadata": {
        "id": "vy0dwW6CA805"
      },
      "execution_count": 43,
      "outputs": []
    },
    {
      "cell_type": "code",
      "source": [
        "#Set the initial weights\n",
        "initial_weights = np.array([1/len(tickers)] * len(tickers))\n",
        "print(initial_weights)"
      ],
      "metadata": {
        "colab": {
          "base_uri": "https://localhost:8080/"
        },
        "id": "9z658EExBlCD",
        "outputId": "4e4a3941-1d7d-4b34-9a7b-bfa35d624a0c"
      },
      "execution_count": 44,
      "outputs": [
        {
          "output_type": "stream",
          "name": "stdout",
          "text": [
            "[0.2 0.2 0.2 0.2 0.2]\n"
          ]
        }
      ]
    },
    {
      "cell_type": "code",
      "source": [
        "#optimize the weights to maximise the sharpe ratio\n",
        "\n",
        "optimized_results = minimize(neg_sharpe_ratio, initial_weights, args=(log_returns, cov_matrix, risk_free_rate),\n",
        "                                 method='SLSQP', bounds=bounds, constraints=constraints)\n",
        "optimized_weights = optimized_results.x\n",
        "\n",
        "# Print the optimized weights\n",
        "print(\"Optimized Weights:\")\n",
        "print(optimized_weights)"
      ],
      "metadata": {
        "colab": {
          "base_uri": "https://localhost:8080/"
        },
        "id": "NAlLYOKfCHgk",
        "outputId": "94f72d85-40af-4ae1-c7f5-dea00b8248b2"
      },
      "execution_count": 45,
      "outputs": [
        {
          "output_type": "stream",
          "name": "stdout",
          "text": [
            "Optimized Weights:\n",
            "[1.13572157e-01 0.00000000e+00 3.86427843e-01 5.00000000e-01\n",
            " 7.02563008e-17]\n"
          ]
        }
      ]
    },
    {
      "cell_type": "markdown",
      "source": [
        "**Analyse the optimal portfolio**"
      ],
      "metadata": {
        "id": "eevwdnzECvs8"
      }
    },
    {
      "cell_type": "code",
      "source": [
        "# Display the analytics of the optimal portfolio\n",
        "\n",
        "for ticker, weight in zip(tickers, optimized_weights):\n",
        "    print(f\"{ticker}: {weight:.4f}\")\n",
        "\n",
        "print()\n",
        "\n",
        "optimal_portfolio_return = expected_return(optimized_weights, log_returns)\n",
        "optimal_portfolio_volatility = standard_deviation(optimized_weights, cov_matrix)\n",
        "optimal_sharpe_ratio = sharpe_ratio(optimized_weights, log_returns, cov_matrix, risk_free_rate)\n",
        "\n",
        "print(f\"Optimal Portfolio Return: {optimal_portfolio_return:.4f}\")\n",
        "print(f\"Optimal Portfolio Volatility: {optimal_portfolio_volatility:.4f}\")\n",
        "print(f\"Optimal Sharpe Ratio: {optimal_sharpe_ratio:.4f}\")"
      ],
      "metadata": {
        "colab": {
          "base_uri": "https://localhost:8080/"
        },
        "id": "YfV8d71-C4gq",
        "outputId": "e8f58532-23b2-4771-dc05-618a8f4c2697"
      },
      "execution_count": 46,
      "outputs": [
        {
          "output_type": "stream",
          "name": "stdout",
          "text": [
            "SPY: 0.1136\n",
            "BND: 0.0000\n",
            "GLD: 0.3864\n",
            "QQQ: 0.5000\n",
            "VTI: 0.0000\n",
            "\n",
            "Optimal Portfolio Return: 0.1178\n",
            "Optimal Portfolio Volatility: 0.1418\n",
            "Optimal Sharpe Ratio: 0.5579\n"
          ]
        }
      ]
    },
    {
      "cell_type": "code",
      "source": [
        "#display the final portfolio in a plot\n",
        "\n",
        "import matplotlib.pyplot as plt\n",
        "\n",
        "plt.figure(figsize=(10, 6))\n",
        "plt.bar(tickers, optimized_weights)\n",
        "plt.xlabel('Tickers')\n",
        "plt.ylabel('Weights')\n",
        "plt.title('Optimal Portfolio Weights')\n",
        "plt.show()"
      ],
      "metadata": {
        "colab": {
          "base_uri": "https://localhost:8080/",
          "height": 564
        },
        "id": "N-IIdBoSDzEm",
        "outputId": "273990f6-2cf8-4a72-afec-2e92b30f53b9"
      },
      "execution_count": 47,
      "outputs": [
        {
          "output_type": "display_data",
          "data": {
            "text/plain": [
              "<Figure size 1000x600 with 1 Axes>"
            ],
            "image/png": "[encoded data removed]"
          },
          "metadata": {}
        }
      ]
    }
  ]
}