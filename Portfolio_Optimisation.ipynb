{
  "nbformat": 4,
  "nbformat_minor": 0,
  "metadata": {
    "colab": {
      "provenance": [],
      "history_visible": true,
      "authorship_tag": "ABX9TyN2+1d2274Se7yuAf3szYqW",
      "include_colab_link": true
    },
    "kernelspec": {
      "name": "python3",
      "display_name": "Python 3"
    },
    "language_info": {
      "name": "python"
    }
  },
  "cells": [
    {
      "cell_type": "markdown",
      "metadata": {
        "id": "view-in-github",
        "colab_type": "text"
      },
      "source": [
        "<a href=\"https://colab.research.google.com/github/noelmtv/Colab-Learning/blob/main/Portfolio_Optimisation.ipynb\" target=\"_parent\"><img src=\"https://colab.research.google.com/assets/colab-badge.svg\" alt=\"Open In Colab\"/></a>"
      ]
    },
    {
      "cell_type": "code",
      "execution_count": 7,
      "metadata": {
        "colab": {
          "base_uri": "https://localhost:8080/"
        },
        "id": "d9eaifKFyqhP",
        "outputId": "c91ed63c-1464-4be9-8c5e-a5999a7f58d9"
      },
      "outputs": [
        {
          "output_type": "stream",
          "name": "stdout",
          "text": [
            "Requirement already satisfied: fredapi in /usr/local/lib/python3.11/dist-packages (0.5.2)\n",
            "Requirement already satisfied: pandas in /usr/local/lib/python3.11/dist-packages (from fredapi) (2.2.2)\n",
            "Requirement already satisfied: numpy>=1.23.2 in /usr/local/lib/python3.11/dist-packages (from pandas->fredapi) (1.26.4)\n",
            "Requirement already satisfied: python-dateutil>=2.8.2 in /usr/local/lib/python3.11/dist-packages (from pandas->fredapi) (2.8.2)\n",
            "Requirement already satisfied: pytz>=2020.1 in /usr/local/lib/python3.11/dist-packages (from pandas->fredapi) (2025.1)\n",
            "Requirement already satisfied: tzdata>=2022.7 in /usr/local/lib/python3.11/dist-packages (from pandas->fredapi) (2025.1)\n",
            "Requirement already satisfied: six>=1.5 in /usr/local/lib/python3.11/dist-packages (from python-dateutil>=2.8.2->pandas->fredapi) (1.17.0)\n"
          ]
        }
      ],
      "source": [
        "# Import libraries#\n",
        "import yfinance as yf\n",
        "import pandas as pd\n",
        "from datetime import datetime, timedelta\n",
        "import numpy as np\n",
        "from scipy.optimize import minimize\n",
        "!pip install fredapi\n",
        "\n"
      ]
    },
    {
      "cell_type": "code",
      "source": [
        "#define the list of tickers#\n",
        "tickers = [\n",
        "    \"CSX\", \"UNP\", \"NSC\",\"CP\",\"CNI\",\"RAIL\",\"FSTR\",\"TRN\",\"GBX\",\"WAB\"\n",
        "]\n"
      ],
      "metadata": {
        "id": "XuGvz901z6cP"
      },
      "execution_count": 8,
      "outputs": []
    },
    {
      "cell_type": "code",
      "source": [
        "#SET THE END DATE TO TODAY#\n",
        "end_date = datetime.today()"
      ],
      "metadata": {
        "id": "2Zo4QD1I0Z6u"
      },
      "execution_count": 9,
      "outputs": []
    },
    {
      "cell_type": "code",
      "source": [
        "#Set start date#\n",
        "start_date = end_date - timedelta(days=10*365)\n",
        "print(start_date)"
      ],
      "metadata": {
        "colab": {
          "base_uri": "https://localhost:8080/"
        },
        "id": "X3FJ-BXQ0oMh",
        "outputId": "6b7ba73d-b2c1-46b3-90aa-d74c4bbe53e1"
      },
      "execution_count": 10,
      "outputs": [
        {
          "output_type": "stream",
          "name": "stdout",
          "text": [
            "2015-03-19 04:40:31.944901\n"
          ]
        }
      ]
    },
    {
      "cell_type": "code",
      "source": [
        "#download adjusted close prices#\n",
        "#This is done because you dont want to underweight a stock that pays out dividends#\n",
        "adj_close_df = pd.DataFrame()\n",
        "print(adj_close_df.columns)"
      ],
      "metadata": {
        "id": "lrQH6KDQ1EB2",
        "colab": {
          "base_uri": "https://localhost:8080/"
        },
        "outputId": "d7d75c99-817c-41c6-a672-785502fc9da8"
      },
      "execution_count": 11,
      "outputs": [
        {
          "output_type": "stream",
          "name": "stdout",
          "text": [
            "RangeIndex(start=0, stop=0, step=1)\n"
          ]
        }
      ]
    },
    {
      "cell_type": "code",
      "source": [
        "# Download the prices for each ticker#\n",
        "#yFinance has by default adjusted Open/High/Low/Close, hence no need to specify 'Adj Close'\n",
        "for ticker in tickers:\n",
        "    data = yf.download(ticker, start=start_date, end=end_date)\n",
        "    adj_close_df[ticker] = data[\"Close\"]"
      ],
      "metadata": {
        "colab": {
          "base_uri": "https://localhost:8080/"
        },
        "collapsed": true,
        "id": "quN0_LlK2BT8",
        "outputId": "c3a3127a-3f4a-4173-eb7a-174cad737b73"
      },
      "execution_count": 12,
      "outputs": [
        {
          "output_type": "stream",
          "name": "stderr",
          "text": [
            "[*********************100%***********************]  1 of 1 completed\n",
            "[*********************100%***********************]  1 of 1 completed\n",
            "[*********************100%***********************]  1 of 1 completed\n",
            "[*********************100%***********************]  1 of 1 completed\n",
            "[*********************100%***********************]  1 of 1 completed\n",
            "[*********************100%***********************]  1 of 1 completed\n",
            "[*********************100%***********************]  1 of 1 completed\n",
            "[*********************100%***********************]  1 of 1 completed\n",
            "[*********************100%***********************]  1 of 1 completed\n",
            "[*********************100%***********************]  1 of 1 completed\n"
          ]
        }
      ]
    },
    {
      "cell_type": "code",
      "source": [
        "print(adj_close_df)"
      ],
      "metadata": {
        "colab": {
          "base_uri": "https://localhost:8080/"
        },
        "collapsed": true,
        "id": "pakGXYrk2kyP",
        "outputId": "1318a39e-8dca-48ec-80fc-81dcbda1202d"
      },
      "execution_count": 13,
      "outputs": [
        {
          "output_type": "stream",
          "name": "stdout",
          "text": [
            "                  CSX         UNP         NSC         CP        CNI  \\\n",
            "Date                                                                  \n",
            "2015-03-19   9.918314   93.932808   88.392929  34.334972  59.463303   \n",
            "2015-03-20  10.035333   93.852890   88.489090  34.655849  59.910213   \n",
            "2015-03-23   9.618619   90.121147   85.388008  33.997608  58.920021   \n",
            "2015-03-24   9.635745   89.905388   84.995361  34.250629  59.962791   \n",
            "2015-03-25   9.507309   88.554916   83.376701  33.846649  59.033951   \n",
            "...               ...         ...         ...        ...        ...   \n",
            "2025-03-10  30.650000  248.289993  239.100006  74.309998  98.150002   \n",
            "2025-03-11  29.520000  237.779999  232.979996  73.089996  95.459999   \n",
            "2025-03-12  29.549999  237.490005  230.960007  74.120003  96.879997   \n",
            "2025-03-13  29.129999  234.289993  227.690002  72.750000  95.919998   \n",
            "2025-03-14  30.010000  237.529999  232.300003  75.290001  97.699997   \n",
            "\n",
            "                 RAIL       FSTR        TRN        GBX         WAB  \n",
            "Date                                                                \n",
            "2015-03-19  28.291346  44.788551  18.343853  42.970371   89.916512  \n",
            "2015-03-20  28.623737  44.837765  19.034445  43.381504   91.229683  \n",
            "2015-03-23  28.433802  45.231510  19.034445  43.305370   90.899010  \n",
            "2015-03-24  28.680717  45.024796  19.212492  43.670837   90.719528  \n",
            "2015-03-25  28.110903  45.221672  18.861801  42.787659   90.001541  \n",
            "...               ...        ...        ...        ...         ...  \n",
            "2025-03-10   6.340000  19.799999  29.270000  54.000000  175.500000  \n",
            "2025-03-11   6.500000  19.840000  29.389999  54.869999  175.919998  \n",
            "2025-03-12   6.230000  20.309999  29.010000  54.810001  176.000000  \n",
            "2025-03-13   7.320000  19.900000  28.900000  54.340000  176.250000  \n",
            "2025-03-14   6.580000  20.309999  29.190001  54.900002  178.690002  \n",
            "\n",
            "[2513 rows x 10 columns]\n"
          ]
        }
      ]
    },
    {
      "cell_type": "markdown",
      "source": [
        "**Step 3: Calculate the Lognormal Returns**"
      ],
      "metadata": {
        "id": "88A7eey53rN8"
      }
    },
    {
      "cell_type": "code",
      "source": [
        "#Calculate the Lognormal returns for each ticker#\n",
        "#Use lognormal because the returns are additive#\n",
        "log_returns = np.log(adj_close_df / adj_close_df.shift(1))"
      ],
      "metadata": {
        "id": "ApkkiX9b2wYh"
      },
      "execution_count": 14,
      "outputs": []
    },
    {
      "cell_type": "code",
      "source": [
        "#drop missing values#\n",
        "log_returns = log_returns.dropna()"
      ],
      "metadata": {
        "id": "1ZPYIg8D4W4E"
      },
      "execution_count": 15,
      "outputs": []
    },
    {
      "cell_type": "markdown",
      "source": [
        "**Step 4: Calculate the Covariance Matrix**"
      ],
      "metadata": {
        "id": "t14EE58Q4pbT"
      }
    },
    {
      "cell_type": "code",
      "source": [
        "#helps us calculate standard deviation/risk in the most optimal way possible#\n",
        "# MULTIPLY BY 252 TO ANNUALISE THE DAILY RETURNS#\n",
        "\n",
        "cov_matrix = log_returns.cov() * 252\n",
        "print(cov_matrix)"
      ],
      "metadata": {
        "colab": {
          "base_uri": "https://localhost:8080/"
        },
        "collapsed": true,
        "id": "czSFTE8N45R5",
        "outputId": "66bc451b-7e1a-4fa8-cec6-543c22c9b79f"
      },
      "execution_count": 16,
      "outputs": [
        {
          "output_type": "stream",
          "name": "stdout",
          "text": [
            "           CSX       UNP       NSC        CP       CNI      RAIL      FSTR  \\\n",
            "CSX   0.079770  0.053923  0.065171  0.050125  0.040860  0.043195  0.049077   \n",
            "UNP   0.053923  0.065635  0.056584  0.046480  0.038692  0.041131  0.046389   \n",
            "NSC   0.065171  0.056584  0.080164  0.050922  0.042462  0.045379  0.047911   \n",
            "CP    0.050125  0.046480  0.050922  0.072859  0.047512  0.038719  0.040891   \n",
            "CNI   0.040860  0.038692  0.042462  0.047512  0.052264  0.031489  0.035302   \n",
            "RAIL  0.043195  0.041131  0.045379  0.038719  0.031489  0.517716  0.089394   \n",
            "FSTR  0.049077  0.046389  0.047911  0.040891  0.035302  0.089394  0.285116   \n",
            "TRN   0.051313  0.046985  0.050978  0.045665  0.038365  0.092460  0.071485   \n",
            "GBX   0.055586  0.052446  0.058217  0.051400  0.041019  0.112775  0.083442   \n",
            "WAB   0.045687  0.043431  0.046939  0.041174  0.034341  0.069719  0.062462   \n",
            "\n",
            "           TRN       GBX       WAB  \n",
            "CSX   0.051313  0.055586  0.045687  \n",
            "UNP   0.046985  0.052446  0.043431  \n",
            "NSC   0.050978  0.058217  0.046939  \n",
            "CP    0.045665  0.051400  0.041174  \n",
            "CNI   0.038365  0.041019  0.034341  \n",
            "RAIL  0.092460  0.112775  0.069719  \n",
            "FSTR  0.071485  0.083442  0.062462  \n",
            "TRN   0.149592  0.120116  0.067959  \n",
            "GBX   0.120116  0.212007  0.078423  \n",
            "WAB   0.067959  0.078423  0.099465  \n"
          ]
        }
      ]
    },
    {
      "cell_type": "markdown",
      "source": [
        "**Section 5: Define portfolio Performance Metrics**"
      ],
      "metadata": {
        "id": "h1kWCG_r55-Q"
      }
    },
    {
      "cell_type": "code",
      "source": [
        "#calculate the portfolio standard deviation#\n",
        "def standard_deviation(weights,cov_matrix):\n",
        "    variance = weights.T @ cov_matrix @ weights\n",
        "    return np.sqrt(variance)\n"
      ],
      "metadata": {
        "id": "66cDAQj86DSh"
      },
      "execution_count": 17,
      "outputs": []
    },
    {
      "cell_type": "code",
      "source": [
        "#Calculate Expected Returns using historical returns#\n",
        "def expected_return(weights, log_returns):\n",
        "    return np.sum(log_returns.mean() * weights)*252"
      ],
      "metadata": {
        "id": "0bSLq8BQ7dbb"
      },
      "execution_count": 18,
      "outputs": []
    },
    {
      "cell_type": "code",
      "source": [
        "# calculate the Sharpe Ratio\n",
        "\n",
        "def sharpe_ratio(weights, log_returns, cov_matrix, risk_free_rate):\n",
        "    return (expected_return(weights, log_returns) - risk_free_rate) / standard_deviation(weights, cov_matrix)\n"
      ],
      "metadata": {
        "id": "hsiE4L1F72n4"
      },
      "execution_count": 19,
      "outputs": []
    },
    {
      "cell_type": "code",
      "source": [
        "# Get and define your FRED API key from secrets tab in Colab\n",
        "from google.colab import userdata\n",
        "fred_api_key = userdata.get('fred_api_key')\n",
        "\n",
        "# Get the risk free rate\n",
        "from fredapi import Fred\n",
        "fred = Fred(api_key = fred_api_key)\n",
        "ten_year_treasury_rate = fred.get_series('GS10')/100\n",
        "\n",
        "#Set the risk free rate\n",
        "risk_free_rate = ten_year_treasury_rate.iloc[-1]\n",
        "print(risk_free_rate)\n"
      ],
      "metadata": {
        "colab": {
          "base_uri": "https://localhost:8080/"
        },
        "id": "FnbLOkR087h4",
        "outputId": "3c2bd18c-8fbb-4e7b-b7ed-b7c62ffe4342"
      },
      "execution_count": 20,
      "outputs": [
        {
          "output_type": "stream",
          "name": "stdout",
          "text": [
            "0.044500000000000005\n"
          ]
        }
      ]
    },
    {
      "cell_type": "code",
      "source": [
        "#Define the function to minimize (Negative Sharpe Ratio)\n",
        "# In the case of scipy, there is no direct method to find the maximum value of a function so you gotta flip it.\n",
        "\n",
        "def neg_sharpe_ratio(weights, log_returns, cov_matrix, risk_free_rate):\n",
        "    return -sharpe_ratio(weights, log_returns, cov_matrix, risk_free_rate)\n",
        "\n",
        "    print(neg_sharpe_ratio)"
      ],
      "metadata": {
        "id": "guQT73jmAV1l"
      },
      "execution_count": 21,
      "outputs": []
    },
    {
      "cell_type": "code",
      "source": [
        "#Set the constraints and bounds\n",
        "constraints = ({'type': 'eq', 'fun': lambda weights: np.sum(weights) - 1})\n",
        "bounds = [(0,0.5) for _ in range(len(tickers))]"
      ],
      "metadata": {
        "id": "vy0dwW6CA805"
      },
      "execution_count": 37,
      "outputs": []
    },
    {
      "cell_type": "code",
      "source": [
        "#Set the initial weights\n",
        "initial_weights = np.array([1/len(tickers)] * len(tickers))\n",
        "print(initial_weights)"
      ],
      "metadata": {
        "colab": {
          "base_uri": "https://localhost:8080/"
        },
        "id": "9z658EExBlCD",
        "outputId": "79d4fbf2-d115-4f13-d498-c8bd1133d11a"
      },
      "execution_count": 38,
      "outputs": [
        {
          "output_type": "stream",
          "name": "stdout",
          "text": [
            "[0.1 0.1 0.1 0.1 0.1 0.1 0.1 0.1 0.1 0.1]\n"
          ]
        }
      ]
    },
    {
      "cell_type": "code",
      "source": [
        "#optimize the weights to maximise the sharpe ratio\n",
        "\n",
        "optimized_results = minimize(neg_sharpe_ratio, initial_weights, args=(log_returns, cov_matrix, risk_free_rate),\n",
        "                             method='SLSQP', bounds=bounds, constraints=constraints)\n",
        "optimized_weights = optimized_results.x\n",
        "\n",
        "# Print the optimized weights\n",
        "print(\"Optimized Weights:\")\n",
        "print(optimized_weights)"
      ],
      "metadata": {
        "colab": {
          "base_uri": "https://localhost:8080/"
        },
        "id": "NAlLYOKfCHgk",
        "outputId": "c01e14be-2fcf-4037-d561-57780bad0735"
      },
      "execution_count": 39,
      "outputs": [
        {
          "output_type": "stream",
          "name": "stdout",
          "text": [
            "Optimized Weights:\n",
            "[5.00000000e-01 4.03107971e-01 9.68920289e-02 0.00000000e+00\n",
            " 0.00000000e+00 4.12305315e-16 5.25474255e-16 0.00000000e+00\n",
            " 3.59578468e-16 0.00000000e+00]\n"
          ]
        }
      ]
    },
    {
      "cell_type": "markdown",
      "source": [
        "**Analyse the optimal portfolio**"
      ],
      "metadata": {
        "id": "eevwdnzECvs8"
      }
    },
    {
      "cell_type": "code",
      "source": [
        "# Display the analytics of the optimal portfolio\n",
        "\n",
        "for ticker, weight in zip(tickers, optimized_weights):\n",
        "    print(f\"{ticker}: {weight:.4f}\")\n",
        "\n",
        "print()\n",
        "\n",
        "optimal_portfolio_return = expected_return(optimized_weights, log_returns)\n",
        "optimal_portfolio_volatility = standard_deviation(optimized_weights, cov_matrix)\n",
        "optimal_sharpe_ratio = sharpe_ratio(optimized_weights, log_returns, cov_matrix, risk_free_rate)\n",
        "\n",
        "print(f\"Optimal Portfolio Return: {optimal_portfolio_return:.4f}\")\n",
        "print(f\"Optimal Portfolio Volatility: {optimal_portfolio_volatility:.4f}\")\n",
        "print(f\"Optimal Sharpe Ratio: {optimal_sharpe_ratio:.4f}\")"
      ],
      "metadata": {
        "colab": {
          "base_uri": "https://localhost:8080/"
        },
        "id": "YfV8d71-C4gq",
        "outputId": "586e6dbc-29a8-4158-d0e5-c843a0250d52"
      },
      "execution_count": 40,
      "outputs": [
        {
          "output_type": "stream",
          "name": "stdout",
          "text": [
            "CSX: 0.5000\n",
            "UNP: 0.4031\n",
            "NSC: 0.0969\n",
            "CP: 0.0000\n",
            "CNI: 0.0000\n",
            "RAIL: 0.0000\n",
            "FSTR: 0.0000\n",
            "TRN: 0.0000\n",
            "GBX: 0.0000\n",
            "WAB: 0.0000\n",
            "\n",
            "Optimal Portfolio Return: 0.1024\n",
            "Optimal Portfolio Volatility: 0.2526\n",
            "Optimal Sharpe Ratio: 0.2293\n"
          ]
        }
      ]
    },
    {
      "cell_type": "code",
      "source": [
        "#display the final portfolio in a plot\n",
        "\n",
        "import matplotlib.pyplot as plt\n",
        "\n",
        "plt.figure(figsize=(10, 6))\n",
        "plt.bar(tickers, optimized_weights)\n",
        "plt.xlabel('Tickers')\n",
        "plt.ylabel('Weights')\n",
        "plt.title('Optimal Portfolio Weights')\n",
        "plt.show()"
      ],
      "metadata": {
        "colab": {
          "base_uri": "https://localhost:8080/",
          "height": 564
        },
        "id": "N-IIdBoSDzEm",
        "outputId": "7134ac62-6a91-4e77-bf88-29d9231ac4f3"
      },
      "execution_count": 41,
      "outputs": [
        {
          "output_type": "display_data",
          "data": {
            "text/plain": [
              "<Figure size 1000x600 with 1 Axes>"
            ],
            "image/png": "[encoded data removed]"
          },
          "metadata": {}
        }
      ]
    }
  ]
}