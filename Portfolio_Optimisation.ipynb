{
  "nbformat": 4,
  "nbformat_minor": 0,
  "metadata": {
    "colab": {
      "provenance": [],
      "history_visible": true,
      "authorship_tag": "ABX9TyP9Ojb25uo6sUeOzLtvOwoN",
      "include_colab_link": true
    },
    "kernelspec": {
      "name": "python3",
      "display_name": "Python 3"
    },
    "language_info": {
      "name": "python"
    }
  },
  "cells": [
    {
      "cell_type": "markdown",
      "metadata": {
        "id": "view-in-github",
        "colab_type": "text"
      },
      "source": [
        "<a href=\"https://colab.research.google.com/github/noelmtv/Colab-Learning/blob/main/Portfolio_Optimisation.ipynb\" target=\"_parent\"><img src=\"https://colab.research.google.com/assets/colab-badge.svg\" alt=\"Open In Colab\"/></a>"
      ]
    },
    {
      "cell_type": "code",
      "execution_count": null,
      "metadata": {
        "colab": {
          "base_uri": "https://localhost:8080/"
        },
        "id": "d9eaifKFyqhP",
        "outputId": "b2ce66b2-46cf-48f2-8d69-4366496975af"
      },
      "outputs": [
        {
          "output_type": "stream",
          "name": "stdout",
          "text": [
            "Requirement already satisfied: fredapi in /usr/local/lib/python3.10/dist-packages (0.5.2)\n",
            "Requirement already satisfied: pandas in /usr/local/lib/python3.10/dist-packages (from fredapi) (2.2.2)\n",
            "Requirement already satisfied: numpy>=1.22.4 in /usr/local/lib/python3.10/dist-packages (from pandas->fredapi) (1.26.4)\n",
            "Requirement already satisfied: python-dateutil>=2.8.2 in /usr/local/lib/python3.10/dist-packages (from pandas->fredapi) (2.8.2)\n",
            "Requirement already satisfied: pytz>=2020.1 in /usr/local/lib/python3.10/dist-packages (from pandas->fredapi) (2024.2)\n",
            "Requirement already satisfied: tzdata>=2022.7 in /usr/local/lib/python3.10/dist-packages (from pandas->fredapi) (2024.2)\n",
            "Requirement already satisfied: six>=1.5 in /usr/local/lib/python3.10/dist-packages (from python-dateutil>=2.8.2->pandas->fredapi) (1.17.0)\n"
          ]
        }
      ],
      "source": [
        "# Import libraries#\n",
        "import yfinance as yf\n",
        "import pandas as pd\n",
        "from datetime import datetime, timedelta\n",
        "import numpy as np\n",
        "from scipy.optimize import minimize\n",
        "!pip install fredapi\n",
        "\n"
      ]
    },
    {
      "cell_type": "code",
      "source": [
        "#define the list of tickers#\n",
        "tickers = [\n",
        "    \"LEN\", \"TOL\",\"LGIH\",\"DHI\"\n",
        "]\n"
      ],
      "metadata": {
        "id": "XuGvz901z6cP"
      },
      "execution_count": null,
      "outputs": []
    },
    {
      "cell_type": "code",
      "source": [
        "#SET THE END DATE TO TODAY#\n",
        "end_date = datetime.today()"
      ],
      "metadata": {
        "id": "2Zo4QD1I0Z6u"
      },
      "execution_count": null,
      "outputs": []
    },
    {
      "cell_type": "code",
      "source": [
        "#Set start date#\n",
        "start_date = end_date - timedelta(days=10*365)\n",
        "print(start_date)"
      ],
      "metadata": {
        "colab": {
          "base_uri": "https://localhost:8080/"
        },
        "id": "X3FJ-BXQ0oMh",
        "outputId": "53dbdef0-3835-4f82-e385-f0f4250af14f"
      },
      "execution_count": null,
      "outputs": [
        {
          "output_type": "stream",
          "name": "stdout",
          "text": [
            "2015-01-17 14:09:36.751851\n"
          ]
        }
      ]
    },
    {
      "cell_type": "code",
      "source": [
        "#download adjusted close prices#\n",
        "#This is done because you dont want to underweight a stock that pays out dividends#\n",
        "adj_close_df = pd.DataFrame()\n",
        "print(adj_close_df.columns)\n",
        "\n"
      ],
      "metadata": {
        "id": "lrQH6KDQ1EB2",
        "colab": {
          "base_uri": "https://localhost:8080/"
        },
        "outputId": "d9e62489-6bf5-4286-bb57-22acf88c1621"
      },
      "execution_count": null,
      "outputs": [
        {
          "output_type": "stream",
          "name": "stdout",
          "text": [
            "RangeIndex(start=0, stop=0, step=1)\n"
          ]
        }
      ]
    },
    {
      "cell_type": "code",
      "source": [
        "# Download the prices for each ticker#\n",
        "for ticker in tickers:\n",
        "    data = yf.download(ticker, start=start_date, end=end_date)\n",
        "    adj_close_df[ticker] = data[\"Close\"]"
      ],
      "metadata": {
        "colab": {
          "base_uri": "https://localhost:8080/"
        },
        "collapsed": true,
        "id": "quN0_LlK2BT8",
        "outputId": "44663373-739b-4e26-b6b6-53f5b094cda5"
      },
      "execution_count": null,
      "outputs": [
        {
          "output_type": "stream",
          "name": "stderr",
          "text": [
            "[*********************100%***********************]  1 of 1 completed\n",
            "[*********************100%***********************]  1 of 1 completed\n",
            "[*********************100%***********************]  1 of 1 completed\n",
            "[*********************100%***********************]  1 of 1 completed\n"
          ]
        }
      ]
    },
    {
      "cell_type": "code",
      "source": [
        "print(adj_close_df)"
      ],
      "metadata": {
        "colab": {
          "base_uri": "https://localhost:8080/"
        },
        "collapsed": true,
        "id": "pakGXYrk2kyP",
        "outputId": "83049856-2bfc-44e7-dac6-5e37c5c4daf3"
      },
      "execution_count": null,
      "outputs": [
        {
          "output_type": "stream",
          "name": "stdout",
          "text": [
            "                   LEN         TOL       LGIH         DHI\n",
            "Date                                                     \n",
            "2015-01-20   38.380718   30.304943  13.050000   20.574526\n",
            "2015-01-21   39.233025   30.533142  13.900000   20.986910\n",
            "2015-01-22   39.740780   30.788733  13.280000   21.237930\n",
            "2015-01-23   39.650093   30.633556  12.960000   20.708992\n",
            "2015-01-26   40.701878   31.007793  13.740000   21.856512\n",
            "...                ...         ...        ...         ...\n",
            "2025-01-06  135.059998  125.871681  86.889999  139.360001\n",
            "2025-01-07  133.139999  123.635742  84.650002  137.839996\n",
            "2025-01-08  133.539993  126.799995  85.870003  139.899994\n",
            "2025-01-10  129.559998  123.540001  83.290001  136.520004\n",
            "2025-01-13  131.580002  126.150002  84.449997  138.399994\n",
            "\n",
            "[2512 rows x 4 columns]\n"
          ]
        }
      ]
    },
    {
      "cell_type": "markdown",
      "source": [
        "**Step 3: Calculate the Lognormal Returns**"
      ],
      "metadata": {
        "id": "88A7eey53rN8"
      }
    },
    {
      "cell_type": "code",
      "source": [
        "#Calculate the Lognormal returns for each ticker#\n",
        "#Use lognormal because the returns are additive#\n",
        "log_returns = np.log(adj_close_df / adj_close_df.shift(1))"
      ],
      "metadata": {
        "id": "ApkkiX9b2wYh"
      },
      "execution_count": null,
      "outputs": []
    },
    {
      "cell_type": "code",
      "source": [
        "#drop missing values#\n",
        "log_returns = log_returns.dropna()"
      ],
      "metadata": {
        "id": "1ZPYIg8D4W4E"
      },
      "execution_count": null,
      "outputs": []
    },
    {
      "cell_type": "markdown",
      "source": [
        "**Step 4: Calculate the Covariance Matrix**"
      ],
      "metadata": {
        "id": "t14EE58Q4pbT"
      }
    },
    {
      "cell_type": "code",
      "source": [
        "#helps us calculate standard deviation/risk in the most optimal way possible#\n",
        "# MULTIPLY BY 252 TO ANNUALISE THE DAILY RETURNS#\n",
        "\n",
        "cov_matrix = log_returns.cov() * 252\n",
        "print(cov_matrix)"
      ],
      "metadata": {
        "colab": {
          "base_uri": "https://localhost:8080/"
        },
        "collapsed": true,
        "id": "czSFTE8N45R5",
        "outputId": "6010a4df-6f29-41e6-a9c0-c416795e8cb7"
      },
      "execution_count": null,
      "outputs": [
        {
          "output_type": "stream",
          "name": "stdout",
          "text": [
            "           LEN       TOL      LGIH       DHI\n",
            "LEN   0.131031  0.122322  0.129539  0.112973\n",
            "TOL   0.122322  0.162574  0.134450  0.114271\n",
            "LGIH  0.129539  0.134450  0.251168  0.124250\n",
            "DHI   0.112973  0.114271  0.124250  0.121768\n"
          ]
        }
      ]
    },
    {
      "cell_type": "markdown",
      "source": [
        "**Section 5: Define portfolio Performance Metrics**"
      ],
      "metadata": {
        "id": "h1kWCG_r55-Q"
      }
    },
    {
      "cell_type": "code",
      "source": [
        "#calculate the portfolio standard deviation#\n",
        "def standard_deviation(weights,cov_matrix):\n",
        "    variance = weights.T @ cov_matrix @ weights\n",
        "    return np.sqrt(variance)\n"
      ],
      "metadata": {
        "id": "66cDAQj86DSh"
      },
      "execution_count": null,
      "outputs": []
    },
    {
      "cell_type": "code",
      "source": [
        "#Calculate Expected Returns using historical returns#\n",
        "def expected_return(weights, log_returns):\n",
        "    return np.sum(log_returns.mean() * weights)*252"
      ],
      "metadata": {
        "id": "0bSLq8BQ7dbb"
      },
      "execution_count": null,
      "outputs": []
    },
    {
      "cell_type": "code",
      "source": [
        "# calculate the Sharpe Ratio\n",
        "\n",
        "def sharpe_ratio(weights, log_returns, cov_matrix, risk_free_rate):\n",
        "    return (expected_return(weights, log_returns) - risk_free_rate) / standard_deviation(weights, cov_matrix)\n"
      ],
      "metadata": {
        "id": "hsiE4L1F72n4"
      },
      "execution_count": null,
      "outputs": []
    },
    {
      "cell_type": "code",
      "source": [
        "# Define your FRED API key\n",
        "from google.colab import userdata\n",
        "fred_api_key = userdata.get('fred_api_key')\n",
        "\n",
        "# Get the risk free rate\n",
        "from fredapi import Fred\n",
        "fred = Fred(api_key = fred_api_key)\n",
        "ten_year_treasury_rate = fred.get_series('GS10')/100\n",
        "\n",
        "#Set the risk free rate\n",
        "risk_free_rate = ten_year_treasury_rate.iloc[-1]\n",
        "print(risk_free_rate)\n"
      ],
      "metadata": {
        "colab": {
          "base_uri": "https://localhost:8080/"
        },
        "id": "FnbLOkR087h4",
        "outputId": "cfb2531f-838b-4f2d-eb27-bf97ebd839bb"
      },
      "execution_count": null,
      "outputs": [
        {
          "output_type": "stream",
          "name": "stdout",
          "text": [
            "0.043899999999999995\n"
          ]
        }
      ]
    },
    {
      "cell_type": "code",
      "source": [
        "#Define the function to minimize (Negative Sharpe Ratio)\n",
        "# In the case of scipy, there is no direct method to find the maximum value of a function so you gotta flip it.\n",
        "\n",
        "def neg_sharpe_ratio(weights, log_returns, cov_matrix, risk_free_rate):\n",
        "    return -sharpe_ratio(weights, log_returns, cov_matrix, risk_free_rate)\n",
        "\n",
        "    print(neg_sharpe_ratio)"
      ],
      "metadata": {
        "id": "guQT73jmAV1l"
      },
      "execution_count": null,
      "outputs": []
    },
    {
      "cell_type": "code",
      "source": [
        "#Set the constraints and bounds\n",
        "constraints = ({'type': 'eq', 'fun': lambda weights: np.sum(weights) - 1})\n",
        "bounds = [(0,0.5) for _ in range(len(tickers))]"
      ],
      "metadata": {
        "id": "vy0dwW6CA805"
      },
      "execution_count": null,
      "outputs": []
    },
    {
      "cell_type": "code",
      "source": [
        "#Set the initial weights\n",
        "initial_weights = np.array([1/len(tickers)] * len(tickers))\n",
        "print(initial_weights)"
      ],
      "metadata": {
        "colab": {
          "base_uri": "https://localhost:8080/"
        },
        "id": "9z658EExBlCD",
        "outputId": "53639a90-4cd3-4fba-c040-2fe5120c3cdc"
      },
      "execution_count": null,
      "outputs": [
        {
          "output_type": "stream",
          "name": "stdout",
          "text": [
            "[0.25 0.25 0.25 0.25]\n"
          ]
        }
      ]
    },
    {
      "cell_type": "code",
      "source": [
        "#optimize the weights to maximise the sharpe ratio\n",
        "\n",
        "optimized_results = minimize(neg_sharpe_ratio, initial_weights, args=(log_returns, cov_matrix, risk_free_rate),\n",
        "                                 method='SLSQP', bounds=bounds, constraints=constraints)\n",
        "optimized_weights = optimized_results.x\n",
        "\n",
        "# Print the optimized weights\n",
        "print(\"Optimized Weights:\")\n",
        "print(optimized_weights)"
      ],
      "metadata": {
        "colab": {
          "base_uri": "https://localhost:8080/"
        },
        "id": "NAlLYOKfCHgk",
        "outputId": "d23e7d73-aecd-418a-c88c-fccdcad85b5b"
      },
      "execution_count": null,
      "outputs": [
        {
          "output_type": "stream",
          "name": "stdout",
          "text": [
            "Optimized Weights:\n",
            "[0.         0.12809317 0.37190683 0.5       ]\n"
          ]
        }
      ]
    },
    {
      "cell_type": "markdown",
      "source": [
        "**Analyse the optimal portfolio**"
      ],
      "metadata": {
        "id": "eevwdnzECvs8"
      }
    },
    {
      "cell_type": "code",
      "source": [
        "# Display the analytics of the optimal portfolio\n",
        "\n",
        "for ticker, weight in zip(tickers, optimized_weights):\n",
        "    print(f\"{ticker}: {weight:.4f}\")\n",
        "\n",
        "print()\n",
        "\n",
        "optimal_portfolio_return = expected_return(optimized_weights, log_returns)\n",
        "optimal_portfolio_volatility = standard_deviation(optimized_weights, cov_matrix)\n",
        "optimal_sharpe_ratio = sharpe_ratio(optimized_weights, log_returns, cov_matrix, risk_free_rate)\n",
        "\n",
        "print(f\"Optimal Portfolio Return: {optimal_portfolio_return:.4f}\")\n",
        "print(f\"Optimal Portfolio Volatility: {optimal_portfolio_volatility:.4f}\")\n",
        "print(f\"Optimal Sharpe Ratio: {optimal_sharpe_ratio:.4f}\")"
      ],
      "metadata": {
        "colab": {
          "base_uri": "https://localhost:8080/"
        },
        "id": "YfV8d71-C4gq",
        "outputId": "f8b246a2-5185-45ee-e1c4-146a2254e4e7"
      },
      "execution_count": null,
      "outputs": [
        {
          "output_type": "stream",
          "name": "stdout",
          "text": [
            "LEN: 0.0000\n",
            "TOL: 0.1281\n",
            "LGIH: 0.3719\n",
            "DHI: 0.5000\n",
            "\n",
            "Optimal Portfolio Return: 0.1837\n",
            "Optimal Portfolio Volatility: 0.3762\n",
            "Optimal Sharpe Ratio: 0.3716\n"
          ]
        }
      ]
    },
    {
      "cell_type": "code",
      "source": [
        "#display the final portfolio in a plot\n",
        "\n",
        "import matplotlib.pyplot as plt\n",
        "\n",
        "plt.figure(figsize=(10, 6))\n",
        "plt.bar(tickers, optimized_weights)\n",
        "plt.xlabel('Tickers')\n",
        "plt.ylabel('Weights')\n",
        "plt.title('Optimal Portfolio Weights')\n",
        "plt.show()"
      ],
      "metadata": {
        "colab": {
          "base_uri": "https://localhost:8080/",
          "height": 564
        },
        "id": "N-IIdBoSDzEm",
        "outputId": "966db809-8491-4351-f735-7bcb97dcb4c9"
      },
      "execution_count": null,
      "outputs": [
        {
          "output_type": "display_data",
          "data": {
            "text/plain": [
              "<Figure size 1000x600 with 1 Axes>"
            ],
            "image/png": "[encoded data removed]"
          },
          "metadata": {}
        }
      ]
    }
  ]
}