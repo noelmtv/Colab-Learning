{
  "nbformat": 4,
  "nbformat_minor": 0,
  "metadata": {
    "colab": {
      "provenance": [],
      "authorship_tag": "ABX9TyO8XrSbJp9ogUykT/QKnbFW",
      "include_colab_link": true
    },
    "kernelspec": {
      "name": "python3",
      "display_name": "Python 3"
    },
    "language_info": {
      "name": "python"
    }
  },
  "cells": [
    {
      "cell_type": "markdown",
      "metadata": {
        "id": "view-in-github",
        "colab_type": "text"
      },
      "source": [
        "<a href=\"https://colab.research.google.com/github/noelmtv/Colab-Learning/blob/Pyhon-for-Data-Analytics/%5B2%5D_Python_Terms_(Big_6).ipynb\" target=\"_parent\"><img src=\"https://colab.research.google.com/assets/colab-badge.svg\" alt=\"Open In Colab\"/></a>"
      ]
    },
    {
      "cell_type": "code",
      "execution_count": null,
      "metadata": {
        "id": "NUj0bycW0079"
      },
      "outputs": [],
      "source": []
    },
    {
      "cell_type": "markdown",
      "source": [
        "# Objects\n",
        "\n",
        "In Python, everything is an object. Think of an object as a container that holds data (known as attributes) and actions that can be performed on that data (known as methods).\n",
        "\n",
        "Analogy: Imagine a car as an object.\n",
        "\n",
        "Attributes: color, model, year, speed\n",
        "Methods: start, accelerate, brake, turn.\n",
        "Key Concepts:\n",
        "\n",
        "Class: A blueprint or template for creating objects. It defines the attributes and methods that objects of that class will have.\n",
        "Object: An instance of a class. It's a specific realization of the blueprint with its own unique data.\n",
        "\n"
      ],
      "metadata": {
        "id": "YJWrD3TN1Anv"
      }
    },
    {
      "source": [
        "class Car:\n",
        "  def __init__(self, color, model):\n",
        "    self.color = color\n",
        "    self.model = model\n",
        "\n",
        "  def start(self):\n",
        "    print(\"The car has started.\")\n",
        "\n",
        "# Create an object (instance) of the Car class\n",
        "my_car = Car(\"red\", \"Toyota Camry\")\n",
        "\n",
        "# Access attributes\n",
        "print(my_car.color)  # Output: red\n",
        "\n",
        "# Call methods\n",
        "my_car.start()  # Output: The car has started."
      ],
      "cell_type": "code",
      "metadata": {
        "colab": {
          "base_uri": "https://localhost:8080/"
        },
        "id": "iUnnJtX-1nCy",
        "outputId": "dfb6ed83-6cd1-4440-f8f9-ab4ca0961539"
      },
      "execution_count": null,
      "outputs": [
        {
          "output_type": "stream",
          "name": "stdout",
          "text": [
            "red\n",
            "The car has started.\n"
          ]
        }
      ]
    },
    {
      "cell_type": "markdown",
      "source": [
        "# Functions: The manipulators of Objects\n",
        "\n",
        "Function: A reusable piece of code that performs a specifc task"
      ],
      "metadata": {
        "id": "WKQ74qEF2y3y"
      }
    },
    {
      "cell_type": "code",
      "source": [
        "print(\"Hello, World!\")"
      ],
      "metadata": {
        "colab": {
          "base_uri": "https://localhost:8080/"
        },
        "id": "pDrpGBUn3NCG",
        "outputId": "12f949ad-f28e-4d56-eb77-689d9a01dd74"
      },
      "execution_count": null,
      "outputs": [
        {
          "output_type": "stream",
          "name": "stdout",
          "text": [
            "Hello, World!\n"
          ]
        }
      ]
    },
    {
      "cell_type": "code",
      "source": [
        "def greet():\n",
        "  return \"Hello, World!\""
      ],
      "metadata": {
        "id": "6v5OZ2rr3Wd6"
      },
      "execution_count": null,
      "outputs": []
    },
    {
      "cell_type": "code",
      "source": [
        "greet"
      ],
      "metadata": {
        "colab": {
          "base_uri": "https://localhost:8080/",
          "height": 104
        },
        "id": "qq3D8Q7e33Fb",
        "outputId": "25b814f9-27f1-47c7-d72a-9c52bfecb89e"
      },
      "execution_count": null,
      "outputs": [
        {
          "output_type": "execute_result",
          "data": {
            "text/plain": [
              "<function __main__.greet()>"
            ],
            "text/html": [
              "<div style=\"max-width:800px; border: 1px solid var(--colab-border-color);\"><style>\n",
              "      pre.function-repr-contents {\n",
              "        overflow-x: auto;\n",
              "        padding: 8px 12px;\n",
              "        max-height: 500px;\n",
              "      }\n",
              "\n",
              "      pre.function-repr-contents.function-repr-contents-collapsed {\n",
              "        cursor: pointer;\n",
              "        max-height: 100px;\n",
              "      }\n",
              "    </style>\n",
              "    <pre style=\"white-space: initial; background:\n",
              "         var(--colab-secondary-surface-color); padding: 8px 12px;\n",
              "         border-bottom: 1px solid var(--colab-border-color);\"><b>greet</b><br/>def greet()</pre><pre class=\"function-repr-contents function-repr-contents-collapsed\" style=\"\"><a class=\"filepath\" style=\"display:none\" href=\"#\">/content/&lt;ipython-input-4-b83080bf7c8d&gt;</a>&lt;no docstring&gt;</pre></div>"
            ]
          },
          "metadata": {},
          "execution_count": 5
        }
      ]
    },
    {
      "cell_type": "code",
      "source": [
        "greet()"
      ],
      "metadata": {
        "colab": {
          "base_uri": "https://localhost:8080/",
          "height": 35
        },
        "id": "ycxYP6FD3-aK",
        "outputId": "8ffa19d5-cfa1-4c0f-8982-f0c8dffbe6ca"
      },
      "execution_count": null,
      "outputs": [
        {
          "output_type": "execute_result",
          "data": {
            "text/plain": [
              "'Hello, World!'"
            ],
            "application/vnd.google.colaboratory.intrinsic+json": {
              "type": "string"
            }
          },
          "metadata": {},
          "execution_count": 6
        }
      ]
    },
    {
      "cell_type": "code",
      "source": [
        "job_title = \"Data Analyst\"\n",
        "job_location = \"Australia\"\n",
        "job_salary = 120000"
      ],
      "metadata": {
        "id": "Jr04vrkx4FJs"
      },
      "execution_count": null,
      "outputs": []
    },
    {
      "cell_type": "code",
      "source": [
        "def display_summary(job_title, job_location, job_salary):\n",
        "  print(f\"Job Title: {job_title}\")\n",
        "  print(f\"Job Location: {job_location}\")\n",
        "  print(f\"Job Salary: {job_salary}\")\n",
        "\n",
        "  # This is a function because it is not iside of a class\n",
        "  # You have to put an 'f' in the print function to inform it of the function you wish to place\n",
        "  # ...inside it\n",
        "  # later on you went to use this function as a method and it messed up the method because\n",
        "  # ...this function is written in such a way that demands 3 arguments(inputs) but you dont\n",
        "  # ...have to do it that way when using classes and methods"
      ],
      "metadata": {
        "id": "ML6CXGSv4-6r"
      },
      "execution_count": null,
      "outputs": []
    },
    {
      "cell_type": "code",
      "source": [
        "display_summary(job_title, job_location, job_salary)"
      ],
      "metadata": {
        "colab": {
          "base_uri": "https://localhost:8080/"
        },
        "id": "9b6RIBBH6IFt",
        "outputId": "b0efbe83-0899-4700-e36f-e29822d69ab4"
      },
      "execution_count": null,
      "outputs": [
        {
          "output_type": "stream",
          "name": "stdout",
          "text": [
            "Job Title: Data Analyst\n",
            "Job Location: Australia\n",
            "Job Salary: 120000\n"
          ]
        }
      ]
    },
    {
      "cell_type": "markdown",
      "source": [
        "# Classes: The template for creating objects\n",
        "\n"
      ],
      "metadata": {
        "id": "KX5Dqcb77aZ0"
      }
    },
    {
      "cell_type": "code",
      "source": [
        "class Job_Post:\n",
        "  def __init__(self, job_title, job_location, job_salary):\n",
        "    self.job_title = job_title\n",
        "    self.job_location = job_location\n",
        "    self.job_salary = job_salary\n",
        "\n",
        "    #in this case 'def' is an atribute and not a function"
      ],
      "metadata": {
        "id": "qfF8BkoG7qDK"
      },
      "execution_count": null,
      "outputs": []
    },
    {
      "cell_type": "markdown",
      "source": [
        "# Attributes: The Variables of an Object\n",
        "\n",
        "Attributes are fields in a record, defined by its class"
      ],
      "metadata": {
        "id": "aEWB7tRG8eNj"
      }
    },
    {
      "cell_type": "code",
      "source": [
        "job_1 = Job_Post( \"Data Analyst\", \"Australia\", 120000)"
      ],
      "metadata": {
        "id": "2P3kI7BF9Ohh"
      },
      "execution_count": null,
      "outputs": []
    },
    {
      "cell_type": "code",
      "source": [
        "job_1.job_title"
      ],
      "metadata": {
        "colab": {
          "base_uri": "https://localhost:8080/",
          "height": 35
        },
        "id": "pSstPX1Q9k0R",
        "outputId": "ac3289d7-b059-4c60-b229-9a14cec2dbaa"
      },
      "execution_count": null,
      "outputs": [
        {
          "output_type": "execute_result",
          "data": {
            "text/plain": [
              "'Data Analyst'"
            ],
            "application/vnd.google.colaboratory.intrinsic+json": {
              "type": "string"
            }
          },
          "metadata": {},
          "execution_count": 21
        }
      ]
    },
    {
      "cell_type": "code",
      "source": [
        "job_1.job_location"
      ],
      "metadata": {
        "colab": {
          "base_uri": "https://localhost:8080/",
          "height": 35
        },
        "id": "GXTzHLSh9no3",
        "outputId": "808f44af-afbe-49c6-b9d6-7344188b90ef"
      },
      "execution_count": null,
      "outputs": [
        {
          "output_type": "execute_result",
          "data": {
            "text/plain": [
              "'Australia'"
            ],
            "application/vnd.google.colaboratory.intrinsic+json": {
              "type": "string"
            }
          },
          "metadata": {},
          "execution_count": 22
        }
      ]
    },
    {
      "cell_type": "code",
      "source": [
        "job_1.job_salary"
      ],
      "metadata": {
        "colab": {
          "base_uri": "https://localhost:8080/"
        },
        "id": "ozLZ4qbr9qMD",
        "outputId": "8b888f63-7305-4664-c0bb-f1bac6b73475"
      },
      "execution_count": null,
      "outputs": [
        {
          "output_type": "execute_result",
          "data": {
            "text/plain": [
              "120000"
            ]
          },
          "metadata": {},
          "execution_count": 23
        }
      ]
    },
    {
      "cell_type": "code",
      "source": [],
      "metadata": {
        "id": "dIMl7RrS9v42"
      },
      "execution_count": null,
      "outputs": []
    },
    {
      "cell_type": "markdown",
      "source": [
        "# Methods: The functions of an Object\n",
        "\n",
        "A method is a function defined inside a class that operates on its objects."
      ],
      "metadata": {
        "id": "NB_pA3Lr-dJB"
      }
    },
    {
      "cell_type": "code",
      "source": [
        "class Job_Post:\n",
        "  def __init__(self, job_title, job_location, job_salary):\n",
        "    self.job_title = job_title\n",
        "    self.job_location = job_location\n",
        "    self.job_salary = job_salary\n",
        "  def display_summary(self):\n",
        "    print(f\"Job Title: {self.job_title}\")\n",
        "    print(f\"Job Location: {self.job_location}\")\n",
        "    print(f\"Job Salary: {self.job_salary}\")\n",
        "\n",
        "    # No need to innitialise a function"
      ],
      "metadata": {
        "id": "z4YBzjAy-ttm"
      },
      "execution_count": null,
      "outputs": []
    },
    {
      "cell_type": "code",
      "source": [
        "job_1 = Job_Post( \"Data Analyst\", \"Australia\", 120000)"
      ],
      "metadata": {
        "id": "99G-ECPyABfP"
      },
      "execution_count": null,
      "outputs": []
    },
    {
      "cell_type": "code",
      "source": [
        "job_1.job_title"
      ],
      "metadata": {
        "colab": {
          "base_uri": "https://localhost:8080/",
          "height": 35
        },
        "id": "fUklZLeqAINt",
        "outputId": "5da00edf-6a22-43d0-8cf9-b060ace24487"
      },
      "execution_count": null,
      "outputs": [
        {
          "output_type": "execute_result",
          "data": {
            "text/plain": [
              "'Data Analyst'"
            ],
            "application/vnd.google.colaboratory.intrinsic+json": {
              "type": "string"
            }
          },
          "metadata": {},
          "execution_count": 4
        }
      ]
    },
    {
      "cell_type": "code",
      "source": [
        "job_1.display_summary"
      ],
      "metadata": {
        "colab": {
          "base_uri": "https://localhost:8080/",
          "height": 104
        },
        "id": "qG2X5y2xANhn",
        "outputId": "5e14f57f-ffeb-4924-bb19-4cc66cfcc13e"
      },
      "execution_count": null,
      "outputs": [
        {
          "output_type": "execute_result",
          "data": {
            "text/plain": [
              "<bound method Job_Post.display_summary of <__main__.Job_Post object at 0x7c2d4113b2b0>>"
            ],
            "text/html": [
              "<div style=\"max-width:800px; border: 1px solid var(--colab-border-color);\"><style>\n",
              "      pre.function-repr-contents {\n",
              "        overflow-x: auto;\n",
              "        padding: 8px 12px;\n",
              "        max-height: 500px;\n",
              "      }\n",
              "\n",
              "      pre.function-repr-contents.function-repr-contents-collapsed {\n",
              "        cursor: pointer;\n",
              "        max-height: 100px;\n",
              "      }\n",
              "    </style>\n",
              "    <pre style=\"white-space: initial; background:\n",
              "         var(--colab-secondary-surface-color); padding: 8px 12px;\n",
              "         border-bottom: 1px solid var(--colab-border-color);\"><b>Job_Post.display_summary</b><br/>def display_summary()</pre><pre class=\"function-repr-contents function-repr-contents-collapsed\" style=\"\"><a class=\"filepath\" style=\"display:none\" href=\"#\">/content/&lt;ipython-input-2-1b36053ad546&gt;</a>&lt;no docstring&gt;</pre></div>"
            ]
          },
          "metadata": {},
          "execution_count": 5
        }
      ]
    },
    {
      "cell_type": "code",
      "source": [
        "job_1.display_summary()"
      ],
      "metadata": {
        "colab": {
          "base_uri": "https://localhost:8080/"
        },
        "outputId": "99879e72-97f3-4952-9a59-e24af8018dab",
        "id": "XJrRxWflAkmD"
      },
      "execution_count": null,
      "outputs": [
        {
          "output_type": "stream",
          "name": "stdout",
          "text": [
            "Job Title: Data Analyst\n",
            "Job Location: Australia\n",
            "Job Salary: 120000\n"
          ]
        }
      ]
    }
  ]
}