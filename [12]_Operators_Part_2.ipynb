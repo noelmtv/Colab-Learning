{
  "nbformat": 4,
  "nbformat_minor": 0,
  "metadata": {
    "colab": {
      "provenance": [],
      "authorship_tag": "ABX9TyNRpOaiFRX5E5F1s4H8lgKv",
      "include_colab_link": true
    },
    "kernelspec": {
      "name": "python3",
      "display_name": "Python 3"
    },
    "language_info": {
      "name": "python"
    }
  },
  "cells": [
    {
      "cell_type": "markdown",
      "metadata": {
        "id": "view-in-github",
        "colab_type": "text"
      },
      "source": [
        "<a href=\"https://colab.research.google.com/github/noelmtv/Colab-Learning/blob/Pyhon-for-Data-Analytics/%5B12%5D_Operators_Part_2.ipynb\" target=\"_parent\"><img src=\"https://colab.research.google.com/assets/colab-badge.svg\" alt=\"Open In Colab\"/></a>"
      ]
    },
    {
      "cell_type": "markdown",
      "source": [
        "## **Logical and Identity Operators in Python**\n",
        "Python has different types of operators, but let’s focus on **logical operators** (`and`, `or`) and **identity operators** (`is`, `is not`).\n",
        "\n",
        "### **1. Logical Operators (`and`, `or`)**\n",
        "Logical operators are used to combine conditional statements.\n",
        "\n",
        "#### **a) `and` Operator**\n",
        "- Returns `True` if **both** conditions are `True`.\n",
        "- Otherwise, it returns `False`.\n",
        "\n",
        "📌 **Example:**\n",
        "```python\n",
        "x = 5\n",
        "y = 10\n",
        "z = 15\n",
        "\n",
        "# Both conditions must be True\n",
        "result = (x < y) and (y < z)  \n",
        "print(result)  # True\n",
        "\n",
        "# One condition is False\n",
        "result = (x > y) and (y < z)  \n",
        "print(result)  # False\n",
        "```\n",
        "\n",
        "#### **b) `or` Operator**\n",
        "- Returns `True` if **at least one** condition is `True`.\n",
        "- Returns `False` if **both** conditions are `False`.\n",
        "\n",
        "📌 **Example:**\n",
        "```python\n",
        "x = 5\n",
        "y = 10\n",
        "z = 15\n",
        "\n",
        "# At least one condition is True\n",
        "result = (x > y) or (y < z)  \n",
        "print(result)  # True\n",
        "\n",
        "# Both conditions are False\n",
        "result = (x > y) or (z < y)  \n",
        "print(result)  # False\n",
        "```\n",
        "\n",
        "---\n",
        "\n",
        "### **2. Identity Operators (`is`, `is not`)**\n",
        "Identity operators compare whether two variables **point to the same object in memory**, not just if they have the same value.\n",
        "\n",
        "#### **a) `is` Operator**\n",
        "- Returns `True` if both variables **refer to the same object**.\n",
        "\n",
        "📌 **Example:**\n",
        "```python\n",
        "a = [1, 2, 3]\n",
        "b = a  # Both variables point to the same list in memory\n",
        "c = [1, 2, 3]  # A new list with the same values but a different object\n",
        "\n",
        "print(a is b)  # True (same object)\n",
        "print(a is c)  # False (different objects)\n",
        "```\n",
        "\n",
        "#### **b) `is not` Operator**\n",
        "- Returns `True` if variables **do not refer to the same object**.\n",
        "\n",
        "📌 **Example:**\n",
        "```python\n",
        "a = [1, 2, 3]\n",
        "b = [1, 2, 3]\n",
        "\n",
        "print(a is not b)  # True (different objects)\n",
        "```\n",
        "\n",
        "---\n",
        "\n",
        "### **Key Takeaways**\n",
        "| Operator | Meaning | Example | Output |\n",
        "|----------|---------|---------|--------|\n",
        "| `and` | Both conditions must be `True` | `(5 < 10) and (10 < 15)` | `True` |\n",
        "| `or` | At least one condition must be `True` | `(5 > 10) or (10 < 15)` | `True` |\n",
        "| `is` | Checks if two variables refer to the same object | `a is b` | `True` or `False` |\n",
        "| `is not` | Checks if two variables refer to different objects | `a is not b` | `True` |\n"
      ],
      "metadata": {
        "id": "ITUAOKjA-9KH"
      }
    },
    {
      "cell_type": "markdown",
      "source": [
        "# Lecture Practice"
      ],
      "metadata": {
        "id": "7wfzHCM3JpxS"
      }
    },
    {
      "cell_type": "markdown",
      "source": [
        "## Logical Operators"
      ],
      "metadata": {
        "id": "CKKtaictJvXV"
      }
    },
    {
      "cell_type": "code",
      "source": [
        "job_wfh = True\n",
        "job_health_insurance = True\n",
        "job_degree_required = False\n",
        "\n",
        "print(job_wfh and job_health_insurance)\n",
        "print(job_wfh and job_degree_required)\n",
        "print(job_wfh and job_health_insurance or job_degree_required)\n"
      ],
      "metadata": {
        "colab": {
          "base_uri": "https://localhost:8080/"
        },
        "id": "fDfCid8NJz74",
        "outputId": "83b7e7f1-8695-480c-c1d1-1e0aee3319f5"
      },
      "execution_count": 4,
      "outputs": [
        {
          "output_type": "stream",
          "name": "stdout",
          "text": [
            "True\n",
            "False\n",
            "True\n"
          ]
        }
      ]
    },
    {
      "cell_type": "code",
      "source": [
        "job_wfh and not job_degree_required\n",
        "# the not operator just flips the proceding thing"
      ],
      "metadata": {
        "colab": {
          "base_uri": "https://localhost:8080/"
        },
        "id": "9CgfxaiFKPpV",
        "outputId": "92076917-f013-4df1-a14a-1cdceb12571e"
      },
      "execution_count": 5,
      "outputs": [
        {
          "output_type": "execute_result",
          "data": {
            "text/plain": [
              "True"
            ]
          },
          "metadata": {},
          "execution_count": 5
        }
      ]
    },
    {
      "cell_type": "code",
      "source": [
        "if job_wfh or job_degree_required or not job_degree_required:\n",
        "  print(\"Meets condition\")"
      ],
      "metadata": {
        "colab": {
          "base_uri": "https://localhost:8080/"
        },
        "id": "_GK4U5lHLWTx",
        "outputId": "228b6920-2167-4f49-fb9f-beda9c1b128d"
      },
      "execution_count": 6,
      "outputs": [
        {
          "output_type": "stream",
          "name": "stdout",
          "text": [
            "Meets condition\n"
          ]
        }
      ]
    },
    {
      "cell_type": "markdown",
      "source": [
        "## Membership Operators"
      ],
      "metadata": {
        "id": "ByVs2VGGMUe3"
      }
    },
    {
      "cell_type": "markdown",
      "source": [
        "| Operator | Meaning | Example |\n",
        "|----------|---------|---------|\n",
        "| `in` | Memebership  | `x in y`|\n",
        "| `not in` | Not Membership | `x not in y`| [link text](https://)"
      ],
      "metadata": {
        "id": "xftThkgHM5OY"
      }
    },
    {
      "cell_type": "code",
      "source": [
        "print(\"Data\" in \"Data Analyst\")\n",
        "print(\"Data\" in \"data Analyst\")\n",
        "print(\"Data\" not in \"data Analyst\")\n",
        "\n",
        "# these are case sensitive\n"
      ],
      "metadata": {
        "colab": {
          "base_uri": "https://localhost:8080/"
        },
        "id": "_GhWS0UrN1L0",
        "outputId": "4c42b7b1-9cf5-44bd-fabd-ad04e12bc889"
      },
      "execution_count": 9,
      "outputs": [
        {
          "output_type": "stream",
          "name": "stdout",
          "text": [
            "True\n",
            "False\n",
            "True\n"
          ]
        }
      ]
    },
    {
      "cell_type": "markdown",
      "source": [
        "### Use in Lists"
      ],
      "metadata": {
        "id": "p4e-3oc-OXa9"
      }
    },
    {
      "cell_type": "code",
      "source": [
        "job_skills = [\"python\", \"r\", \"sql\", \"tableau\"]\n",
        "\n",
        "print(\"python\" in job_skills)\n",
        "print(\"excel\" in job_skills)\n",
        "print(\"excel\" not in job_skills)"
      ],
      "metadata": {
        "colab": {
          "base_uri": "https://localhost:8080/"
        },
        "id": "thgcD1tCOcOL",
        "outputId": "33a75437-0a5f-4b5a-996a-faa4b719a97a"
      },
      "execution_count": 10,
      "outputs": [
        {
          "output_type": "stream",
          "name": "stdout",
          "text": [
            "True\n",
            "False\n",
            "True\n"
          ]
        }
      ]
    },
    {
      "cell_type": "markdown",
      "source": [
        "## Identity operators\n",
        "\n",
        "|Operator|Operator Type| Example|\n",
        "|--------|-------------|--------|\n",
        "|`is`| Identity| x `is` y|\n",
        "|`is not`| Not Identity| x `is not` y|\n",
        "\n",
        "\n",
        "\n",
        "\n",
        "\n",
        "##### Remember Identity operators are not comparison operators `(=)`\n",
        "\n",
        "\n",
        "\n"
      ],
      "metadata": {
        "id": "dF6D9tmHOy33"
      }
    },
    {
      "cell_type": "code",
      "source": [
        "noel_salary = 100_000\n",
        "anon_salary = 100_000\n",
        "\n",
        "noel_salary is anon_salary\n",
        "# the is operator is verifying if the variables are using the same memory\n",
        "# location for the value their holding"
      ],
      "metadata": {
        "colab": {
          "base_uri": "https://localhost:8080/"
        },
        "id": "2C3oxjw_QpDN",
        "outputId": "86774c4d-9934-41ef-f535-8fb8deedd047"
      },
      "execution_count": 14,
      "outputs": [
        {
          "output_type": "execute_result",
          "data": {
            "text/plain": [
              "False"
            ]
          },
          "metadata": {},
          "execution_count": 14
        }
      ]
    },
    {
      "cell_type": "code",
      "source": [
        "print(id(noel_salary))\n",
        "print(id(anon_salary))\n",
        "print(id(noel_salary) == id(anon_salary))"
      ],
      "metadata": {
        "colab": {
          "base_uri": "https://localhost:8080/"
        },
        "id": "Ze7GC481RaTF",
        "outputId": "fdfef53b-28e4-4ad5-9c7b-6f2cf6d27810"
      },
      "execution_count": 18,
      "outputs": [
        {
          "output_type": "stream",
          "name": "stdout",
          "text": [
            "135255130056880\n",
            "135255130047760\n",
            "False\n"
          ]
        }
      ]
    },
    {
      "cell_type": "markdown",
      "source": [
        "### Proper Use"
      ],
      "metadata": {
        "id": "xAE3xHUdSe_x"
      }
    },
    {
      "cell_type": "code",
      "source": [
        "core_skils = [\"python\", \"r\", \"sql\", \"tableau\"]\n",
        "anon_skills = core_skils\n",
        "\n",
        "print(core_skils is anon_skills)\n",
        "print(core_skils == anon_skills)\n",
        "print(id(core_skils))\n",
        "print(id(anon_skills))"
      ],
      "metadata": {
        "colab": {
          "base_uri": "https://localhost:8080/"
        },
        "id": "yjVwKEPrShfi",
        "outputId": "459a523c-5ad0-4462-c996-c39ec8f83ee4"
      },
      "execution_count": 20,
      "outputs": [
        {
          "output_type": "stream",
          "name": "stdout",
          "text": [
            "True\n",
            "True\n",
            "135255128779264\n",
            "135255128779264\n"
          ]
        }
      ]
    },
    {
      "cell_type": "markdown",
      "source": [
        "## Bitwise Operators\n",
        "\n",
        "\n",
        "\n",
        "|Operator| Operator Type| Exapmle|\n",
        "|--------|--------------|--------|\n",
        "|`&`     | Bitwise AND  | x & y  |\n",
        "| `\\|`   | Bitwise Or   | x \\| y |\n",
        "|`^`     | Bitwise XOR  | x^y    |\n",
        "|`~`     | Bitwise NOT  | ~x     |\n",
        "|`<<`    | Left Shift   | x << y |\n",
        "|`>>`    | Right Shift  | x >> y |"
      ],
      "metadata": {
        "id": "MKMX3OOCTbnS"
      }
    },
    {
      "cell_type": "code",
      "source": [
        "bin(42)\n",
        "# this is how the computer is processing 42"
      ],
      "metadata": {
        "colab": {
          "base_uri": "https://localhost:8080/",
          "height": 35
        },
        "id": "m3m3Vfs9XjCY",
        "outputId": "29351236-10f4-4565-9e48-cf00835fa0bd"
      },
      "execution_count": 21,
      "outputs": [
        {
          "output_type": "execute_result",
          "data": {
            "text/plain": [
              "'0b101010'"
            ],
            "application/vnd.google.colaboratory.intrinsic+json": {
              "type": "string"
            }
          },
          "metadata": {},
          "execution_count": 21
        }
      ]
    },
    {
      "cell_type": "code",
      "source": [],
      "metadata": {
        "id": "3CaSSsQxXtGW"
      },
      "execution_count": null,
      "outputs": []
    }
  ]
}