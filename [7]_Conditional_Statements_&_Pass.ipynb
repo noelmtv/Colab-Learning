{
  "nbformat": 4,
  "nbformat_minor": 0,
  "metadata": {
    "colab": {
      "provenance": [],
      "authorship_tag": "ABX9TyMGJ/C++jzm8bWJZ8eM8FCf",
      "include_colab_link": true
    },
    "kernelspec": {
      "name": "python3",
      "display_name": "Python 3"
    },
    "language_info": {
      "name": "python"
    }
  },
  "cells": [
    {
      "cell_type": "markdown",
      "metadata": {
        "id": "view-in-github",
        "colab_type": "text"
      },
      "source": [
        "<a href=\"https://colab.research.google.com/github/noelmtv/Colab-Learning/blob/Pyhon-for-Data-Analytics/%5B7%5D_Conditional_Statements_%26_Pass.ipynb\" target=\"_parent\"><img src=\"https://colab.research.google.com/assets/colab-badge.svg\" alt=\"Open In Colab\"/></a>"
      ]
    },
    {
      "cell_type": "markdown",
      "source": [
        "# IF statements"
      ],
      "metadata": {
        "id": "T9SabCAfULCI"
      }
    },
    {
      "cell_type": "code",
      "execution_count": null,
      "metadata": {
        "id": "hAUVlwvIQCYx"
      },
      "outputs": [],
      "source": [
        "if False:\n",
        "    print(\"What's up data nerds\")"
      ]
    },
    {
      "cell_type": "code",
      "source": [
        "if False:\n",
        "print(\"What's up data nerds\")"
      ],
      "metadata": {
        "colab": {
          "base_uri": "https://localhost:8080/",
          "height": 106
        },
        "id": "cBy7R4_qUYsc",
        "outputId": "48ddefbd-0c1f-49a8-a8be-6f13f114b11c"
      },
      "execution_count": null,
      "outputs": [
        {
          "output_type": "error",
          "ename": "IndentationError",
          "evalue": "expected an indented block after 'if' statement on line 1 (<ipython-input-3-f7846ba22c46>, line 2)",
          "traceback": [
            "\u001b[0;36m  File \u001b[0;32m\"<ipython-input-3-f7846ba22c46>\"\u001b[0;36m, line \u001b[0;32m2\u001b[0m\n\u001b[0;31m    print(\"What's up data nerds\")\u001b[0m\n\u001b[0m    ^\u001b[0m\n\u001b[0;31mIndentationError\u001b[0m\u001b[0;31m:\u001b[0m expected an indented block after 'if' statement on line 1\n"
          ]
        }
      ]
    },
    {
      "cell_type": "code",
      "source": [
        "# Skill required for job posting\n",
        "job_skill = \"SQL\"\n",
        "\n",
        "# Applicant's skills\n",
        "applicant_skill = \"SQL\""
      ],
      "metadata": {
        "id": "W1Is0z6MUiqw"
      },
      "execution_count": null,
      "outputs": []
    },
    {
      "cell_type": "code",
      "source": [
        "if job_skill = applicant_skill:\n",
        "    print(\"You're qualified\")"
      ],
      "metadata": {
        "colab": {
          "base_uri": "https://localhost:8080/",
          "height": 106
        },
        "id": "LcKCsO7TUw00",
        "outputId": "561b2a54-f956-4cae-ceb5-a8f502bfe879"
      },
      "execution_count": null,
      "outputs": [
        {
          "output_type": "error",
          "ename": "SyntaxError",
          "evalue": "invalid syntax. Maybe you meant '==' or ':=' instead of '='? (<ipython-input-8-8dd92874e24d>, line 1)",
          "traceback": [
            "\u001b[0;36m  File \u001b[0;32m\"<ipython-input-8-8dd92874e24d>\"\u001b[0;36m, line \u001b[0;32m1\u001b[0m\n\u001b[0;31m    if job_skill = applicant_skill:\u001b[0m\n\u001b[0m       ^\u001b[0m\n\u001b[0;31mSyntaxError\u001b[0m\u001b[0;31m:\u001b[0m invalid syntax. Maybe you meant '==' or ':=' instead of '='?\n"
          ]
        }
      ]
    },
    {
      "cell_type": "code",
      "source": [
        "if job_skill == applicant_skill:\n",
        "    print(\"You're qualified\")"
      ],
      "metadata": {
        "colab": {
          "base_uri": "https://localhost:8080/"
        },
        "id": "rpPSQUi8U5bS",
        "outputId": "02a26f49-3a66-4fee-fdc2-3f9525b35f05"
      },
      "execution_count": null,
      "outputs": [
        {
          "output_type": "stream",
          "name": "stdout",
          "text": [
            "You're qualified\n"
          ]
        }
      ]
    },
    {
      "cell_type": "code",
      "source": [
        "applicant_skill = \"SQL\"\n",
        "job_skill = \"Python\"\n",
        "years_experience = 3\n",
        "\n",
        "if job_skill == applicant_skill:\n",
        "    print(\"You're qualified\")\n",
        "elif years_experience >= 5:\n",
        "    print(\"Enough Experience; No SQL\")\n",
        "else:\n",
        "    print(\"You're not qualified\")\n",
        "\n",
        "    # no condition needed for else statement; it tells the program what to do\n",
        "    # when elif statements are not met"
      ],
      "metadata": {
        "colab": {
          "base_uri": "https://localhost:8080/"
        },
        "id": "zxAAQdvlVEGZ",
        "outputId": "7f8883ab-22ce-4966-918b-4efbb269eff8"
      },
      "execution_count": null,
      "outputs": [
        {
          "output_type": "stream",
          "name": "stdout",
          "text": [
            "You're not qualified\n"
          ]
        }
      ]
    },
    {
      "cell_type": "markdown",
      "source": [
        "# Pass Statemnt\n",
        "\n",
        "The `pass` statement in Python (and in Google Colab since it uses Python) is a placeholder that does nothing when executed. It is often used as a placeholder in blocks of code where syntax requires a statement but no action is needed. This is helpful when you’re writing the skeleton of a program or a function and want to delay implementation without causing syntax errors.\n",
        "\n",
        "### Key Points about `pass`:\n",
        "1. It’s a **no-operation** (NOP) statement: it does nothing.\n",
        "2. It allows code to run without any errors when a block of code is empty.\n",
        "3. Commonly used in class definitions, function stubs, loops, and exception handling during development.\n",
        "\n",
        "---\n",
        "\n",
        "### Examples of Using `pass`\n",
        "\n",
        "#### 1. Placeholder for Function Definition\n",
        "If you want to define a function but haven’t implemented its logic yet:\n",
        "\n",
        "```python\n",
        "def my_function():\n",
        "    pass\n",
        "\n",
        "# No errors when calling this\n",
        "my_function()\n",
        "```\n",
        "\n",
        "Without the `pass` statement, this would raise a syntax error because Python expects some code in the function body.\n",
        "\n",
        "---\n",
        "\n",
        "#### 2. Placeholder for Class Definition\n",
        "You can use `pass` to define a class structure without methods or attributes initially:\n",
        "\n",
        "```python\n",
        "class MyClass:\n",
        "    pass\n",
        "\n",
        "# Creating an object of the class\n",
        "obj = MyClass()\n",
        "```\n",
        "\n",
        "---\n",
        "\n",
        "#### 3. Skipping Loop Iterations\n",
        "You can use `pass` in loops when you want to skip certain iterations but don’t have logic to replace it yet:\n",
        "\n",
        "```python\n",
        "for i in range(5):\n",
        "    if i == 3:\n",
        "        pass  # Placeholder for future implementation\n",
        "    else:\n",
        "        print(f\"Processing {i}\")\n",
        "```\n",
        "\n",
        "Output:\n",
        "```\n",
        "Processing 0\n",
        "Processing 1\n",
        "Processing 2\n",
        "Processing 4\n",
        "```\n",
        "\n",
        "Here, the iteration continues even though the code for `i == 3` is not implemented.\n",
        "\n",
        "---\n",
        "\n",
        "#### 4. Handling Exceptions Without Action\n",
        "When you want to handle exceptions without any action (not recommended for production use):\n",
        "\n",
        "```python\n",
        "try:\n",
        "    x = 10 / 0\n",
        "except ZeroDivisionError:\n",
        "    pass  # Placeholder for handling the exception later\n",
        "```\n",
        "\n",
        "---\n",
        "\n",
        "### Use in Google Colab\n",
        "In Google Colab, you might use `pass` when developing or prototyping a notebook and need to write out the structure before filling in logic. For instance:\n",
        "\n",
        "```python\n",
        "# Cell 1\n",
        "def data_processing():\n",
        "    pass  # Will implement data processing later\n",
        "\n",
        "# Cell 2\n",
        "def model_training():\n",
        "    pass  # Will implement model training logic later\n",
        "```\n",
        "\n",
        "This lets you run the cells without errors and focus on different parts of the workflow.\n",
        "\n",
        "---\n",
        "\n",
        "### When Not to Use `pass`\n",
        "- Avoid leaving `pass` in the final code for important blocks, as it doesn’t perform any functionality.\n",
        "- Replace `pass` with meaningful code as the implementation progresses."
      ],
      "metadata": {
        "id": "tJWS2cYGYHAd"
      }
    },
    {
      "cell_type": "code",
      "source": [],
      "metadata": {
        "id": "5-ainIXcYXZC"
      },
      "execution_count": null,
      "outputs": []
    }
  ]
}