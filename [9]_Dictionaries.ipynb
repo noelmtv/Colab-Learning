{
  "nbformat": 4,
  "nbformat_minor": 0,
  "metadata": {
    "colab": {
      "provenance": [],
      "authorship_tag": "ABX9TyMyx9jcHfAyPHGHpCh7V/KJ",
      "include_colab_link": true
    },
    "kernelspec": {
      "name": "python3",
      "display_name": "Python 3"
    },
    "language_info": {
      "name": "python"
    }
  },
  "cells": [
    {
      "cell_type": "markdown",
      "metadata": {
        "id": "view-in-github",
        "colab_type": "text"
      },
      "source": [
        "<a href=\"https://colab.research.google.com/github/noelmtv/Colab-Learning/blob/Pyhon-for-Data-Analytics/%5B9%5D_Dictionaries.ipynb\" target=\"_parent\"><img src=\"https://colab.research.google.com/assets/colab-badge.svg\" alt=\"Open In Colab\"/></a>"
      ]
    },
    {
      "cell_type": "markdown",
      "source": [
        "### **1. What Are Dictionaries in Python?**\n",
        "A dictionary in Python is a built-in data structure that allows you to store data as **key-value pairs**. It's like a real-world dictionary where you look up a word (the key) to find its definition (the value).\n",
        "\n",
        "- **Keys** are unique identifiers that allow you to access the associated value.\n",
        "- **Values** are the data stored corresponding to each key.\n",
        "\n",
        "Dictionaries are:\n",
        "1. **Mutable**: You can change, add, or delete items.\n",
        "2. **Unordered** (prior to Python 3.7): The items are stored without a specific order.\n",
        "3. **Indexed by keys**, not by positions like lists.\n",
        "\n",
        "### **Syntax**\n",
        "```python\n",
        "my_dict = {\"key1\": \"value1\", \"key2\": \"value2\"}\n",
        "```\n",
        "\n",
        "### **Dictionaries in Google Colab**\n",
        "Google Colab runs Python code in a Jupyter-like environment. Working with dictionaries in Colab is the same as in any Python environment. The beauty of Colab is that you can visualize dictionary data and even interact with it seamlessly.\n",
        "\n",
        "### **Key Operations with Examples**\n",
        "1. **Creating a Dictionary**\n",
        "   ```python\n",
        "   # A simple dictionary\n",
        "   student = {\"name\": \"Alice\", \"age\": 22, \"course\": \"Python\"}\n",
        "   print(student)\n",
        "   ```\n",
        "\n",
        "2. **Accessing Values**\n",
        "   Use the key to access its value:\n",
        "   ```python\n",
        "   print(student[\"name\"])  # Output: Alice\n",
        "   print(student.get(\"age\"))  # Output: 22\n",
        "   ```\n",
        "\n",
        "3. **Adding/Updating Items**\n",
        "   ```python\n",
        "   student[\"grade\"] = \"A\"  # Adding a new key-value pair\n",
        "   student[\"age\"] = 23     # Updating an existing value\n",
        "   print(student)\n",
        "   ```\n",
        "\n",
        "4. **Removing Items**\n",
        "   ```python\n",
        "   student.pop(\"course\")  # Removes the key 'course'\n",
        "   print(student)\n",
        "\n",
        "   # Alternatively\n",
        "   del student[\"grade\"]\n",
        "   print(student)\n",
        "   ```\n",
        "\n",
        "5. **Iterating Through a Dictionary**\n",
        "   ```python\n",
        "   for key, value in student.items():\n",
        "       print(f\"{key}: {value}\")\n",
        "   ```\n",
        "\n",
        "6. **Checking for Keys**\n",
        "   ```python\n",
        "   if \"name\" in student:\n",
        "       print(\"Key exists!\")\n",
        "   ```\n",
        "\n",
        "7. **Merging Dictionaries**\n",
        "   ```python\n",
        "   extra_info = {\"hobby\": \"reading\", \"city\": \"Sydney\"}\n",
        "   student.update(extra_info)\n",
        "   print(student)\n",
        "   ```\n",
        "\n",
        "### **Practical Example in Colab**\n",
        "Here’s a complete example to try in Colab:\n",
        "\n",
        "```python\n",
        "# Create a dictionary\n",
        "inventory = {\"apples\": 10, \"bananas\": 20, \"oranges\": 15}\n",
        "\n",
        "# Display the dictionary\n",
        "print(\"Initial inventory:\", inventory)\n",
        "\n",
        "# Add a new item\n",
        "inventory[\"grapes\"] = 25\n",
        "print(\"After adding grapes:\", inventory)\n",
        "\n",
        "# Update the quantity of bananas\n",
        "inventory[\"bananas\"] += 10\n",
        "print(\"After updating bananas:\", inventory)\n",
        "\n",
        "# Remove an item\n",
        "inventory.pop(\"apples\")\n",
        "print(\"After removing apples:\", inventory)\n",
        "\n",
        "# Loop through the dictionary\n",
        "for fruit, quantity in inventory.items():\n",
        "    print(f\"We have {quantity} {fruit}.\")\n",
        "```\n",
        "\n",
        "### **Bonus Tip for Colab**\n",
        "To make your work interactive:\n",
        "- Use widgets like sliders or dropdowns to update dictionary values dynamically. For example, you could use a Colab slider to adjust inventory quantities!"
      ],
      "metadata": {
        "id": "RMDZMbu-rP5O"
      }
    },
    {
      "cell_type": "markdown",
      "source": [
        "# **2. Practice examples for dictionaries**"
      ],
      "metadata": {
        "id": "IhTWEXnBryrd"
      }
    },
    {
      "cell_type": "code",
      "source": [
        "{'database': 'pastgressql'}\n",
        "\n",
        "# key value has to be unique(hashable); ie. can't be a list\n",
        "# Values can be any datatype"
      ],
      "metadata": {
        "colab": {
          "base_uri": "https://localhost:8080/"
        },
        "id": "eKSeZ3Ydr-P4",
        "outputId": "fd18ff33-b14b-46c6-957c-547b649e4725"
      },
      "execution_count": null,
      "outputs": [
        {
          "output_type": "execute_result",
          "data": {
            "text/plain": [
              "{'database': 'pastgressql'}"
            ]
          },
          "metadata": {},
          "execution_count": 2
        }
      ]
    },
    {
      "cell_type": "code",
      "source": [
        "{'database':[['postgressql'], 4, 'string', (1,2)] }"
      ],
      "metadata": {
        "colab": {
          "base_uri": "https://localhost:8080/"
        },
        "id": "4aeVifS2salM",
        "outputId": "81d54248-1408-4f7d-b7db-6e30f71c6e68"
      },
      "execution_count": null,
      "outputs": [
        {
          "output_type": "execute_result",
          "data": {
            "text/plain": [
              "{'database': [['postgressql'], 4, 'string', (1, 2)]}"
            ]
          },
          "metadata": {},
          "execution_count": 3
        }
      ]
    },
    {
      "cell_type": "markdown",
      "source": [
        "#### For now we'll stick with strings"
      ],
      "metadata": {
        "id": "xo_NklyatayL"
      }
    },
    {
      "cell_type": "code",
      "source": [
        "job_type_skills = {\n",
        "    'database': 'pastgresql',\n",
        "    'language': 'python',\n",
        "    'library': 'pandas'}\n",
        "job_type_skills"
      ],
      "metadata": {
        "colab": {
          "base_uri": "https://localhost:8080/"
        },
        "id": "v8cHZI0_tjQc",
        "outputId": "7fd561a1-8b40-4b36-e309-e0eb3f4e4b88"
      },
      "execution_count": null,
      "outputs": [
        {
          "output_type": "execute_result",
          "data": {
            "text/plain": [
              "{'database': 'pastgresql', 'language': 'python', 'library': 'pandas'}"
            ]
          },
          "metadata": {},
          "execution_count": 6
        }
      ]
    },
    {
      "cell_type": "code",
      "source": [
        "help(dict)"
      ],
      "metadata": {
        "colab": {
          "base_uri": "https://localhost:8080/"
        },
        "id": "TNOr6syPt8qX",
        "outputId": "d263726e-9fac-474c-a21f-401259719fd1"
      },
      "execution_count": null,
      "outputs": [
        {
          "output_type": "stream",
          "name": "stdout",
          "text": [
            "Help on class dict in module builtins:\n",
            "\n",
            "class dict(object)\n",
            " |  dict() -> new empty dictionary\n",
            " |  dict(mapping) -> new dictionary initialized from a mapping object's\n",
            " |      (key, value) pairs\n",
            " |  dict(iterable) -> new dictionary initialized as if via:\n",
            " |      d = {}\n",
            " |      for k, v in iterable:\n",
            " |          d[k] = v\n",
            " |  dict(**kwargs) -> new dictionary initialized with the name=value pairs\n",
            " |      in the keyword argument list.  For example:  dict(one=1, two=2)\n",
            " |  \n",
            " |  Built-in subclasses:\n",
            " |      StgDict\n",
            " |  \n",
            " |  Methods defined here:\n",
            " |  \n",
            " |  __contains__(self, key, /)\n",
            " |      True if the dictionary has the specified key, else False.\n",
            " |  \n",
            " |  __delitem__(self, key, /)\n",
            " |      Delete self[key].\n",
            " |  \n",
            " |  __eq__(self, value, /)\n",
            " |      Return self==value.\n",
            " |  \n",
            " |  __ge__(self, value, /)\n",
            " |      Return self>=value.\n",
            " |  \n",
            " |  __getattribute__(self, name, /)\n",
            " |      Return getattr(self, name).\n",
            " |  \n",
            " |  __getitem__(...)\n",
            " |      x.__getitem__(y) <==> x[y]\n",
            " |  \n",
            " |  __gt__(self, value, /)\n",
            " |      Return self>value.\n",
            " |  \n",
            " |  __init__(self, /, *args, **kwargs)\n",
            " |      Initialize self.  See help(type(self)) for accurate signature.\n",
            " |  \n",
            " |  __ior__(self, value, /)\n",
            " |      Return self|=value.\n",
            " |  \n",
            " |  __iter__(self, /)\n",
            " |      Implement iter(self).\n",
            " |  \n",
            " |  __le__(self, value, /)\n",
            " |      Return self<=value.\n",
            " |  \n",
            " |  __len__(self, /)\n",
            " |      Return len(self).\n",
            " |  \n",
            " |  __lt__(self, value, /)\n",
            " |      Return self<value.\n",
            " |  \n",
            " |  __ne__(self, value, /)\n",
            " |      Return self!=value.\n",
            " |  \n",
            " |  __or__(self, value, /)\n",
            " |      Return self|value.\n",
            " |  \n",
            " |  __repr__(self, /)\n",
            " |      Return repr(self).\n",
            " |  \n",
            " |  __reversed__(self, /)\n",
            " |      Return a reverse iterator over the dict keys.\n",
            " |  \n",
            " |  __ror__(self, value, /)\n",
            " |      Return value|self.\n",
            " |  \n",
            " |  __setitem__(self, key, value, /)\n",
            " |      Set self[key] to value.\n",
            " |  \n",
            " |  __sizeof__(...)\n",
            " |      D.__sizeof__() -> size of D in memory, in bytes\n",
            " |  \n",
            " |  clear(...)\n",
            " |      D.clear() -> None.  Remove all items from D.\n",
            " |  \n",
            " |  copy(...)\n",
            " |      D.copy() -> a shallow copy of D\n",
            " |  \n",
            " |  get(self, key, default=None, /)\n",
            " |      Return the value for key if key is in the dictionary, else default.\n",
            " |  \n",
            " |  items(...)\n",
            " |      D.items() -> a set-like object providing a view on D's items\n",
            " |  \n",
            " |  keys(...)\n",
            " |      D.keys() -> a set-like object providing a view on D's keys\n",
            " |  \n",
            " |  pop(...)\n",
            " |      D.pop(k[,d]) -> v, remove specified key and return the corresponding value.\n",
            " |      \n",
            " |      If the key is not found, return the default if given; otherwise,\n",
            " |      raise a KeyError.\n",
            " |  \n",
            " |  popitem(self, /)\n",
            " |      Remove and return a (key, value) pair as a 2-tuple.\n",
            " |      \n",
            " |      Pairs are returned in LIFO (last-in, first-out) order.\n",
            " |      Raises KeyError if the dict is empty.\n",
            " |  \n",
            " |  setdefault(self, key, default=None, /)\n",
            " |      Insert key with a value of default if key is not in the dictionary.\n",
            " |      \n",
            " |      Return the value for key if key is in the dictionary, else default.\n",
            " |  \n",
            " |  update(...)\n",
            " |      D.update([E, ]**F) -> None.  Update D from dict/iterable E and F.\n",
            " |      If E is present and has a .keys() method, then does:  for k in E: D[k] = E[k]\n",
            " |      If E is present and lacks a .keys() method, then does:  for k, v in E: D[k] = v\n",
            " |      In either case, this is followed by: for k in F:  D[k] = F[k]\n",
            " |  \n",
            " |  values(...)\n",
            " |      D.values() -> an object providing a view on D's values\n",
            " |  \n",
            " |  ----------------------------------------------------------------------\n",
            " |  Class methods defined here:\n",
            " |  \n",
            " |  __class_getitem__(...)\n",
            " |      See PEP 585\n",
            " |  \n",
            " |  fromkeys(iterable, value=None, /)\n",
            " |      Create a new dictionary with keys from iterable and values set to value.\n",
            " |  \n",
            " |  ----------------------------------------------------------------------\n",
            " |  Static methods defined here:\n",
            " |  \n",
            " |  __new__(*args, **kwargs)\n",
            " |      Create and return a new object.  See help(type) for accurate signature.\n",
            " |  \n",
            " |  ----------------------------------------------------------------------\n",
            " |  Data and other attributes defined here:\n",
            " |  \n",
            " |  __hash__ = None\n",
            "\n"
          ]
        }
      ]
    },
    {
      "cell_type": "code",
      "source": [
        "job_type_skills.keys()"
      ],
      "metadata": {
        "colab": {
          "base_uri": "https://localhost:8080/"
        },
        "id": "vGMbKB9jvE7p",
        "outputId": "0c441e82-f02b-4aae-c991-d09e42311b9c"
      },
      "execution_count": null,
      "outputs": [
        {
          "output_type": "execute_result",
          "data": {
            "text/plain": [
              "dict_keys(['database', 'language', 'library'])"
            ]
          },
          "metadata": {},
          "execution_count": 8
        }
      ]
    },
    {
      "cell_type": "code",
      "source": [
        "job_type_skills.values()"
      ],
      "metadata": {
        "colab": {
          "base_uri": "https://localhost:8080/"
        },
        "id": "mSWJ2Kupvu5q",
        "outputId": "c466e343-93b7-4e55-c6b8-563c86cc2394"
      },
      "execution_count": null,
      "outputs": [
        {
          "output_type": "execute_result",
          "data": {
            "text/plain": [
              "dict_values(['pastgresql', 'python', 'pandas'])"
            ]
          },
          "metadata": {},
          "execution_count": 9
        }
      ]
    },
    {
      "cell_type": "code",
      "source": [
        "job_type_skills.pop('library')"
      ],
      "metadata": {
        "colab": {
          "base_uri": "https://localhost:8080/",
          "height": 35
        },
        "id": "S9dzPa7svxNs",
        "outputId": "9f79371d-4799-4923-97a5-c1e16844c6da"
      },
      "execution_count": null,
      "outputs": [
        {
          "output_type": "execute_result",
          "data": {
            "text/plain": [
              "'pandas'"
            ],
            "application/vnd.google.colaboratory.intrinsic+json": {
              "type": "string"
            }
          },
          "metadata": {},
          "execution_count": 10
        }
      ]
    },
    {
      "cell_type": "code",
      "source": [
        "job_type_skills"
      ],
      "metadata": {
        "colab": {
          "base_uri": "https://localhost:8080/"
        },
        "id": "e7vTUu56v5eO",
        "outputId": "628bebc4-4d93-40bb-92e1-b3a87a59a3c3"
      },
      "execution_count": null,
      "outputs": [
        {
          "output_type": "execute_result",
          "data": {
            "text/plain": [
              "{'database': 'pastgresql', 'language': 'python'}"
            ]
          },
          "metadata": {},
          "execution_count": 11
        }
      ]
    },
    {
      "cell_type": "code",
      "source": [
        "job_type_skills.update({'cloud': 'Google Cloud'})"
      ],
      "metadata": {
        "id": "JHn6Am-Qv-GJ"
      },
      "execution_count": null,
      "outputs": []
    },
    {
      "cell_type": "code",
      "source": [
        "job_type_skills"
      ],
      "metadata": {
        "colab": {
          "base_uri": "https://localhost:8080/"
        },
        "id": "YeEj_rA8wPg8",
        "outputId": "2f3c2563-093c-440e-ce1f-30df8f896acf"
      },
      "execution_count": null,
      "outputs": [
        {
          "output_type": "execute_result",
          "data": {
            "text/plain": [
              "{'database': 'pastgresql', 'language': 'python', 'cloud': 'Google Cloud'}"
            ]
          },
          "metadata": {},
          "execution_count": 14
        }
      ]
    },
    {
      "cell_type": "code",
      "source": [
        "job_type_skills['cloud']"
      ],
      "metadata": {
        "colab": {
          "base_uri": "https://localhost:8080/",
          "height": 35
        },
        "id": "kn7TnMLRwWFO",
        "outputId": "9d246bed-452d-4f21-d4f8-fdc2da5b8fcc"
      },
      "execution_count": null,
      "outputs": [
        {
          "output_type": "execute_result",
          "data": {
            "text/plain": [
              "'Google Cloud'"
            ],
            "application/vnd.google.colaboratory.intrinsic+json": {
              "type": "string"
            }
          },
          "metadata": {},
          "execution_count": 18
        }
      ]
    },
    {
      "cell_type": "code",
      "source": [
        "job_type_skills['version_control'] = 'git'"
      ],
      "metadata": {
        "id": "AMSVeWCnwhj4"
      },
      "execution_count": null,
      "outputs": []
    },
    {
      "cell_type": "code",
      "source": [
        "job_type_skills"
      ],
      "metadata": {
        "colab": {
          "base_uri": "https://localhost:8080/"
        },
        "id": "I3zmbQl-w1rm",
        "outputId": "b25f9957-87d6-4569-a89c-90ceec4f6f34"
      },
      "execution_count": null,
      "outputs": [
        {
          "output_type": "execute_result",
          "data": {
            "text/plain": [
              "{'database': 'pastgresql',\n",
              " 'language': 'python',\n",
              " 'cloud': 'Google Cloud',\n",
              " 'version_control': 'git'}"
            ]
          },
          "metadata": {},
          "execution_count": 20
        }
      ]
    },
    {
      "cell_type": "code",
      "source": [
        "print(job_type_skills)"
      ],
      "metadata": {
        "colab": {
          "base_uri": "https://localhost:8080/"
        },
        "id": "ywSk0yEIw5V9",
        "outputId": "8ea30e67-f165-431e-ba6f-cbf372c348eb"
      },
      "execution_count": null,
      "outputs": [
        {
          "output_type": "stream",
          "name": "stdout",
          "text": [
            "{'database': 'pastgresql', 'language': 'python', 'cloud': 'Google Cloud', 'version_control': 'git'}\n"
          ]
        }
      ]
    }
  ]
}