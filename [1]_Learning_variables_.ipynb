{
  "nbformat": 4,
  "nbformat_minor": 0,
  "metadata": {
    "colab": {
      "provenance": [],
      "authorship_tag": "ABX9TyPdAIWoreRxlBu1D/IbRAP/",
      "include_colab_link": true
    },
    "kernelspec": {
      "name": "python3",
      "display_name": "Python 3"
    },
    "language_info": {
      "name": "python"
    }
  },
  "cells": [
    {
      "cell_type": "markdown",
      "metadata": {
        "id": "view-in-github",
        "colab_type": "text"
      },
      "source": [
        "<a href=\"https://colab.research.google.com/github/noelmtv/Colab-Learning/blob/Pyhon-for-Data-Analytics/%5B1%5D_Learning_variables_.ipynb\" target=\"_parent\"><img src=\"https://colab.research.google.com/assets/colab-badge.svg\" alt=\"Open In Colab\"/></a>"
      ]
    },
    {
      "cell_type": "markdown",
      "source": [
        "# Creating Variables"
      ],
      "metadata": {
        "id": "CdcSwC0Qvgb3"
      }
    },
    {
      "cell_type": "code",
      "source": [
        "salary = 100000"
      ],
      "metadata": {
        "id": "qmIIyXKCvpI0"
      },
      "execution_count": null,
      "outputs": []
    },
    {
      "cell_type": "code",
      "source": [
        "salary"
      ],
      "metadata": {
        "colab": {
          "base_uri": "https://localhost:8080/"
        },
        "id": "6N3bsleEvx_A",
        "outputId": "2605a433-ee32-46e3-c325-fdad05674b26"
      },
      "execution_count": null,
      "outputs": [
        {
          "output_type": "execute_result",
          "data": {
            "text/plain": [
              "100000"
            ]
          },
          "metadata": {},
          "execution_count": 3
        }
      ]
    },
    {
      "cell_type": "code",
      "source": [
        "\"salary\""
      ],
      "metadata": {
        "colab": {
          "base_uri": "https://localhost:8080/",
          "height": 35
        },
        "id": "XoomtGVav2jf",
        "outputId": "73f5d5dd-adba-49d0-c25b-78a4e3aacc5c"
      },
      "execution_count": null,
      "outputs": [
        {
          "output_type": "execute_result",
          "data": {
            "text/plain": [
              "'salary'"
            ],
            "application/vnd.google.colaboratory.intrinsic+json": {
              "type": "string"
            }
          },
          "metadata": {},
          "execution_count": 5
        }
      ]
    },
    {
      "cell_type": "code",
      "source": [
        "#total salry = base Salary * (1+ Bonus rate)"
      ],
      "metadata": {
        "id": "WXgyFuUrv5nD"
      },
      "execution_count": null,
      "outputs": []
    },
    {
      "cell_type": "code",
      "source": [
        "base_salary = 100000\n",
        "bonus_rate = 0.1"
      ],
      "metadata": {
        "id": "jDvZ0Hy-wKTn"
      },
      "execution_count": null,
      "outputs": []
    },
    {
      "cell_type": "code",
      "source": [
        "total_salary = base_salary * (1 + bonus_rate)"
      ],
      "metadata": {
        "id": "_z-d2aH5wQuq"
      },
      "execution_count": null,
      "outputs": []
    },
    {
      "cell_type": "code",
      "source": [
        "total_salary"
      ],
      "metadata": {
        "colab": {
          "base_uri": "https://localhost:8080/"
        },
        "id": "GIRFU7pZwUKT",
        "outputId": "fb3d8d1e-0cab-4d5f-ea17-bde7d923d8a8"
      },
      "execution_count": null,
      "outputs": [
        {
          "output_type": "execute_result",
          "data": {
            "text/plain": [
              "110000.00000000001"
            ]
          },
          "metadata": {},
          "execution_count": 10
        }
      ]
    },
    {
      "cell_type": "markdown",
      "source": [
        "# Variables aren't only numbers\n",
        "\n",
        "  They could be\n",
        "    \n",
        "\n",
        "*   Integers\n",
        "*   strings\n",
        "*   boolean\n",
        "*   ect\n",
        "\n",
        "\n",
        "    \n",
        "    \n"
      ],
      "metadata": {
        "id": "iypthCuVwjpW"
      }
    },
    {
      "cell_type": "code",
      "source": [
        "company_name = \"Blackwood Capital\"\n",
        "job_wfh = True"
      ],
      "metadata": {
        "id": "bFn2FzfUxlzZ"
      },
      "execution_count": null,
      "outputs": []
    },
    {
      "cell_type": "code",
      "source": [
        "company_name\n",
        "job_wfh"
      ],
      "metadata": {
        "colab": {
          "base_uri": "https://localhost:8080/"
        },
        "id": "sPTzLn2ux0wd",
        "outputId": "917f1c57-43bc-43e7-dd4e-8e3cec14acc2"
      },
      "execution_count": null,
      "outputs": [
        {
          "output_type": "execute_result",
          "data": {
            "text/plain": [
              "True"
            ]
          },
          "metadata": {},
          "execution_count": 14
        }
      ]
    },
    {
      "cell_type": "code",
      "source": [
        "print(company_name)\n",
        "print(job_wfh)"
      ],
      "metadata": {
        "colab": {
          "base_uri": "https://localhost:8080/"
        },
        "id": "iWojNn-vyNjg",
        "outputId": "fe4f2cc2-6746-4d18-9296-e949f4117976"
      },
      "execution_count": null,
      "outputs": [
        {
          "output_type": "stream",
          "name": "stdout",
          "text": [
            "Blackwood Capital\n",
            "True\n"
          ]
        }
      ]
    },
    {
      "cell_type": "code",
      "source": [
        "job_id = 101\n",
        "job_title = \"Data Scientist\"\n",
        "job_salary = 100000"
      ],
      "metadata": {
        "id": "QHcyCPEsySF5"
      },
      "execution_count": null,
      "outputs": []
    },
    {
      "cell_type": "code",
      "source": [
        "print(\"Data Job Description\")\n",
        "print(\"---------------------\")\n",
        "print(\"Job ID:\", job_id)\n",
        "print(\"Job Title:\", job_title)\n",
        "print(\"Job Salary:\", job_salary)"
      ],
      "metadata": {
        "colab": {
          "base_uri": "https://localhost:8080/"
        },
        "id": "whegL640yro5",
        "outputId": "decc725e-9790-4e57-ee61-c5d5638ac383"
      },
      "execution_count": null,
      "outputs": [
        {
          "output_type": "stream",
          "name": "stdout",
          "text": [
            "Data Job Description\n",
            "---------------------\n",
            "Job ID: 101\n",
            "Job Title: Data Scientist\n",
            "Job Salary: 100000\n"
          ]
        }
      ]
    },
    {
      "cell_type": "code",
      "source": [],
      "metadata": {
        "id": "7rY4LQcCzECy"
      },
      "execution_count": null,
      "outputs": []
    }
  ]
}