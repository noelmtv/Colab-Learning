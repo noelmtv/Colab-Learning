{
  "nbformat": 4,
  "nbformat_minor": 0,
  "metadata": {
    "colab": {
      "provenance": [],
      "authorship_tag": "ABX9TyMDAJIHjgs4O1QoX7ucKDSA",
      "include_colab_link": true
    },
    "kernelspec": {
      "name": "python3",
      "display_name": "Python 3"
    },
    "language_info": {
      "name": "python"
    }
  },
  "cells": [
    {
      "cell_type": "markdown",
      "metadata": {
        "id": "view-in-github",
        "colab_type": "text"
      },
      "source": [
        "<a href=\"https://colab.research.google.com/github/noelmtv/Colab-Learning/blob/Pyhon-for-Data-Analytics/%5B8%5D_Lists.ipynb\" target=\"_parent\"><img src=\"https://colab.research.google.com/assets/colab-badge.svg\" alt=\"Open In Colab\"/></a>"
      ]
    },
    {
      "cell_type": "markdown",
      "source": [
        "# Lists\n",
        "\n",
        "In Python (and by extension, in Google Colab), **lists** are versatile, ordered collections of items. They can store multiple items of any data type (e.g., numbers, strings, objects), and the items are accessible by their index. Lists are mutable, meaning their contents can be changed after creation.\n",
        "\n",
        "---\n",
        "\n",
        "### Key Features of Lists\n",
        "\n",
        "1. **Ordered**: Items in a list maintain their order. The order is preserved unless explicitly changed (e.g., via sorting or reordering).\n",
        "2. **Mutable**: You can add, modify, or remove items.\n",
        "3. **Heterogeneous**: A list can contain different data types in the same list.\n",
        "4. **Indexed Access**: Items are accessed by zero-based indexing (`list[0]` for the first element).\n",
        "\n",
        "---\n",
        "\n",
        "### Creating Lists\n",
        "\n",
        "#### 1. Empty List\n",
        "```python\n",
        "my_list = []\n",
        "```\n",
        "\n",
        "#### 2. List with Elements\n",
        "```python\n",
        "fruits = [\"apple\", \"banana\", \"cherry\"]\n",
        "numbers = [1, 2, 3, 4.5]\n",
        "mixed = [\"hello\", 42, True, 3.14]\n",
        "```\n",
        "\n",
        "---\n",
        "\n",
        "### Accessing Elements\n",
        "\n",
        "#### 1. Using Index\n",
        "```python\n",
        "fruits = [\"apple\", \"banana\", \"cherry\"]\n",
        "print(fruits[0])  # Output: apple\n",
        "print(fruits[2])  # Output: cherry\n",
        "```\n",
        "\n",
        "#### 2. Negative Indexing\n",
        "```python\n",
        "print(fruits[-1])  # Output: cherry (last element)\n",
        "print(fruits[-2])  # Output: banana\n",
        "```\n",
        "\n",
        "#### 3. Slicing\n",
        "```python\n",
        "print(fruits[1:])  # Output: ['banana', 'cherry']\n",
        "print(fruits[:2])  # Output: ['apple', 'banana']\n",
        "```\n",
        "\n",
        "---\n",
        "\n",
        "### Modifying Lists\n",
        "\n",
        "#### 1. Changing Elements\n",
        "```python\n",
        "fruits[1] = \"blueberry\"\n",
        "print(fruits)  # Output: ['apple', 'blueberry', 'cherry']\n",
        "```\n",
        "\n",
        "#### 2. Adding Elements\n",
        "```python\n",
        "fruits.append(\"orange\")  # Add to the end\n",
        "print(fruits)  # Output: ['apple', 'blueberry', 'cherry', 'orange']\n",
        "\n",
        "fruits.insert(1, \"kiwi\")  # Add at index 1\n",
        "print(fruits)  # Output: ['apple', 'kiwi', 'blueberry', 'cherry', 'orange']\n",
        "```\n",
        "\n",
        "#### 3. Removing Elements\n",
        "```python\n",
        "fruits.remove(\"blueberry\")  # Remove by value\n",
        "print(fruits)  # Output: ['apple', 'kiwi', 'cherry', 'orange']\n",
        "\n",
        "popped_item = fruits.pop()  # Remove and return the last item\n",
        "print(popped_item)  # Output: orange\n",
        "print(fruits)       # Output: ['apple', 'kiwi', 'cherry']\n",
        "```\n",
        "\n",
        "---\n",
        "\n",
        "### Iterating Over Lists\n",
        "\n",
        "#### 1. Using Loops\n",
        "```python\n",
        "for fruit in fruits:\n",
        "    print(fruit)\n",
        "# Output:\n",
        "# apple\n",
        "# kiwi\n",
        "# cherry\n",
        "```\n",
        "\n",
        "#### 2. List Comprehensions\n",
        "```python\n",
        "squared_numbers = [x**2 for x in range(5)]\n",
        "print(squared_numbers)  # Output: [0, 1, 4, 9, 16]\n",
        "```\n",
        "\n",
        "---\n",
        "\n",
        "### Common List Methods\n",
        "\n",
        "1. **Sort**:\n",
        "   ```python\n",
        "   numbers = [4, 1, 3, 2]\n",
        "   numbers.sort()\n",
        "   print(numbers)  # Output: [1, 2, 3, 4]\n",
        "   ```\n",
        "\n",
        "2. **Reverse**:\n",
        "   ```python\n",
        "   numbers.reverse()\n",
        "   print(numbers)  # Output: [4, 3, 2, 1]\n",
        "   ```\n",
        "\n",
        "3. **Count**:\n",
        "   ```python\n",
        "   items = [1, 2, 2, 3]\n",
        "   print(items.count(2))  # Output: 2\n",
        "   ```\n",
        "\n",
        "4. **Length**:\n",
        "   ```python\n",
        "   print(len(items))  # Output: 4\n",
        "   ```\n",
        "\n",
        "---\n",
        "\n",
        "### Lists in Google Colab\n",
        "\n",
        "In Google Colab, lists are used like in any Python environment. You might use them to:\n",
        "\n",
        "1. Store results from computations:\n",
        "   ```python\n",
        "   import numpy as np\n",
        "   squares = [x**2 for x in range(10)]\n",
        "   np_array = np.array(squares)\n",
        "   print(np_array)\n",
        "   ```\n",
        "\n",
        "2. Handle datasets in machine learning:\n",
        "   ```python\n",
        "   data = [[\"John\", 30], [\"Alice\", 25], [\"Bob\", 35]]\n",
        "   for person in data:\n",
        "       print(f\"{person[0]} is {person[1]} years old.\")\n",
        "   ```\n",
        "\n",
        "3. Facilitate plotting:\n",
        "   ```python\n",
        "   import matplotlib.pyplot as plt\n",
        "   x = [1, 2, 3, 4, 5]\n",
        "   y = [2, 4, 6, 8, 10]\n",
        "   plt.plot(x, y)\n",
        "   plt.show()\n",
        "   ```\n",
        "\n",
        "---\n",
        "\n",
        "### Summary\n",
        "\n",
        "Lists are one of the most versatile and commonly used data structures in Python. In Google Colab, you use lists to process, organize, and manipulate data in your projects, often working with tools like NumPy and Pandas for enhanced functionality."
      ],
      "metadata": {
        "id": "_yyp6M3rZkZE"
      }
    },
    {
      "cell_type": "markdown",
      "source": [
        "# My Practice"
      ],
      "metadata": {
        "id": "dNuQJBQ1an0-"
      }
    },
    {
      "cell_type": "code",
      "source": [
        "job_skills = [\"SQL\", \"tableau\", \"excel\"]"
      ],
      "metadata": {
        "id": "AgodYrSLaqoV"
      },
      "execution_count": null,
      "outputs": []
    },
    {
      "cell_type": "code",
      "source": [
        "help(list)"
      ],
      "metadata": {
        "colab": {
          "base_uri": "https://localhost:8080/"
        },
        "id": "Czjmww02a56s",
        "outputId": "00684ba7-faf5-4b71-85fb-fb45c2495d5e"
      },
      "execution_count": null,
      "outputs": [
        {
          "output_type": "stream",
          "name": "stdout",
          "text": [
            "Help on class list in module builtins:\n",
            "\n",
            "class list(object)\n",
            " |  list(iterable=(), /)\n",
            " |  \n",
            " |  Built-in mutable sequence.\n",
            " |  \n",
            " |  If no argument is given, the constructor creates a new empty list.\n",
            " |  The argument must be an iterable if specified.\n",
            " |  \n",
            " |  Methods defined here:\n",
            " |  \n",
            " |  __add__(self, value, /)\n",
            " |      Return self+value.\n",
            " |  \n",
            " |  __contains__(self, key, /)\n",
            " |      Return key in self.\n",
            " |  \n",
            " |  __delitem__(self, key, /)\n",
            " |      Delete self[key].\n",
            " |  \n",
            " |  __eq__(self, value, /)\n",
            " |      Return self==value.\n",
            " |  \n",
            " |  __ge__(self, value, /)\n",
            " |      Return self>=value.\n",
            " |  \n",
            " |  __getattribute__(self, name, /)\n",
            " |      Return getattr(self, name).\n",
            " |  \n",
            " |  __getitem__(...)\n",
            " |      x.__getitem__(y) <==> x[y]\n",
            " |  \n",
            " |  __gt__(self, value, /)\n",
            " |      Return self>value.\n",
            " |  \n",
            " |  __iadd__(self, value, /)\n",
            " |      Implement self+=value.\n",
            " |  \n",
            " |  __imul__(self, value, /)\n",
            " |      Implement self*=value.\n",
            " |  \n",
            " |  __init__(self, /, *args, **kwargs)\n",
            " |      Initialize self.  See help(type(self)) for accurate signature.\n",
            " |  \n",
            " |  __iter__(self, /)\n",
            " |      Implement iter(self).\n",
            " |  \n",
            " |  __le__(self, value, /)\n",
            " |      Return self<=value.\n",
            " |  \n",
            " |  __len__(self, /)\n",
            " |      Return len(self).\n",
            " |  \n",
            " |  __lt__(self, value, /)\n",
            " |      Return self<value.\n",
            " |  \n",
            " |  __mul__(self, value, /)\n",
            " |      Return self*value.\n",
            " |  \n",
            " |  __ne__(self, value, /)\n",
            " |      Return self!=value.\n",
            " |  \n",
            " |  __repr__(self, /)\n",
            " |      Return repr(self).\n",
            " |  \n",
            " |  __reversed__(self, /)\n",
            " |      Return a reverse iterator over the list.\n",
            " |  \n",
            " |  __rmul__(self, value, /)\n",
            " |      Return value*self.\n",
            " |  \n",
            " |  __setitem__(self, key, value, /)\n",
            " |      Set self[key] to value.\n",
            " |  \n",
            " |  __sizeof__(self, /)\n",
            " |      Return the size of the list in memory, in bytes.\n",
            " |  \n",
            " |  append(self, object, /)\n",
            " |      Append object to the end of the list.\n",
            " |  \n",
            " |  clear(self, /)\n",
            " |      Remove all items from list.\n",
            " |  \n",
            " |  copy(self, /)\n",
            " |      Return a shallow copy of the list.\n",
            " |  \n",
            " |  count(self, value, /)\n",
            " |      Return number of occurrences of value.\n",
            " |  \n",
            " |  extend(self, iterable, /)\n",
            " |      Extend list by appending elements from the iterable.\n",
            " |  \n",
            " |  index(self, value, start=0, stop=9223372036854775807, /)\n",
            " |      Return first index of value.\n",
            " |      \n",
            " |      Raises ValueError if the value is not present.\n",
            " |  \n",
            " |  insert(self, index, object, /)\n",
            " |      Insert object before index.\n",
            " |  \n",
            " |  pop(self, index=-1, /)\n",
            " |      Remove and return item at index (default last).\n",
            " |      \n",
            " |      Raises IndexError if list is empty or index is out of range.\n",
            " |  \n",
            " |  remove(self, value, /)\n",
            " |      Remove first occurrence of value.\n",
            " |      \n",
            " |      Raises ValueError if the value is not present.\n",
            " |  \n",
            " |  reverse(self, /)\n",
            " |      Reverse *IN PLACE*.\n",
            " |  \n",
            " |  sort(self, /, *, key=None, reverse=False)\n",
            " |      Sort the list in ascending order and return None.\n",
            " |      \n",
            " |      The sort is in-place (i.e. the list itself is modified) and stable (i.e. the\n",
            " |      order of two equal elements is maintained).\n",
            " |      \n",
            " |      If a key function is given, apply it once to each list item and sort them,\n",
            " |      ascending or descending, according to their function values.\n",
            " |      \n",
            " |      The reverse flag can be set to sort in descending order.\n",
            " |  \n",
            " |  ----------------------------------------------------------------------\n",
            " |  Class methods defined here:\n",
            " |  \n",
            " |  __class_getitem__(...) from builtins.type\n",
            " |      See PEP 585\n",
            " |  \n",
            " |  ----------------------------------------------------------------------\n",
            " |  Static methods defined here:\n",
            " |  \n",
            " |  __new__(*args, **kwargs) from builtins.type\n",
            " |      Create and return a new object.  See help(type) for accurate signature.\n",
            " |  \n",
            " |  ----------------------------------------------------------------------\n",
            " |  Data and other attributes defined here:\n",
            " |  \n",
            " |  __hash__ = None\n",
            "\n"
          ]
        }
      ]
    },
    {
      "cell_type": "code",
      "source": [
        "job_skills.append(\"python\")\n",
        "job_skills"
      ],
      "metadata": {
        "colab": {
          "base_uri": "https://localhost:8080/"
        },
        "id": "4lr1zG_9a8RO",
        "outputId": "fccfa521-29e6-4d7c-ace7-df4f9ae560da"
      },
      "execution_count": null,
      "outputs": [
        {
          "output_type": "execute_result",
          "data": {
            "text/plain": [
              "['SQL', 'tableau', 'excel', 'python']"
            ]
          },
          "metadata": {},
          "execution_count": 3
        }
      ]
    },
    {
      "cell_type": "code",
      "source": [
        "job_skills.remove(\"tableau\")\n",
        "job_skills"
      ],
      "metadata": {
        "colab": {
          "base_uri": "https://localhost:8080/"
        },
        "id": "BvIIKoN_bJlj",
        "outputId": "f0966834-e669-4ce9-e640-b3991d7bc5ff"
      },
      "execution_count": null,
      "outputs": [
        {
          "output_type": "execute_result",
          "data": {
            "text/plain": [
              "['SQL', 'excel', 'python']"
            ]
          },
          "metadata": {},
          "execution_count": 4
        }
      ]
    },
    {
      "cell_type": "code",
      "source": [
        "len(job_skills)"
      ],
      "metadata": {
        "colab": {
          "base_uri": "https://localhost:8080/"
        },
        "id": "cYsjz4yQbOoz",
        "outputId": "af92ec7a-9945-41c2-f1de-7c41d9678c60"
      },
      "execution_count": null,
      "outputs": [
        {
          "output_type": "execute_result",
          "data": {
            "text/plain": [
              "3"
            ]
          },
          "metadata": {},
          "execution_count": 5
        }
      ]
    },
    {
      "cell_type": "code",
      "source": [
        "job_skills[1]"
      ],
      "metadata": {
        "colab": {
          "base_uri": "https://localhost:8080/",
          "height": 35
        },
        "id": "fuTwI82obR9z",
        "outputId": "47ae5959-7643-4558-fdce-d4412d0a37f9"
      },
      "execution_count": null,
      "outputs": [
        {
          "output_type": "execute_result",
          "data": {
            "text/plain": [
              "'excel'"
            ],
            "application/vnd.google.colaboratory.intrinsic+json": {
              "type": "string"
            }
          },
          "metadata": {},
          "execution_count": 6
        }
      ]
    },
    {
      "cell_type": "code",
      "source": [
        "job_skills.insert(2, \"tableau\")\n",
        "job_skills"
      ],
      "metadata": {
        "colab": {
          "base_uri": "https://localhost:8080/"
        },
        "id": "90wVpoRfbg1F",
        "outputId": "1c8391ea-39b9-43ab-8f90-a69ddc82bcb0"
      },
      "execution_count": null,
      "outputs": [
        {
          "output_type": "execute_result",
          "data": {
            "text/plain": [
              "['SQL', 'excel', 'tableau']"
            ]
          },
          "metadata": {},
          "execution_count": 13
        }
      ]
    },
    {
      "cell_type": "code",
      "source": [
        "print(job_skills.pop(2))\n",
        "print(job_skills)"
      ],
      "metadata": {
        "colab": {
          "base_uri": "https://localhost:8080/"
        },
        "id": "vBcE1WZLb1BR",
        "outputId": "65fd18b2-be67-4a95-b933-343e6803f4fb"
      },
      "execution_count": null,
      "outputs": [
        {
          "output_type": "stream",
          "name": "stdout",
          "text": [
            "python\n",
            "['SQL', 'excel']\n"
          ]
        }
      ]
    },
    {
      "cell_type": "code",
      "source": [
        "job_skills"
      ],
      "metadata": {
        "colab": {
          "base_uri": "https://localhost:8080/"
        },
        "id": "v5ro2S4ScE43",
        "outputId": "b31afaab-8e28-4fbe-ae82-b3cac76bd504"
      },
      "execution_count": null,
      "outputs": [
        {
          "output_type": "execute_result",
          "data": {
            "text/plain": [
              "['SQL', 'excel', 'tableau']"
            ]
          },
          "metadata": {},
          "execution_count": 14
        }
      ]
    },
    {
      "cell_type": "code",
      "source": [
        "job_skills[0:2]"
      ],
      "metadata": {
        "colab": {
          "base_uri": "https://localhost:8080/"
        },
        "id": "r1IUMRNncbtj",
        "outputId": "6e60c8f8-a143-4bb3-fbb2-d171802b1a2a"
      },
      "execution_count": null,
      "outputs": [
        {
          "output_type": "execute_result",
          "data": {
            "text/plain": [
              "['SQL', 'excel']"
            ]
          },
          "metadata": {},
          "execution_count": 17
        }
      ]
    },
    {
      "cell_type": "markdown",
      "source": [
        "* `Syntax: list[start:end:step]`\n",
        "* start: starting index (inclusive)\n",
        "* end: ending index (exclusive)"
      ],
      "metadata": {
        "id": "jGMsU3R-dc8R"
      }
    },
    {
      "cell_type": "code",
      "source": [
        "job_skills[0:3]"
      ],
      "metadata": {
        "colab": {
          "base_uri": "https://localhost:8080/"
        },
        "id": "045HfUjEc1Nc",
        "outputId": "3ab3ea70-31a0-45d5-af84-bf9fc591580b"
      },
      "execution_count": null,
      "outputs": [
        {
          "output_type": "execute_result",
          "data": {
            "text/plain": [
              "['SQL', 'excel', 'tableau']"
            ]
          },
          "metadata": {},
          "execution_count": 16
        }
      ]
    },
    {
      "cell_type": "code",
      "source": [
        "job_skills[:]\n",
        "# includes all the values in the list without needing to know the number of items\n",
        "# in the list"
      ],
      "metadata": {
        "colab": {
          "base_uri": "https://localhost:8080/"
        },
        "id": "c68se5vJdY7C",
        "outputId": "3b4682f8-42d4-4c99-f9c5-871b51d5aa42"
      },
      "execution_count": null,
      "outputs": [
        {
          "output_type": "execute_result",
          "data": {
            "text/plain": [
              "['SQL', 'excel', 'tableau']"
            ]
          },
          "metadata": {},
          "execution_count": 18
        }
      ]
    },
    {
      "cell_type": "code",
      "source": [
        "job_skills[:1]\n",
        "# to get the first item in the list\n",
        "# default instructions can be left blank"
      ],
      "metadata": {
        "colab": {
          "base_uri": "https://localhost:8080/"
        },
        "id": "WDMRdRKjeg31",
        "outputId": "05792e11-c75e-40d9-83ae-4c3f11ac0e6b"
      },
      "execution_count": null,
      "outputs": [
        {
          "output_type": "execute_result",
          "data": {
            "text/plain": [
              "['SQL']"
            ]
          },
          "metadata": {},
          "execution_count": 19
        }
      ]
    },
    {
      "cell_type": "code",
      "source": [
        "job_skills[::2]\n",
        "# get every second item in the list"
      ],
      "metadata": {
        "colab": {
          "base_uri": "https://localhost:8080/"
        },
        "id": "JGaYDw3KfMkv",
        "outputId": "ff1d7f84-b88f-48d4-ec5a-5ec14f851a2d"
      },
      "execution_count": null,
      "outputs": [
        {
          "output_type": "execute_result",
          "data": {
            "text/plain": [
              "['SQL', 'tableau']"
            ]
          },
          "metadata": {},
          "execution_count": 20
        }
      ]
    },
    {
      "cell_type": "markdown",
      "source": [
        "# Combining Lists"
      ],
      "metadata": {
        "id": "51HS_PiUfm8r"
      }
    },
    {
      "cell_type": "code",
      "source": [
        "noel_skills = ['Bloomberg', 'Capital IQ', 'Finance', 'SQL']\n",
        "takura_skills = ['python', 'SQL', 'looker']\n",
        "\n",
        "combined_skills = noel_skills + takura_skills\n",
        "combined_skills\n",
        "\n",
        "print(combined_skills)\n",
        "# there can be items repeated in lists"
      ],
      "metadata": {
        "colab": {
          "base_uri": "https://localhost:8080/"
        },
        "id": "NYV3SvaXfqSA",
        "outputId": "a35b8643-ad3e-4f40-d84a-38234ba271b9"
      },
      "execution_count": null,
      "outputs": [
        {
          "output_type": "stream",
          "name": "stdout",
          "text": [
            "['Bloomberg', 'Capital IQ', 'Finance', 'SQL', 'python', 'SQL', 'looker']\n"
          ]
        }
      ]
    },
    {
      "cell_type": "code",
      "source": [
        "combined_skills[::3]"
      ],
      "metadata": {
        "colab": {
          "base_uri": "https://localhost:8080/"
        },
        "id": "apovwtixgTOL",
        "outputId": "07c38e7b-bd04-49f4-bf96-dde690c87c7f"
      },
      "execution_count": null,
      "outputs": [
        {
          "output_type": "execute_result",
          "data": {
            "text/plain": [
              "['Bloomberg', 'SQL', 'looker']"
            ]
          },
          "metadata": {},
          "execution_count": 23
        }
      ]
    },
    {
      "cell_type": "code",
      "source": [
        "combined_skills[-1:]\n",
        "\n",
        "# fastest way to call the last item"
      ],
      "metadata": {
        "colab": {
          "base_uri": "https://localhost:8080/"
        },
        "id": "znZPtWPqgwmx",
        "outputId": "100dbd69-b88b-47c2-a3d3-782af51e9b8b"
      },
      "execution_count": null,
      "outputs": [
        {
          "output_type": "execute_result",
          "data": {
            "text/plain": [
              "['looker']"
            ]
          },
          "metadata": {},
          "execution_count": 24
        }
      ]
    },
    {
      "cell_type": "markdown",
      "source": [
        "# Unpacking\n",
        "\n",
        "This is assigning each value in an iterable (list) to a variable in a single statement"
      ],
      "metadata": {
        "id": "_X1RWN1_hLnY"
      }
    },
    {
      "cell_type": "code",
      "source": [
        "job_skills = [\"SQL\", \"tableau\", \"excel\",\"looker\"]"
      ],
      "metadata": {
        "id": "vllHPDTfhdGb"
      },
      "execution_count": null,
      "outputs": []
    },
    {
      "cell_type": "code",
      "source": [
        "skill1, skill2, skill3 = job_skills"
      ],
      "metadata": {
        "id": "6NOaUd-IhgfJ"
      },
      "execution_count": null,
      "outputs": []
    },
    {
      "cell_type": "code",
      "source": [
        "print(skill1)\n",
        "print(skill2)\n",
        "print(skill3)"
      ],
      "metadata": {
        "colab": {
          "base_uri": "https://localhost:8080/"
        },
        "id": "6EAvHCwChi-w",
        "outputId": "0b15a934-9978-42fd-e74a-53d735d99750"
      },
      "execution_count": null,
      "outputs": [
        {
          "output_type": "stream",
          "name": "stdout",
          "text": [
            "SQL\n",
            "tableau\n",
            "excel\n"
          ]
        }
      ]
    },
    {
      "cell_type": "code",
      "source": [
        "skill_concerned, *other_skills = job_skills"
      ],
      "metadata": {
        "id": "lm9t3iOWhozk"
      },
      "execution_count": null,
      "outputs": []
    },
    {
      "cell_type": "code",
      "source": [
        "print(skill_concerned)\n",
        "print(other_skills)"
      ],
      "metadata": {
        "colab": {
          "base_uri": "https://localhost:8080/"
        },
        "id": "axFGFCPnh_3O",
        "outputId": "26ce5596-8606-4661-9661-3310655575c7"
      },
      "execution_count": null,
      "outputs": [
        {
          "output_type": "stream",
          "name": "stdout",
          "text": [
            "SQL\n",
            "['tableau', 'excel', 'looker']\n"
          ]
        }
      ]
    },
    {
      "cell_type": "markdown",
      "source": [
        "\n",
        "# Mutibility\n",
        "\n",
        "In Python, **mutability** refers to whether an object’s value can be changed after it is created. Understanding the difference between **mutable** and **immutable** objects is fundamental in Python programming.\n",
        "\n",
        "---\n",
        "\n",
        "### Key Differences\n",
        "\n",
        "| Feature                | **Mutable**                          | **Immutable**                      |\n",
        "|------------------------|--------------------------------------|------------------------------------|\n",
        "| **Definition**         | Objects whose values can be changed after creation. | Objects whose values cannot be changed after creation. |\n",
        "| **Examples**           | `list`, `dict`, `set`, `bytearray`   | `int`, `float`, `tuple`, `str`, `frozenset`, `bytes` |\n",
        "| **Behavior**           | Changes are made in-place.           | New objects are created when changes are needed. |\n",
        "| **Use Case**           | Useful for collections or objects that need frequent updates. | Useful for fixed data or as keys in dictionaries. |\n",
        "\n",
        "---\n",
        "\n",
        "### Examples of Mutable Objects\n",
        "\n",
        "#### **Lists**\n",
        "```python\n",
        "my_list = [1, 2, 3]\n",
        "my_list[0] = 10  # Modify an element\n",
        "my_list.append(4)  # Add a new element\n",
        "print(my_list)  # Output: [10, 2, 3, 4]\n",
        "```\n",
        "\n",
        "The original list was changed in-place.\n",
        "\n",
        "---\n",
        "\n",
        "#### **Dictionaries**\n",
        "```python\n",
        "my_dict = {\"name\": \"Alice\", \"age\": 25}\n",
        "my_dict[\"age\"] = 26  # Modify a value\n",
        "my_dict[\"city\"] = \"New York\"  # Add a new key-value pair\n",
        "print(my_dict)  # Output: {'name': 'Alice', 'age': 26, 'city': 'New York'}\n",
        "```\n",
        "\n",
        "Dictionaries allow dynamic updates to keys and values.\n",
        "\n",
        "---\n",
        "\n",
        "### Examples of Immutable Objects\n",
        "\n",
        "#### **Strings**\n",
        "```python\n",
        "my_str = \"hello\"\n",
        "new_str = my_str.replace(\"h\", \"H\")\n",
        "print(my_str)  # Output: hello (original string unchanged)\n",
        "print(new_str)  # Output: Hello (new string created)\n",
        "```\n",
        "\n",
        "Strings cannot be modified in-place. Operations create a new string.\n",
        "\n",
        "---\n",
        "\n",
        "#### **Tuples**\n",
        "```python\n",
        "my_tuple = (1, 2, 3)\n",
        "# my_tuple[0] = 10  # This will raise a TypeError\n",
        "new_tuple = my_tuple + (4, 5)\n",
        "print(my_tuple)  # Output: (1, 2, 3) (original tuple unchanged)\n",
        "print(new_tuple)  # Output: (1, 2, 3, 4, 5) (new tuple created)\n",
        "```\n",
        "\n",
        "Tuples are immutable, so adding elements results in a new tuple.\n",
        "\n",
        "---\n",
        "\n",
        "### Memory Implications\n",
        "\n",
        "- **Mutable Objects**: Stored in memory as a single object. Modifications happen in-place, saving memory.\n",
        "  ```python\n",
        "  my_list1 = [1, 2, 3]\n",
        "  my_list2 = my_list1\n",
        "  my_list2.append(4)\n",
        "  print(my_list1)  # Output: [1, 2, 3, 4] (both references point to the same object)\n",
        "  ```\n",
        "  \n",
        "- **Immutable Objects**: Changes result in a new object being created.\n",
        "  ```python\n",
        "  my_str1 = \"hello\"\n",
        "  my_str2 = my_str1\n",
        "  my_str2 = my_str2.upper()\n",
        "  print(my_str1)  # Output: hello (unchanged)\n",
        "  print(my_str2)  # Output: HELLO (new object created)\n",
        "  ```\n",
        "\n",
        "---\n",
        "\n",
        "### Why It Matters\n",
        "\n",
        "1. **Performance**: Immutable objects are often faster because they are fixed and can be optimized by Python.\n",
        "2. **Thread-Safety**: Immutable objects are inherently thread-safe, making them useful in concurrent programming.\n",
        "3. **Data Integrity**: Keys in dictionaries or elements in sets must be immutable to maintain consistency.\n",
        "\n",
        "---\n",
        "\n",
        "### Summary Table of Common Types\n",
        "\n",
        "| **Type**       | **Mutable** | **Immutable** |\n",
        "|----------------|-------------|---------------|\n",
        "| **Numbers**    | ✖️          | ✔️            |\n",
        "| **Strings**    | ✖️          | ✔️            |\n",
        "| **Tuples**     | ✖️          | ✔️            |\n",
        "| **Lists**      | ✔️          | ✖️            |\n",
        "| **Dictionaries** | ✔️        | ✖️            |\n",
        "| **Sets**       | ✔️          | ✖️            |\n",
        "| **Frozensets** | ✖️          | ✔️            |\n",
        "\n",
        "Understanding mutability helps you write efficient and error-free code by using the right data structure for the task."
      ],
      "metadata": {
        "id": "_-QfdYhNizom"
      }
    },
    {
      "cell_type": "code",
      "source": [],
      "metadata": {
        "id": "0vT2Wb4ci4uM"
      },
      "execution_count": null,
      "outputs": []
    }
  ]
}