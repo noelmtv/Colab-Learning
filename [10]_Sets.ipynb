{
  "nbformat": 4,
  "nbformat_minor": 0,
  "metadata": {
    "colab": {
      "provenance": [],
      "authorship_tag": "ABX9TyPTIhlfISiBxm64RiqbaHHq",
      "include_colab_link": true
    },
    "kernelspec": {
      "name": "python3",
      "display_name": "Python 3"
    },
    "language_info": {
      "name": "python"
    }
  },
  "cells": [
    {
      "cell_type": "markdown",
      "metadata": {
        "id": "view-in-github",
        "colab_type": "text"
      },
      "source": [
        "<a href=\"https://colab.research.google.com/github/noelmtv/Colab-Learning/blob/Pyhon-for-Data-Analytics/%5B10%5D_Sets.ipynb\" target=\"_parent\"><img src=\"https://colab.research.google.com/assets/colab-badge.svg\" alt=\"Open In Colab\"/></a>"
      ]
    },
    {
      "cell_type": "markdown",
      "source": [
        "### **What Are Sets in Python?**\n",
        "A **set** in Python is an **unordered** collection of **unique** items. It’s a powerful data structure when you need to store distinct elements and perform operations like unions, intersections, and differences.\n",
        "\n",
        "- **Unordered**: Items in a set do not have a specific order.\n",
        "- **Unique**: Duplicate elements are automatically removed.\n",
        "- **Mutable**: You can add or remove elements from a set, but its elements must be immutable (e.g., numbers, strings, tuples).\n",
        "\n",
        "---\n",
        "\n",
        "### **Syntax**\n",
        "```python\n",
        "my_set = {1, 2, 3}\n",
        "```\n",
        "Or, use the `set()` constructor:\n",
        "```python\n",
        "my_set = set([1, 2, 3])\n",
        "```\n",
        "\n",
        "---\n",
        "\n",
        "### **Why Use Sets?**\n",
        "- To eliminate duplicates from a list.\n",
        "- To perform mathematical operations like union, intersection, and difference.\n",
        "- To check for membership quickly.\n",
        "\n",
        "---\n",
        "\n",
        "### **Sets in Google Colab**\n",
        "In Google Colab, working with sets is the same as any Python environment. Colab makes it easy to visualize the results of set operations, which is helpful for learning.\n",
        "\n",
        "---\n",
        "\n",
        "### **Key Operations with Examples**\n",
        "1. **Creating a Set**\n",
        "   ```python\n",
        "   fruits = {\"apple\", \"banana\", \"cherry\"}\n",
        "   print(fruits)\n",
        "   ```\n",
        "\n",
        "2. **Adding Elements**\n",
        "   ```python\n",
        "   fruits.add(\"orange\")\n",
        "   print(fruits)\n",
        "   ```\n",
        "\n",
        "3. **Removing Elements**\n",
        "   ```python\n",
        "   fruits.remove(\"banana\")  # Throws an error if the item is not found\n",
        "   print(fruits)\n",
        "\n",
        "   # Use discard() to avoid errors if the item is not found\n",
        "   fruits.discard(\"mango\")\n",
        "   print(fruits)\n",
        "   ```\n",
        "\n",
        "4. **Checking Membership**\n",
        "   ```python\n",
        "   print(\"apple\" in fruits)  # True\n",
        "   print(\"grape\" in fruits)  # False\n",
        "   ```\n",
        "\n",
        "5. **Union of Sets**\n",
        "   Combines all unique elements from two sets.\n",
        "   ```python\n",
        "   set1 = {1, 2, 3}\n",
        "   set2 = {3, 4, 5}\n",
        "   print(set1 | set2)  # {1, 2, 3, 4, 5}\n",
        "   ```\n",
        "\n",
        "6. **Intersection of Sets**\n",
        "   Finds common elements between two sets.\n",
        "   ```python\n",
        "   print(set1 & set2)  # {3}\n",
        "   ```\n",
        "\n",
        "7. **Difference of Sets**\n",
        "   Finds elements in one set but not in another.\n",
        "   ```python\n",
        "   print(set1 - set2)  # {1, 2}\n",
        "   ```\n",
        "\n",
        "8. **Symmetric Difference**\n",
        "   Finds elements in either set but not in both.\n",
        "   ```python\n",
        "   print(set1 ^ set2)  # {1, 2, 4, 5}\n",
        "   ```\n",
        "\n",
        "9. **Converting a List to a Set to Remove Duplicates**\n",
        "   ```python\n",
        "   numbers = [1, 2, 2, 3, 4, 4, 5]\n",
        "   unique_numbers = set(numbers)\n",
        "   print(unique_numbers)  # {1, 2, 3, 4, 5}\n",
        "   ```\n",
        "\n",
        "---\n",
        "\n",
        "### **Practical Example in Colab**\n",
        "Here’s a hands-on example to try in Google Colab:\n",
        "\n",
        "```python\n",
        "# Create two sets\n",
        "class_A = {\"Alice\", \"Bob\", \"Charlie\"}\n",
        "class_B = {\"Charlie\", \"David\", \"Eve\"}\n",
        "\n",
        "# Union: Students in either class\n",
        "print(\"Union:\", class_A | class_B)\n",
        "\n",
        "# Intersection: Students in both classes\n",
        "print(\"Intersection:\", class_A & class_B)\n",
        "\n",
        "# Difference: Students only in class_A\n",
        "print(\"Difference (A - B):\", class_A - class_B)\n",
        "\n",
        "# Symmetric Difference: Students in one class but not both\n",
        "print(\"Symmetric Difference:\", class_A ^ class_B)\n",
        "\n",
        "# Check membership\n",
        "if \"Alice\" in class_B:\n",
        "    print(\"Alice is in Class B\")\n",
        "else:\n",
        "    print(\"Alice is NOT in Class B\")\n",
        "```\n",
        "\n",
        "---\n",
        "\n",
        "### **Why Sets Are Great in Colab**\n",
        "- Sets are lightweight and fast for membership testing.\n",
        "- They simplify complex operations, such as finding common or unique elements between groups.\n",
        "\n",
        "Would you like to explore advanced use cases for sets, like handling large datasets or using them in combination with other data structures?"
      ],
      "metadata": {
        "id": "CvCsWw_ozHKq"
      }
    },
    {
      "cell_type": "code",
      "source": [],
      "metadata": {
        "id": "WFJvo7Zl1un_"
      },
      "execution_count": null,
      "outputs": []
    },
    {
      "cell_type": "markdown",
      "source": [
        "# Lecture Practice"
      ],
      "metadata": {
        "id": "1GGFnjNs1vYg"
      }
    },
    {
      "cell_type": "code",
      "source": [
        "job_skills = {\"Python\", \"SQL\", \"R\", \"Tableau\", \"Power BI\"}\n",
        "print(job_skills)"
      ],
      "metadata": {
        "colab": {
          "base_uri": "https://localhost:8080/"
        },
        "id": "qNFB3fD41zOT",
        "outputId": "a6403983-f555-49ab-bce7-09b7a6841d85"
      },
      "execution_count": null,
      "outputs": [
        {
          "output_type": "stream",
          "name": "stdout",
          "text": [
            "{'Power BI', 'SQL', 'R', 'Tableau', 'Python'}\n"
          ]
        }
      ]
    },
    {
      "cell_type": "code",
      "source": [
        "job_skills\n",
        "# sets do organize their contents but dont always expect it to be ordered the way you expect"
      ],
      "metadata": {
        "colab": {
          "base_uri": "https://localhost:8080/"
        },
        "id": "kwiBB6SG1_dA",
        "outputId": "31e32ff8-b949-4a47-d7f0-b27db14655a5"
      },
      "execution_count": null,
      "outputs": [
        {
          "output_type": "execute_result",
          "data": {
            "text/plain": [
              "{'Power BI', 'Python', 'R', 'SQL', 'Tableau'}"
            ]
          },
          "metadata": {},
          "execution_count": 2
        }
      ]
    },
    {
      "cell_type": "code",
      "source": [
        "job_skills[1]"
      ],
      "metadata": {
        "colab": {
          "base_uri": "https://localhost:8080/",
          "height": 141
        },
        "id": "7vpraUOy2PYG",
        "outputId": "bfa84412-2d5c-4e2e-f532-4e877789dfb0"
      },
      "execution_count": null,
      "outputs": [
        {
          "output_type": "error",
          "ename": "TypeError",
          "evalue": "'set' object is not subscriptable",
          "traceback": [
            "\u001b[0;31m---------------------------------------------------------------------------\u001b[0m",
            "\u001b[0;31mTypeError\u001b[0m                                 Traceback (most recent call last)",
            "\u001b[0;32m<ipython-input-3-3d04ec98df8a>\u001b[0m in \u001b[0;36m<cell line: 0>\u001b[0;34m()\u001b[0m\n\u001b[0;32m----> 1\u001b[0;31m \u001b[0mjob_skills\u001b[0m\u001b[0;34m[\u001b[0m\u001b[0;36m1\u001b[0m\u001b[0;34m]\u001b[0m\u001b[0;34m\u001b[0m\u001b[0;34m\u001b[0m\u001b[0m\n\u001b[0m",
            "\u001b[0;31mTypeError\u001b[0m: 'set' object is not subscriptable"
          ]
        }
      ]
    },
    {
      "cell_type": "code",
      "source": [
        "# sets are not indexed"
      ],
      "metadata": {
        "id": "WnTiY5Ky2oTM"
      },
      "execution_count": null,
      "outputs": []
    },
    {
      "cell_type": "code",
      "source": [
        "help(set)"
      ],
      "metadata": {
        "colab": {
          "base_uri": "https://localhost:8080/"
        },
        "id": "7cvq7wsv2sGo",
        "outputId": "b06e6a97-c519-41c8-d9a1-a37e2534114d"
      },
      "execution_count": null,
      "outputs": [
        {
          "output_type": "stream",
          "name": "stdout",
          "text": [
            "Help on class set in module builtins:\n",
            "\n",
            "class set(object)\n",
            " |  set() -> new empty set object\n",
            " |  set(iterable) -> new set object\n",
            " |  \n",
            " |  Build an unordered collection of unique elements.\n",
            " |  \n",
            " |  Methods defined here:\n",
            " |  \n",
            " |  __and__(self, value, /)\n",
            " |      Return self&value.\n",
            " |  \n",
            " |  __contains__(...)\n",
            " |      x.__contains__(y) <==> y in x.\n",
            " |  \n",
            " |  __eq__(self, value, /)\n",
            " |      Return self==value.\n",
            " |  \n",
            " |  __ge__(self, value, /)\n",
            " |      Return self>=value.\n",
            " |  \n",
            " |  __getattribute__(self, name, /)\n",
            " |      Return getattr(self, name).\n",
            " |  \n",
            " |  __gt__(self, value, /)\n",
            " |      Return self>value.\n",
            " |  \n",
            " |  __iand__(self, value, /)\n",
            " |      Return self&=value.\n",
            " |  \n",
            " |  __init__(self, /, *args, **kwargs)\n",
            " |      Initialize self.  See help(type(self)) for accurate signature.\n",
            " |  \n",
            " |  __ior__(self, value, /)\n",
            " |      Return self|=value.\n",
            " |  \n",
            " |  __isub__(self, value, /)\n",
            " |      Return self-=value.\n",
            " |  \n",
            " |  __iter__(self, /)\n",
            " |      Implement iter(self).\n",
            " |  \n",
            " |  __ixor__(self, value, /)\n",
            " |      Return self^=value.\n",
            " |  \n",
            " |  __le__(self, value, /)\n",
            " |      Return self<=value.\n",
            " |  \n",
            " |  __len__(self, /)\n",
            " |      Return len(self).\n",
            " |  \n",
            " |  __lt__(self, value, /)\n",
            " |      Return self<value.\n",
            " |  \n",
            " |  __ne__(self, value, /)\n",
            " |      Return self!=value.\n",
            " |  \n",
            " |  __or__(self, value, /)\n",
            " |      Return self|value.\n",
            " |  \n",
            " |  __rand__(self, value, /)\n",
            " |      Return value&self.\n",
            " |  \n",
            " |  __reduce__(...)\n",
            " |      Return state information for pickling.\n",
            " |  \n",
            " |  __repr__(self, /)\n",
            " |      Return repr(self).\n",
            " |  \n",
            " |  __ror__(self, value, /)\n",
            " |      Return value|self.\n",
            " |  \n",
            " |  __rsub__(self, value, /)\n",
            " |      Return value-self.\n",
            " |  \n",
            " |  __rxor__(self, value, /)\n",
            " |      Return value^self.\n",
            " |  \n",
            " |  __sizeof__(...)\n",
            " |      S.__sizeof__() -> size of S in memory, in bytes\n",
            " |  \n",
            " |  __sub__(self, value, /)\n",
            " |      Return self-value.\n",
            " |  \n",
            " |  __xor__(self, value, /)\n",
            " |      Return self^value.\n",
            " |  \n",
            " |  add(...)\n",
            " |      Add an element to a set.\n",
            " |      \n",
            " |      This has no effect if the element is already present.\n",
            " |  \n",
            " |  clear(...)\n",
            " |      Remove all elements from this set.\n",
            " |  \n",
            " |  copy(...)\n",
            " |      Return a shallow copy of a set.\n",
            " |  \n",
            " |  difference(...)\n",
            " |      Return the difference of two or more sets as a new set.\n",
            " |      \n",
            " |      (i.e. all elements that are in this set but not the others.)\n",
            " |  \n",
            " |  difference_update(...)\n",
            " |      Remove all elements of another set from this set.\n",
            " |  \n",
            " |  discard(...)\n",
            " |      Remove an element from a set if it is a member.\n",
            " |      \n",
            " |      Unlike set.remove(), the discard() method does not raise\n",
            " |      an exception when an element is missing from the set.\n",
            " |  \n",
            " |  intersection(...)\n",
            " |      Return the intersection of two sets as a new set.\n",
            " |      \n",
            " |      (i.e. all elements that are in both sets.)\n",
            " |  \n",
            " |  intersection_update(...)\n",
            " |      Update a set with the intersection of itself and another.\n",
            " |  \n",
            " |  isdisjoint(...)\n",
            " |      Return True if two sets have a null intersection.\n",
            " |  \n",
            " |  issubset(self, other, /)\n",
            " |      Test whether every element in the set is in other.\n",
            " |  \n",
            " |  issuperset(self, other, /)\n",
            " |      Test whether every element in other is in the set.\n",
            " |  \n",
            " |  pop(...)\n",
            " |      Remove and return an arbitrary set element.\n",
            " |      Raises KeyError if the set is empty.\n",
            " |  \n",
            " |  remove(...)\n",
            " |      Remove an element from a set; it must be a member.\n",
            " |      \n",
            " |      If the element is not a member, raise a KeyError.\n",
            " |  \n",
            " |  symmetric_difference(...)\n",
            " |      Return the symmetric difference of two sets as a new set.\n",
            " |      \n",
            " |      (i.e. all elements that are in exactly one of the sets.)\n",
            " |  \n",
            " |  symmetric_difference_update(...)\n",
            " |      Update a set with the symmetric difference of itself and another.\n",
            " |  \n",
            " |  union(...)\n",
            " |      Return the union of sets as a new set.\n",
            " |      \n",
            " |      (i.e. all elements that are in either set.)\n",
            " |  \n",
            " |  update(...)\n",
            " |      Update a set with the union of itself and others.\n",
            " |  \n",
            " |  ----------------------------------------------------------------------\n",
            " |  Class methods defined here:\n",
            " |  \n",
            " |  __class_getitem__(...)\n",
            " |      See PEP 585\n",
            " |  \n",
            " |  ----------------------------------------------------------------------\n",
            " |  Static methods defined here:\n",
            " |  \n",
            " |  __new__(*args, **kwargs)\n",
            " |      Create and return a new object.  See help(type) for accurate signature.\n",
            " |  \n",
            " |  ----------------------------------------------------------------------\n",
            " |  Data and other attributes defined here:\n",
            " |  \n",
            " |  __hash__ = None\n",
            "\n"
          ]
        }
      ]
    },
    {
      "cell_type": "code",
      "source": [
        "job_skills.add('Looker')"
      ],
      "metadata": {
        "id": "NVkHLTrG2v0U"
      },
      "execution_count": null,
      "outputs": []
    },
    {
      "cell_type": "code",
      "source": [
        "job_skills"
      ],
      "metadata": {
        "colab": {
          "base_uri": "https://localhost:8080/"
        },
        "id": "AQ0ZtwAP2z_9",
        "outputId": "67f3c481-0a64-444f-9d74-2c01400ae89a"
      },
      "execution_count": null,
      "outputs": [
        {
          "output_type": "execute_result",
          "data": {
            "text/plain": [
              "{'Looker', 'Power BI', 'Python', 'R', 'SQL', 'Tableau'}"
            ]
          },
          "metadata": {},
          "execution_count": 7
        }
      ]
    },
    {
      "cell_type": "code",
      "source": [
        "job_skills.add(\"SQL\")"
      ],
      "metadata": {
        "id": "4yGM98RC22LK"
      },
      "execution_count": null,
      "outputs": []
    },
    {
      "cell_type": "code",
      "source": [
        "job_skills"
      ],
      "metadata": {
        "colab": {
          "base_uri": "https://localhost:8080/"
        },
        "id": "DtLgZJul27ss",
        "outputId": "d8623637-b0ab-482c-b896-67669d0a8ef9"
      },
      "execution_count": null,
      "outputs": [
        {
          "output_type": "execute_result",
          "data": {
            "text/plain": [
              "{'Looker', 'Power BI', 'Python', 'R', 'SQL', 'Tableau'}"
            ]
          },
          "metadata": {},
          "execution_count": 9
        }
      ]
    },
    {
      "cell_type": "code",
      "source": [
        "# notice \"SQL\" is not repeated, sets only contain unique values"
      ],
      "metadata": {
        "id": "2j6SkVOr282j"
      },
      "execution_count": null,
      "outputs": []
    },
    {
      "cell_type": "code",
      "source": [
        "job_skills.pop(\"Tableau\")"
      ],
      "metadata": {
        "colab": {
          "base_uri": "https://localhost:8080/",
          "height": 141
        },
        "id": "Pi6PxqiK3G2d",
        "outputId": "64ed6c46-b870-4bd4-b797-a6aabd2787c2"
      },
      "execution_count": null,
      "outputs": [
        {
          "output_type": "error",
          "ename": "TypeError",
          "evalue": "set.pop() takes no arguments (1 given)",
          "traceback": [
            "\u001b[0;31m---------------------------------------------------------------------------\u001b[0m",
            "\u001b[0;31mTypeError\u001b[0m                                 Traceback (most recent call last)",
            "\u001b[0;32m<ipython-input-11-884c3d351a61>\u001b[0m in \u001b[0;36m<cell line: 0>\u001b[0;34m()\u001b[0m\n\u001b[0;32m----> 1\u001b[0;31m \u001b[0mjob_skills\u001b[0m\u001b[0;34m.\u001b[0m\u001b[0mpop\u001b[0m\u001b[0;34m(\u001b[0m\u001b[0;34m\"Tableau\"\u001b[0m\u001b[0;34m)\u001b[0m\u001b[0;34m\u001b[0m\u001b[0;34m\u001b[0m\u001b[0m\n\u001b[0m",
            "\u001b[0;31mTypeError\u001b[0m: set.pop() takes no arguments (1 given)"
          ]
        }
      ]
    },
    {
      "cell_type": "code",
      "source": [
        "# no index and unordered so pop fuction is randomised\n",
        "job_skills.pop()"
      ],
      "metadata": {
        "colab": {
          "base_uri": "https://localhost:8080/",
          "height": 35
        },
        "id": "oxiE-BFF3PMT",
        "outputId": "313e2948-2961-4aaf-e09a-3adcf998156c"
      },
      "execution_count": null,
      "outputs": [
        {
          "output_type": "execute_result",
          "data": {
            "text/plain": [
              "'Power BI'"
            ],
            "application/vnd.google.colaboratory.intrinsic+json": {
              "type": "string"
            }
          },
          "metadata": {},
          "execution_count": 13
        }
      ]
    },
    {
      "cell_type": "code",
      "source": [
        "job_skills\n",
        "# Power BI randomly removed"
      ],
      "metadata": {
        "colab": {
          "base_uri": "https://localhost:8080/"
        },
        "id": "uz3GO8Pz3tlF",
        "outputId": "8fb43046-790f-46a1-e5df-b0304c4e0cd8"
      },
      "execution_count": null,
      "outputs": [
        {
          "output_type": "execute_result",
          "data": {
            "text/plain": [
              "{'Looker', 'Python', 'R', 'SQL', 'Tableau'}"
            ]
          },
          "metadata": {},
          "execution_count": 14
        }
      ]
    },
    {
      "cell_type": "code",
      "source": [
        "job_skills.remove(\"R\")"
      ],
      "metadata": {
        "id": "-Z6YrbGb3zsI"
      },
      "execution_count": null,
      "outputs": []
    },
    {
      "cell_type": "code",
      "source": [
        "job_skills\n",
        "# R properly removed"
      ],
      "metadata": {
        "colab": {
          "base_uri": "https://localhost:8080/"
        },
        "id": "LqbSWUpv3_6S",
        "outputId": "eeb6b7a5-ccd7-4e4b-edfa-ade4e5e342f7"
      },
      "execution_count": null,
      "outputs": [
        {
          "output_type": "execute_result",
          "data": {
            "text/plain": [
              "{'Looker', 'Python', 'SQL', 'Tableau'}"
            ]
          },
          "metadata": {},
          "execution_count": 17
        }
      ]
    },
    {
      "cell_type": "markdown",
      "source": [
        "## Converting lists into sets"
      ],
      "metadata": {
        "id": "Y1oI7BOP4bjx"
      }
    },
    {
      "cell_type": "code",
      "source": [
        "skill_list = [\"Python\", \"SQL\", \"R\", \"Tableau\", \"Power BI\", \"Python\", \"SQL\"]"
      ],
      "metadata": {
        "id": "K3j5cGlh4jTB"
      },
      "execution_count": null,
      "outputs": []
    },
    {
      "cell_type": "code",
      "source": [
        "set(skill_list)\n",
        "# see how the set organises the list and removes duplicates"
      ],
      "metadata": {
        "colab": {
          "base_uri": "https://localhost:8080/"
        },
        "id": "4H9Vb27i4p_W",
        "outputId": "aa487145-a5d1-461a-e07a-ef68b0c746b6"
      },
      "execution_count": null,
      "outputs": [
        {
          "output_type": "execute_result",
          "data": {
            "text/plain": [
              "{'Power BI', 'Python', 'R', 'SQL', 'Tableau'}"
            ]
          },
          "metadata": {},
          "execution_count": 21
        }
      ]
    },
    {
      "cell_type": "code",
      "source": [
        "list(set(skill_list))\n",
        "# now we convert the set bak into a list after cleaning it up"
      ],
      "metadata": {
        "colab": {
          "base_uri": "https://localhost:8080/"
        },
        "id": "PBExQAOH4rno",
        "outputId": "6dc0f0dd-91b4-4a2c-817a-091472bb2fa8"
      },
      "execution_count": null,
      "outputs": [
        {
          "output_type": "execute_result",
          "data": {
            "text/plain": [
              "['Power BI', 'Python', 'SQL', 'R', 'Tableau']"
            ]
          },
          "metadata": {},
          "execution_count": 22
        }
      ]
    }
  ]
}