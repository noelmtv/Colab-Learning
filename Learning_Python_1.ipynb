{
  "nbformat": 4,
  "nbformat_minor": 0,
  "metadata": {
    "colab": {
      "provenance": [],
      "authorship_tag": "ABX9TyOV2DSL0JgyJU9nWOD2cf1P",
      "include_colab_link": true
    },
    "kernelspec": {
      "name": "python3",
      "display_name": "Python 3"
    },
    "language_info": {
      "name": "python"
    }
  },
  "cells": [
    {
      "cell_type": "markdown",
      "metadata": {
        "id": "view-in-github",
        "colab_type": "text"
      },
      "source": [
        "<a href=\"https://colab.research.google.com/github/noelmtv/Colab-Learning/blob/main/Learning_Python_1.ipynb\" target=\"_parent\"><img src=\"https://colab.research.google.com/assets/colab-badge.svg\" alt=\"Open In Colab\"/></a>"
      ]
    },
    {
      "cell_type": "code",
      "execution_count": 4,
      "metadata": {
        "colab": {
          "base_uri": "https://localhost:8080/"
        },
        "id": "ZAUpYuS_22If",
        "outputId": "04c7b854-72d0-41e4-e7cc-57e6ce024275"
      },
      "outputs": [
        {
          "output_type": "stream",
          "name": "stdout",
          "text": [
            "Hello Noel\n",
            "<class 'str'>\n"
          ]
        },
        {
          "output_type": "execute_result",
          "data": {
            "text/plain": [
              "0.6666666666666667"
            ]
          },
          "metadata": {},
          "execution_count": 4
        }
      ],
      "source": [
        "name = 'Noel'\n",
        "print(\"Hello\",name)\n",
        "print(type(name))\n",
        "0.3+0.2\n",
        "0.2/0.3"
      ]
    },
    {
      "cell_type": "code",
      "source": [
        "print(\"Hey there 😃\")\n",
        "name = input(\"What is your name ?\")\n",
        "print(\"Nice to meet you\",name)\n",
        "\n",
        "Answer = input(\"Where are you from?\")\n",
        "if Answer == \"Zimbabwe\" or \"South Africa\" or \"Australia\":\n",
        "  print(\"I used to stay there myself 😀\")\n",
        "else:\n",
        "  print(\"Thats interesting, tell me what its like to live there.\")"
      ],
      "metadata": {
        "colab": {
          "base_uri": "https://localhost:8080/"
        },
        "id": "ETDaVjZX79wX",
        "outputId": "18d4db9a-5a3e-40d8-e60c-fa12634f2105"
      },
      "execution_count": 8,
      "outputs": [
        {
          "output_type": "stream",
          "name": "stdout",
          "text": [
            "Hey there 😃\n",
            "What is your name ?Noel\n",
            "Nice to meet you Noel\n",
            "Where are you from?Zimbabwe\n",
            "I used to stay there myself 😀\n"
          ]
        }
      ]
    }
  ]
}